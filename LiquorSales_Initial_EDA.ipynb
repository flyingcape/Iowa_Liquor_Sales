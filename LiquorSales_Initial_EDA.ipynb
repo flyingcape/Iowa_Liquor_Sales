{
 "cells": [
  {
   "cell_type": "code",
   "execution_count": 156,
   "id": "6770d701",
   "metadata": {},
   "outputs": [],
   "source": [
    "import matplotlib as mpl\n",
    "import matplotlib.pyplot as plt\n",
    "import numpy as np\n",
    "import pandas as pd\n",
    "import seaborn as sns\n",
    "import sqlite3\n",
    "\n",
    "plt.style.use('ggplot')\n",
    "plt.rcParams.update({'font.size': 12})"
   ]
  },
  {
   "cell_type": "code",
   "execution_count": 157,
   "id": "e9231640",
   "metadata": {},
   "outputs": [],
   "source": [
    "pd.set_option('display.max_rows', 500)\n",
    "pd.set_option('display.max_columns', 500)"
   ]
  },
  {
   "cell_type": "markdown",
   "id": "b8bcc20b",
   "metadata": {},
   "source": [
    "# Data Analysis"
   ]
  },
  {
   "cell_type": "code",
   "execution_count": 158,
   "id": "8046dd50",
   "metadata": {},
   "outputs": [],
   "source": [
    "# Connect SQLite.\n",
    "dbconn = sqlite3.connect('../data/IowaLiquorSales.db')\n",
    "cursor = dbconn.cursor()\n",
    "\n",
    "# Pull Store database.\n",
    "query = '''SELECT Sales.Date, Sales.ProductID, Sales.StoreID, Sales.VolumeSold_Liters, Sales.Sale_Dollars, Store.County, Store.lat, Store.lng, Store.active, Product.CategoryGroup\n",
    "              FROM ((Sales \n",
    "              INNER JOIN Product ON Sales.ProductID=Product.ProductID)\n",
    "              INNER JOIN Store ON Sales.StoreID=Store.StoreID)\n",
    "              WHERE Sales.Date BETWEEN '2017-01-01' AND '2021-12-31';'''\n",
    "cursor.execute(query)\n",
    "result = cursor.fetchall()\n",
    "cursor.close()\n",
    "dbconn.close()"
   ]
  },
  {
   "cell_type": "code",
   "execution_count": 159,
   "id": "577bd92c",
   "metadata": {},
   "outputs": [],
   "source": [
    "# Put the database in a data frame format.\n",
    "temp = pd.DataFrame(result, columns = ['Date',\n",
    "                                       'ProductID',\n",
    "                                       'StoreID',\n",
    "                                       'VolumeSold_Liters', \n",
    "                                       'Sale_Dollars', \n",
    "                                       'County', \n",
    "                                       'lat',\n",
    "                                       'lng', \n",
    "                                       'active', \n",
    "                                       'CategoryGroup'])"
   ]
  },
  {
   "cell_type": "code",
   "execution_count": 160,
   "id": "ed2e69b7",
   "metadata": {
    "scrolled": true
   },
   "outputs": [
    {
     "data": {
      "text/html": [
       "<div>\n",
       "<style scoped>\n",
       "    .dataframe tbody tr th:only-of-type {\n",
       "        vertical-align: middle;\n",
       "    }\n",
       "\n",
       "    .dataframe tbody tr th {\n",
       "        vertical-align: top;\n",
       "    }\n",
       "\n",
       "    .dataframe thead th {\n",
       "        text-align: right;\n",
       "    }\n",
       "</style>\n",
       "<table border=\"1\" class=\"dataframe\">\n",
       "  <thead>\n",
       "    <tr style=\"text-align: right;\">\n",
       "      <th></th>\n",
       "      <th>Date</th>\n",
       "      <th>ProductID</th>\n",
       "      <th>StoreID</th>\n",
       "      <th>VolumeSold_Liters</th>\n",
       "      <th>Sale_Dollars</th>\n",
       "      <th>County</th>\n",
       "      <th>lat</th>\n",
       "      <th>lng</th>\n",
       "      <th>active</th>\n",
       "      <th>CategoryGroup</th>\n",
       "    </tr>\n",
       "  </thead>\n",
       "  <tbody>\n",
       "    <tr>\n",
       "      <th>0</th>\n",
       "      <td>2018-09-04</td>\n",
       "      <td>26826</td>\n",
       "      <td>4617</td>\n",
       "      <td>3.00</td>\n",
       "      <td>93.44</td>\n",
       "      <td>polk</td>\n",
       "      <td>41.60774</td>\n",
       "      <td>-93.57014</td>\n",
       "      <td>Active</td>\n",
       "      <td>whisky</td>\n",
       "    </tr>\n",
       "    <tr>\n",
       "      <th>1</th>\n",
       "      <td>2019-03-19</td>\n",
       "      <td>26826</td>\n",
       "      <td>2513</td>\n",
       "      <td>18.00</td>\n",
       "      <td>560.64</td>\n",
       "      <td>johnson</td>\n",
       "      <td>41.65143</td>\n",
       "      <td>-91.50105</td>\n",
       "      <td>Active</td>\n",
       "      <td>whisky</td>\n",
       "    </tr>\n",
       "    <tr>\n",
       "      <th>2</th>\n",
       "      <td>2019-05-15</td>\n",
       "      <td>86251</td>\n",
       "      <td>5068</td>\n",
       "      <td>12.00</td>\n",
       "      <td>43.56</td>\n",
       "      <td>dickinson</td>\n",
       "      <td>43.36136</td>\n",
       "      <td>-95.13954</td>\n",
       "      <td>Active</td>\n",
       "      <td>liqueur</td>\n",
       "    </tr>\n",
       "    <tr>\n",
       "      <th>3</th>\n",
       "      <td>2019-05-16</td>\n",
       "      <td>89566</td>\n",
       "      <td>2588</td>\n",
       "      <td>0.75</td>\n",
       "      <td>19.89</td>\n",
       "      <td>linn</td>\n",
       "      <td>41.97518</td>\n",
       "      <td>-91.60977</td>\n",
       "      <td>Active</td>\n",
       "      <td>tequila</td>\n",
       "    </tr>\n",
       "    <tr>\n",
       "      <th>4</th>\n",
       "      <td>2019-05-15</td>\n",
       "      <td>35926</td>\n",
       "      <td>2647</td>\n",
       "      <td>9.00</td>\n",
       "      <td>60.72</td>\n",
       "      <td>linn</td>\n",
       "      <td>41.93023</td>\n",
       "      <td>-91.71520</td>\n",
       "      <td>Active</td>\n",
       "      <td>vodka</td>\n",
       "    </tr>\n",
       "  </tbody>\n",
       "</table>\n",
       "</div>"
      ],
      "text/plain": [
       "         Date ProductID  StoreID  VolumeSold_Liters  Sale_Dollars     County  \\\n",
       "0  2018-09-04     26826     4617               3.00         93.44       polk   \n",
       "1  2019-03-19     26826     2513              18.00        560.64    johnson   \n",
       "2  2019-05-15     86251     5068              12.00         43.56  dickinson   \n",
       "3  2019-05-16     89566     2588               0.75         19.89       linn   \n",
       "4  2019-05-15     35926     2647               9.00         60.72       linn   \n",
       "\n",
       "        lat       lng  active CategoryGroup  \n",
       "0  41.60774 -93.57014  Active        whisky  \n",
       "1  41.65143 -91.50105  Active        whisky  \n",
       "2  43.36136 -95.13954  Active       liqueur  \n",
       "3  41.97518 -91.60977  Active       tequila  \n",
       "4  41.93023 -91.71520  Active         vodka  "
      ]
     },
     "execution_count": 160,
     "metadata": {},
     "output_type": "execute_result"
    }
   ],
   "source": [
    "temp.head()"
   ]
  },
  {
   "cell_type": "code",
   "execution_count": 161,
   "id": "5dd9b758",
   "metadata": {},
   "outputs": [
    {
     "data": {
      "text/plain": [
       "12263737"
      ]
     },
     "execution_count": 161,
     "metadata": {},
     "output_type": "execute_result"
    }
   ],
   "source": [
    "temp.shape[0]"
   ]
  },
  {
   "cell_type": "code",
   "execution_count": 162,
   "id": "f073e525",
   "metadata": {},
   "outputs": [
    {
     "data": {
      "text/plain": [
       "'2017-01-03'"
      ]
     },
     "execution_count": 162,
     "metadata": {},
     "output_type": "execute_result"
    }
   ],
   "source": [
    "temp['Date'].min()"
   ]
  },
  {
   "cell_type": "code",
   "execution_count": 163,
   "id": "e3a35682",
   "metadata": {},
   "outputs": [
    {
     "data": {
      "text/plain": [
       "'2021-12-31'"
      ]
     },
     "execution_count": 163,
     "metadata": {},
     "output_type": "execute_result"
    }
   ],
   "source": [
    "temp['Date'].max()"
   ]
  },
  {
   "cell_type": "code",
   "execution_count": 164,
   "id": "9490626d",
   "metadata": {},
   "outputs": [],
   "source": [
    "temp['Date'] = pd.to_datetime(temp['Date'])\n",
    "temp['Year'] = pd.to_datetime(temp['Date']).dt.year\n",
    "temp['Month'] = pd.to_datetime(temp['Date']).dt.month"
   ]
  },
  {
   "cell_type": "code",
   "execution_count": 165,
   "id": "7a0582d4",
   "metadata": {},
   "outputs": [
    {
     "data": {
      "text/html": [
       "<div>\n",
       "<style scoped>\n",
       "    .dataframe tbody tr th:only-of-type {\n",
       "        vertical-align: middle;\n",
       "    }\n",
       "\n",
       "    .dataframe tbody tr th {\n",
       "        vertical-align: top;\n",
       "    }\n",
       "\n",
       "    .dataframe thead th {\n",
       "        text-align: right;\n",
       "    }\n",
       "</style>\n",
       "<table border=\"1\" class=\"dataframe\">\n",
       "  <thead>\n",
       "    <tr style=\"text-align: right;\">\n",
       "      <th></th>\n",
       "      <th>Date</th>\n",
       "      <th>ProductID</th>\n",
       "      <th>StoreID</th>\n",
       "      <th>VolumeSold_Liters</th>\n",
       "      <th>Sale_Dollars</th>\n",
       "      <th>County</th>\n",
       "      <th>lat</th>\n",
       "      <th>lng</th>\n",
       "      <th>active</th>\n",
       "      <th>CategoryGroup</th>\n",
       "      <th>Year</th>\n",
       "      <th>Month</th>\n",
       "    </tr>\n",
       "  </thead>\n",
       "  <tbody>\n",
       "    <tr>\n",
       "      <th>0</th>\n",
       "      <td>2018-09-04</td>\n",
       "      <td>26826</td>\n",
       "      <td>4617</td>\n",
       "      <td>3.00</td>\n",
       "      <td>93.44</td>\n",
       "      <td>polk</td>\n",
       "      <td>41.60774</td>\n",
       "      <td>-93.57014</td>\n",
       "      <td>Active</td>\n",
       "      <td>whisky</td>\n",
       "      <td>2018</td>\n",
       "      <td>9</td>\n",
       "    </tr>\n",
       "    <tr>\n",
       "      <th>1</th>\n",
       "      <td>2019-03-19</td>\n",
       "      <td>26826</td>\n",
       "      <td>2513</td>\n",
       "      <td>18.00</td>\n",
       "      <td>560.64</td>\n",
       "      <td>johnson</td>\n",
       "      <td>41.65143</td>\n",
       "      <td>-91.50105</td>\n",
       "      <td>Active</td>\n",
       "      <td>whisky</td>\n",
       "      <td>2019</td>\n",
       "      <td>3</td>\n",
       "    </tr>\n",
       "    <tr>\n",
       "      <th>2</th>\n",
       "      <td>2019-05-15</td>\n",
       "      <td>86251</td>\n",
       "      <td>5068</td>\n",
       "      <td>12.00</td>\n",
       "      <td>43.56</td>\n",
       "      <td>dickinson</td>\n",
       "      <td>43.36136</td>\n",
       "      <td>-95.13954</td>\n",
       "      <td>Active</td>\n",
       "      <td>liqueur</td>\n",
       "      <td>2019</td>\n",
       "      <td>5</td>\n",
       "    </tr>\n",
       "    <tr>\n",
       "      <th>3</th>\n",
       "      <td>2019-05-16</td>\n",
       "      <td>89566</td>\n",
       "      <td>2588</td>\n",
       "      <td>0.75</td>\n",
       "      <td>19.89</td>\n",
       "      <td>linn</td>\n",
       "      <td>41.97518</td>\n",
       "      <td>-91.60977</td>\n",
       "      <td>Active</td>\n",
       "      <td>tequila</td>\n",
       "      <td>2019</td>\n",
       "      <td>5</td>\n",
       "    </tr>\n",
       "    <tr>\n",
       "      <th>4</th>\n",
       "      <td>2019-05-15</td>\n",
       "      <td>35926</td>\n",
       "      <td>2647</td>\n",
       "      <td>9.00</td>\n",
       "      <td>60.72</td>\n",
       "      <td>linn</td>\n",
       "      <td>41.93023</td>\n",
       "      <td>-91.71520</td>\n",
       "      <td>Active</td>\n",
       "      <td>vodka</td>\n",
       "      <td>2019</td>\n",
       "      <td>5</td>\n",
       "    </tr>\n",
       "  </tbody>\n",
       "</table>\n",
       "</div>"
      ],
      "text/plain": [
       "        Date ProductID  StoreID  VolumeSold_Liters  Sale_Dollars     County  \\\n",
       "0 2018-09-04     26826     4617               3.00         93.44       polk   \n",
       "1 2019-03-19     26826     2513              18.00        560.64    johnson   \n",
       "2 2019-05-15     86251     5068              12.00         43.56  dickinson   \n",
       "3 2019-05-16     89566     2588               0.75         19.89       linn   \n",
       "4 2019-05-15     35926     2647               9.00         60.72       linn   \n",
       "\n",
       "        lat       lng  active CategoryGroup  Year  Month  \n",
       "0  41.60774 -93.57014  Active        whisky  2018      9  \n",
       "1  41.65143 -91.50105  Active        whisky  2019      3  \n",
       "2  43.36136 -95.13954  Active       liqueur  2019      5  \n",
       "3  41.97518 -91.60977  Active       tequila  2019      5  \n",
       "4  41.93023 -91.71520  Active         vodka  2019      5  "
      ]
     },
     "execution_count": 165,
     "metadata": {},
     "output_type": "execute_result"
    }
   ],
   "source": [
    "temp.head()"
   ]
  },
  {
   "cell_type": "code",
   "execution_count": 166,
   "id": "778a2cac",
   "metadata": {},
   "outputs": [
    {
     "data": {
      "text/html": [
       "<div>\n",
       "<style scoped>\n",
       "    .dataframe tbody tr th:only-of-type {\n",
       "        vertical-align: middle;\n",
       "    }\n",
       "\n",
       "    .dataframe tbody tr th {\n",
       "        vertical-align: top;\n",
       "    }\n",
       "\n",
       "    .dataframe thead th {\n",
       "        text-align: right;\n",
       "    }\n",
       "</style>\n",
       "<table border=\"1\" class=\"dataframe\">\n",
       "  <thead>\n",
       "    <tr style=\"text-align: right;\">\n",
       "      <th></th>\n",
       "      <th>Sale_Dollars</th>\n",
       "    </tr>\n",
       "    <tr>\n",
       "      <th>Year</th>\n",
       "      <th></th>\n",
       "    </tr>\n",
       "  </thead>\n",
       "  <tbody>\n",
       "    <tr>\n",
       "      <th>2017</th>\n",
       "      <td>3.145054e+08</td>\n",
       "    </tr>\n",
       "    <tr>\n",
       "      <th>2018</th>\n",
       "      <td>3.342163e+08</td>\n",
       "    </tr>\n",
       "    <tr>\n",
       "      <th>2019</th>\n",
       "      <td>3.492202e+08</td>\n",
       "    </tr>\n",
       "    <tr>\n",
       "      <th>2020</th>\n",
       "      <td>3.966631e+08</td>\n",
       "    </tr>\n",
       "    <tr>\n",
       "      <th>2021</th>\n",
       "      <td>4.281212e+08</td>\n",
       "    </tr>\n",
       "  </tbody>\n",
       "</table>\n",
       "</div>"
      ],
      "text/plain": [
       "      Sale_Dollars\n",
       "Year              \n",
       "2017  3.145054e+08\n",
       "2018  3.342163e+08\n",
       "2019  3.492202e+08\n",
       "2020  3.966631e+08\n",
       "2021  4.281212e+08"
      ]
     },
     "execution_count": 166,
     "metadata": {},
     "output_type": "execute_result"
    }
   ],
   "source": [
    "temp.groupby(['Year']).agg({'Sale_Dollars':'sum'})"
   ]
  },
  {
   "cell_type": "code",
   "execution_count": 167,
   "id": "c63fb215",
   "metadata": {},
   "outputs": [
    {
     "data": {
      "text/html": [
       "<div>\n",
       "<style scoped>\n",
       "    .dataframe tbody tr th:only-of-type {\n",
       "        vertical-align: middle;\n",
       "    }\n",
       "\n",
       "    .dataframe tbody tr th {\n",
       "        vertical-align: top;\n",
       "    }\n",
       "\n",
       "    .dataframe thead th {\n",
       "        text-align: right;\n",
       "    }\n",
       "</style>\n",
       "<table border=\"1\" class=\"dataframe\">\n",
       "  <thead>\n",
       "    <tr style=\"text-align: right;\">\n",
       "      <th></th>\n",
       "      <th>Sale_Dollars</th>\n",
       "    </tr>\n",
       "    <tr>\n",
       "      <th>Month</th>\n",
       "      <th></th>\n",
       "    </tr>\n",
       "  </thead>\n",
       "  <tbody>\n",
       "    <tr>\n",
       "      <th>1</th>\n",
       "      <td>28665135.64</td>\n",
       "    </tr>\n",
       "    <tr>\n",
       "      <th>2</th>\n",
       "      <td>29617805.95</td>\n",
       "    </tr>\n",
       "    <tr>\n",
       "      <th>3</th>\n",
       "      <td>36653388.86</td>\n",
       "    </tr>\n",
       "    <tr>\n",
       "      <th>4</th>\n",
       "      <td>34734584.33</td>\n",
       "    </tr>\n",
       "    <tr>\n",
       "      <th>5</th>\n",
       "      <td>33659554.94</td>\n",
       "    </tr>\n",
       "    <tr>\n",
       "      <th>6</th>\n",
       "      <td>38890929.25</td>\n",
       "    </tr>\n",
       "    <tr>\n",
       "      <th>7</th>\n",
       "      <td>35176467.62</td>\n",
       "    </tr>\n",
       "    <tr>\n",
       "      <th>8</th>\n",
       "      <td>36501798.74</td>\n",
       "    </tr>\n",
       "    <tr>\n",
       "      <th>9</th>\n",
       "      <td>35837061.02</td>\n",
       "    </tr>\n",
       "    <tr>\n",
       "      <th>10</th>\n",
       "      <td>38085762.36</td>\n",
       "    </tr>\n",
       "    <tr>\n",
       "      <th>11</th>\n",
       "      <td>38007977.91</td>\n",
       "    </tr>\n",
       "    <tr>\n",
       "      <th>12</th>\n",
       "      <td>42290767.06</td>\n",
       "    </tr>\n",
       "  </tbody>\n",
       "</table>\n",
       "</div>"
      ],
      "text/plain": [
       "       Sale_Dollars\n",
       "Month              \n",
       "1       28665135.64\n",
       "2       29617805.95\n",
       "3       36653388.86\n",
       "4       34734584.33\n",
       "5       33659554.94\n",
       "6       38890929.25\n",
       "7       35176467.62\n",
       "8       36501798.74\n",
       "9       35837061.02\n",
       "10      38085762.36\n",
       "11      38007977.91\n",
       "12      42290767.06"
      ]
     },
     "execution_count": 167,
     "metadata": {},
     "output_type": "execute_result"
    }
   ],
   "source": [
    "temp[temp['Year']==2021].groupby(['Month']).agg({'Sale_Dollars':'sum'})"
   ]
  },
  {
   "cell_type": "code",
   "execution_count": 139,
   "id": "43121972",
   "metadata": {},
   "outputs": [
    {
     "data": {
      "text/plain": [
       "(1000.0, 2050.0)"
      ]
     },
     "execution_count": 139,
     "metadata": {},
     "output_type": "execute_result"
    },
    {
     "data": {
      "text/plain": [
       "<Figure size 864x720 with 0 Axes>"
      ]
     },
     "metadata": {},
     "output_type": "display_data"
    },
    {
     "data": {
      "image/png": "[encoded data removed]",
      "text/plain": [
       "<Figure size 432x288 with 1 Axes>"
      ]
     },
     "metadata": {},
     "output_type": "display_data"
    },
    {
     "data": {
      "text/plain": [
       "<Figure size 864x720 with 0 Axes>"
      ]
     },
     "metadata": {},
     "output_type": "display_data"
    },
    {
     "data": {
      "image/png": "[encoded data removed]",
      "text/plain": [
       "<Figure size 432x288 with 1 Axes>"
      ]
     },
     "metadata": {},
     "output_type": "display_data"
    },
    {
     "data": {
      "text/plain": [
       "<Figure size 864x720 with 0 Axes>"
      ]
     },
     "metadata": {},
     "output_type": "display_data"
    },
    {
     "data": {
      "image/png": "[encoded data removed]",
      "text/plain": [
       "<Figure size 432x288 with 1 Axes>"
      ]
     },
     "metadata": {},
     "output_type": "display_data"
    }
   ],
   "source": [
    "fig = plt.figure(figsize = (12,10))\n",
    "temp.groupby(['Year']).agg({'Sale_Dollars':'sum'}).plot.barh(color = 'green')\n",
    "plt.xlabel('Annual Sales (Dollars)',fontsize=16, color = 'black')\n",
    "plt.ylabel('Year', fontsize=16, color = 'black', rotation = 90)\n",
    "plt.legend('',frameon=False)\n",
    "\n",
    "fig = plt.figure(figsize = (12,10))\n",
    "temp.groupby('Year').agg({'VolumeSold_Liters':'sum'}).plot.barh(color = 'orange')\n",
    "plt.xlabel('Annual Volume Sold (Liters)',fontsize=16, color = 'black')\n",
    "plt.ylabel('Year', fontsize=16, color = 'black', rotation = 90)\n",
    "plt.legend('',frameon=False)\n",
    "\n",
    "fig = plt.figure(figsize = (12,10))\n",
    "temp.groupby(['Year']).agg({'StoreID':'nunique'}).plot.barh(color='blue')\n",
    "plt.xlabel('Number of Stores',fontsize=16, color = 'black')\n",
    "plt.ylabel('Year', fontsize=16, color = 'black', rotation = 90)\n",
    "plt.legend('',frameon=False)\n",
    "plt.xlim(1000,2050)"
   ]
  },
  {
   "cell_type": "code",
   "execution_count": 82,
   "id": "38b183e6",
   "metadata": {},
   "outputs": [
    {
     "data": {
      "text/plain": [
       "(0.0, 3000000.0)"
      ]
     },
     "execution_count": 82,
     "metadata": {},
     "output_type": "execute_result"
    },
    {
     "data": {
      "text/plain": [
       "<Figure size 864x432 with 0 Axes>"
      ]
     },
     "metadata": {},
     "output_type": "display_data"
    },
    {
     "data": {
      "image/png": "[encoded data removed]",
      "text/plain": [
       "<Figure size 432x288 with 1 Axes>"
      ]
     },
     "metadata": {},
     "output_type": "display_data"
    },
    {
     "data": {
      "text/plain": [
       "<Figure size 864x432 with 0 Axes>"
      ]
     },
     "metadata": {},
     "output_type": "display_data"
    },
    {
     "data": {
      "image/png": "[encoded data removed]",
      "text/plain": [
       "<Figure size 432x288 with 1 Axes>"
      ]
     },
     "metadata": {},
     "output_type": "display_data"
    }
   ],
   "source": [
    "fig = plt.figure(figsize = (12,6))\n",
    "temp[temp['Year']==2021].groupby(['Month']).agg({'Sale_Dollars':'sum'}).plot.bar(color='green')\n",
    "plt.title('Total Sales',fontsize=22, color = 'black')\n",
    "plt.ylim(0,5.1e7)\n",
    "\n",
    "fig = plt.figure(figsize = (12,6))\n",
    "temp[temp['Year']==2021].groupby(['Month']).agg({'VolumeSold_Liters':'sum'}).plot.bar(color='orange')\n",
    "plt.title('Total Volume Sold',fontsize=22, color = 'black')\n",
    "plt.ylim(0,3e6)"
   ]
  },
  {
   "cell_type": "code",
   "execution_count": 79,
   "id": "a87e471c",
   "metadata": {},
   "outputs": [
    {
     "data": {
      "text/plain": [
       "(25000000.0, 45000000.0)"
      ]
     },
     "execution_count": 79,
     "metadata": {},
     "output_type": "execute_result"
    },
    {
     "data": {
      "image/png": "[encoded data removed]",
      "text/plain": [
       "<Figure size 864x432 with 1 Axes>"
      ]
     },
     "metadata": {},
     "output_type": "display_data"
    }
   ],
   "source": [
    "fig = plt.figure(figsize = (12,6))\n",
    "plt.plot([1,2,3,4,5,6,7,8,9,10,11,12],\n",
    "         temp[temp['Year']==2021].groupby(['Month']).agg({'Sale_Dollars':'sum'}), \n",
    "        color='green', marker='o', linewidth=2, markersize=8)\n",
    "plt.ylim(2.5e7,4.5e7)"
   ]
  },
  {
   "cell_type": "code",
   "execution_count": 132,
   "id": "42f526e2",
   "metadata": {},
   "outputs": [
    {
     "data": {
      "text/html": [
       "<div>\n",
       "<style scoped>\n",
       "    .dataframe tbody tr th:only-of-type {\n",
       "        vertical-align: middle;\n",
       "    }\n",
       "\n",
       "    .dataframe tbody tr th {\n",
       "        vertical-align: top;\n",
       "    }\n",
       "\n",
       "    .dataframe thead th {\n",
       "        text-align: right;\n",
       "    }\n",
       "</style>\n",
       "<table border=\"1\" class=\"dataframe\">\n",
       "  <thead>\n",
       "    <tr style=\"text-align: right;\">\n",
       "      <th></th>\n",
       "      <th>Sale_Dollars</th>\n",
       "    </tr>\n",
       "    <tr>\n",
       "      <th>CategoryGroup</th>\n",
       "      <th></th>\n",
       "    </tr>\n",
       "  </thead>\n",
       "  <tbody>\n",
       "    <tr>\n",
       "      <th>liqueur</th>\n",
       "      <td>2.966306e+07</td>\n",
       "    </tr>\n",
       "    <tr>\n",
       "      <th>tequila</th>\n",
       "      <td>3.507131e+07</td>\n",
       "    </tr>\n",
       "    <tr>\n",
       "      <th>rum</th>\n",
       "      <td>4.111186e+07</td>\n",
       "    </tr>\n",
       "    <tr>\n",
       "      <th>vodka</th>\n",
       "      <td>9.295745e+07</td>\n",
       "    </tr>\n",
       "    <tr>\n",
       "      <th>whisky</th>\n",
       "      <td>1.604921e+08</td>\n",
       "    </tr>\n",
       "  </tbody>\n",
       "</table>\n",
       "</div>"
      ],
      "text/plain": [
       "               Sale_Dollars\n",
       "CategoryGroup              \n",
       "liqueur        2.966306e+07\n",
       "tequila        3.507131e+07\n",
       "rum            4.111186e+07\n",
       "vodka          9.295745e+07\n",
       "whisky         1.604921e+08"
      ]
     },
     "execution_count": 132,
     "metadata": {},
     "output_type": "execute_result"
    }
   ],
   "source": [
    "temp[temp['Year']==2021].groupby(['CategoryGroup']).agg({'Sale_Dollars':'sum'}).sort_values(by ='Sale_Dollars').nlargest(5, 'Sale_Dollars').sort_values(by ='Sale_Dollars')"
   ]
  },
  {
   "cell_type": "code",
   "execution_count": 136,
   "id": "d862cd35",
   "metadata": {},
   "outputs": [
    {
     "data": {
      "text/plain": [
       "<matplotlib.legend.Legend at 0x7f7e16f940d0>"
      ]
     },
     "execution_count": 136,
     "metadata": {},
     "output_type": "execute_result"
    },
    {
     "data": {
      "text/plain": [
       "<Figure size 864x432 with 0 Axes>"
      ]
     },
     "metadata": {},
     "output_type": "display_data"
    },
    {
     "data": {
      "image/png": "[encoded data removed]",
      "text/plain": [
       "<Figure size 432x288 with 1 Axes>"
      ]
     },
     "metadata": {},
     "output_type": "display_data"
    }
   ],
   "source": [
    "fig = plt.figure(figsize = (12,6))\n",
    "temp[temp['Year']==2021].groupby(['CategoryGroup']).agg({'Sale_Dollars':'sum'}).sort_values(by ='Sale_Dollars').nlargest(5, 'Sale_Dollars').sort_values(by ='Sale_Dollars').plot.barh(color='green')\n",
    "plt.xlabel('Annual Sales (Dollars)',fontsize=16, color = 'black')\n",
    "plt.ylabel('Product Group', fontsize=16, color = 'black', rotation = 90)\n",
    "plt.legend('',frameon=False)"
   ]
  },
  {
   "cell_type": "code",
   "execution_count": 88,
   "id": "12792861",
   "metadata": {},
   "outputs": [
    {
     "data": {
      "text/plain": [
       "Text(0.5, 1.0, 'Top Product Categories')"
      ]
     },
     "execution_count": 88,
     "metadata": {},
     "output_type": "execute_result"
    },
    {
     "data": {
      "image/png": "[encoded data removed]",
      "text/plain": [
       "<Figure size 864x432 with 1 Axes>"
      ]
     },
     "metadata": {},
     "output_type": "display_data"
    }
   ],
   "source": [
    "fig = plt.figure(figsize = (12,6))\n",
    "temp.groupby('CategoryGroup').size().nlargest(6).sort_values(ascending=True).plot.barh()\n",
    "plt.ylabel('Products Sold',fontsize=14, color = 'black')\n",
    "plt.title('Top Product Categories',fontsize=22, color = 'black')"
   ]
  },
  {
   "cell_type": "code",
   "execution_count": 32,
   "id": "331f8cb2",
   "metadata": {},
   "outputs": [
    {
     "data": {
      "text/plain": [
       "Text(0, 0.5, 'Product Sold')"
      ]
     },
     "execution_count": 32,
     "metadata": {},
     "output_type": "execute_result"
    },
    {
     "data": {
      "image/png": "[encoded data removed]",
      "text/plain": [
       "<Figure size 864x432 with 1 Axes>"
      ]
     },
     "metadata": {},
     "output_type": "display_data"
    }
   ],
   "source": [
    "fig = plt.figure(figsize = (12,6))\n",
    "temp.groupby('County').size().sort_values(ascending=False).nlargest(5).plot.bar()\n",
    "\n",
    "plt.ylabel('Product Sold',fontsize=22, color = 'black')"
   ]
  },
  {
   "cell_type": "code",
   "execution_count": 115,
   "id": "0643e42d",
   "metadata": {},
   "outputs": [
    {
     "data": {
      "text/html": [
       "<div>\n",
       "<style scoped>\n",
       "    .dataframe tbody tr th:only-of-type {\n",
       "        vertical-align: middle;\n",
       "    }\n",
       "\n",
       "    .dataframe tbody tr th {\n",
       "        vertical-align: top;\n",
       "    }\n",
       "\n",
       "    .dataframe thead th {\n",
       "        text-align: right;\n",
       "    }\n",
       "</style>\n",
       "<table border=\"1\" class=\"dataframe\">\n",
       "  <thead>\n",
       "    <tr style=\"text-align: right;\">\n",
       "      <th></th>\n",
       "      <th>Sale_Dollars</th>\n",
       "    </tr>\n",
       "    <tr>\n",
       "      <th>County</th>\n",
       "      <th></th>\n",
       "    </tr>\n",
       "  </thead>\n",
       "  <tbody>\n",
       "    <tr>\n",
       "      <th>adair</th>\n",
       "      <td>683600.94</td>\n",
       "    </tr>\n",
       "    <tr>\n",
       "      <th>adams</th>\n",
       "      <td>215545.86</td>\n",
       "    </tr>\n",
       "    <tr>\n",
       "      <th>allamakee</th>\n",
       "      <td>1091295.24</td>\n",
       "    </tr>\n",
       "    <tr>\n",
       "      <th>appanoose</th>\n",
       "      <td>1107116.79</td>\n",
       "    </tr>\n",
       "    <tr>\n",
       "      <th>audubon</th>\n",
       "      <td>288076.35</td>\n",
       "    </tr>\n",
       "    <tr>\n",
       "      <th>benton</th>\n",
       "      <td>1630504.83</td>\n",
       "    </tr>\n",
       "    <tr>\n",
       "      <th>black hawk</th>\n",
       "      <td>23562357.61</td>\n",
       "    </tr>\n",
       "    <tr>\n",
       "      <th>boone</th>\n",
       "      <td>2354170.45</td>\n",
       "    </tr>\n",
       "    <tr>\n",
       "      <th>bremer</th>\n",
       "      <td>2499718.40</td>\n",
       "    </tr>\n",
       "    <tr>\n",
       "      <th>buchanan</th>\n",
       "      <td>1501494.16</td>\n",
       "    </tr>\n",
       "    <tr>\n",
       "      <th>buena vista</th>\n",
       "      <td>2421853.89</td>\n",
       "    </tr>\n",
       "    <tr>\n",
       "      <th>butler</th>\n",
       "      <td>470597.80</td>\n",
       "    </tr>\n",
       "    <tr>\n",
       "      <th>calhoun</th>\n",
       "      <td>402054.77</td>\n",
       "    </tr>\n",
       "    <tr>\n",
       "      <th>carroll</th>\n",
       "      <td>3103773.56</td>\n",
       "    </tr>\n",
       "    <tr>\n",
       "      <th>cass</th>\n",
       "      <td>1595466.87</td>\n",
       "    </tr>\n",
       "    <tr>\n",
       "      <th>cedar</th>\n",
       "      <td>966651.42</td>\n",
       "    </tr>\n",
       "    <tr>\n",
       "      <th>cerro gordo</th>\n",
       "      <td>8897648.62</td>\n",
       "    </tr>\n",
       "    <tr>\n",
       "      <th>cherokee</th>\n",
       "      <td>929358.58</td>\n",
       "    </tr>\n",
       "    <tr>\n",
       "      <th>chickasaw</th>\n",
       "      <td>611807.62</td>\n",
       "    </tr>\n",
       "    <tr>\n",
       "      <th>clarke</th>\n",
       "      <td>1120635.83</td>\n",
       "    </tr>\n",
       "    <tr>\n",
       "      <th>clay</th>\n",
       "      <td>2192079.22</td>\n",
       "    </tr>\n",
       "    <tr>\n",
       "      <th>clayton</th>\n",
       "      <td>939538.75</td>\n",
       "    </tr>\n",
       "    <tr>\n",
       "      <th>clinton</th>\n",
       "      <td>7386698.36</td>\n",
       "    </tr>\n",
       "    <tr>\n",
       "      <th>crawford</th>\n",
       "      <td>1824568.43</td>\n",
       "    </tr>\n",
       "    <tr>\n",
       "      <th>dallas</th>\n",
       "      <td>11530168.58</td>\n",
       "    </tr>\n",
       "    <tr>\n",
       "      <th>davis</th>\n",
       "      <td>140308.27</td>\n",
       "    </tr>\n",
       "    <tr>\n",
       "      <th>decatur</th>\n",
       "      <td>226603.02</td>\n",
       "    </tr>\n",
       "    <tr>\n",
       "      <th>delaware</th>\n",
       "      <td>1530672.70</td>\n",
       "    </tr>\n",
       "    <tr>\n",
       "      <th>des moines</th>\n",
       "      <td>4602662.18</td>\n",
       "    </tr>\n",
       "    <tr>\n",
       "      <th>dickinson</th>\n",
       "      <td>5864449.26</td>\n",
       "    </tr>\n",
       "    <tr>\n",
       "      <th>dubuque</th>\n",
       "      <td>12376611.21</td>\n",
       "    </tr>\n",
       "    <tr>\n",
       "      <th>emmet</th>\n",
       "      <td>778395.32</td>\n",
       "    </tr>\n",
       "    <tr>\n",
       "      <th>fayette</th>\n",
       "      <td>1672990.89</td>\n",
       "    </tr>\n",
       "    <tr>\n",
       "      <th>floyd</th>\n",
       "      <td>1598563.33</td>\n",
       "    </tr>\n",
       "    <tr>\n",
       "      <th>franklin</th>\n",
       "      <td>832976.73</td>\n",
       "    </tr>\n",
       "    <tr>\n",
       "      <th>fremont</th>\n",
       "      <td>105016.08</td>\n",
       "    </tr>\n",
       "    <tr>\n",
       "      <th>greene</th>\n",
       "      <td>719709.22</td>\n",
       "    </tr>\n",
       "    <tr>\n",
       "      <th>grundy</th>\n",
       "      <td>361499.16</td>\n",
       "    </tr>\n",
       "    <tr>\n",
       "      <th>guthrie</th>\n",
       "      <td>444827.08</td>\n",
       "    </tr>\n",
       "    <tr>\n",
       "      <th>hamilton</th>\n",
       "      <td>1135719.14</td>\n",
       "    </tr>\n",
       "    <tr>\n",
       "      <th>hancock</th>\n",
       "      <td>626795.08</td>\n",
       "    </tr>\n",
       "    <tr>\n",
       "      <th>hardin</th>\n",
       "      <td>2406590.59</td>\n",
       "    </tr>\n",
       "    <tr>\n",
       "      <th>harrison</th>\n",
       "      <td>835054.47</td>\n",
       "    </tr>\n",
       "    <tr>\n",
       "      <th>henry</th>\n",
       "      <td>1641505.70</td>\n",
       "    </tr>\n",
       "    <tr>\n",
       "      <th>howard</th>\n",
       "      <td>1256903.42</td>\n",
       "    </tr>\n",
       "    <tr>\n",
       "      <th>humboldt</th>\n",
       "      <td>1040017.35</td>\n",
       "    </tr>\n",
       "    <tr>\n",
       "      <th>ida</th>\n",
       "      <td>724164.12</td>\n",
       "    </tr>\n",
       "    <tr>\n",
       "      <th>iowa</th>\n",
       "      <td>1478235.59</td>\n",
       "    </tr>\n",
       "    <tr>\n",
       "      <th>jackson</th>\n",
       "      <td>1488386.81</td>\n",
       "    </tr>\n",
       "    <tr>\n",
       "      <th>jasper</th>\n",
       "      <td>2940377.33</td>\n",
       "    </tr>\n",
       "    <tr>\n",
       "      <th>jefferson</th>\n",
       "      <td>1445797.01</td>\n",
       "    </tr>\n",
       "    <tr>\n",
       "      <th>johnson</th>\n",
       "      <td>24735207.78</td>\n",
       "    </tr>\n",
       "    <tr>\n",
       "      <th>jones</th>\n",
       "      <td>1736388.99</td>\n",
       "    </tr>\n",
       "    <tr>\n",
       "      <th>keokuk</th>\n",
       "      <td>316720.48</td>\n",
       "    </tr>\n",
       "    <tr>\n",
       "      <th>kossuth</th>\n",
       "      <td>2132472.31</td>\n",
       "    </tr>\n",
       "    <tr>\n",
       "      <th>lee</th>\n",
       "      <td>4383456.20</td>\n",
       "    </tr>\n",
       "    <tr>\n",
       "      <th>linn</th>\n",
       "      <td>36730243.43</td>\n",
       "    </tr>\n",
       "    <tr>\n",
       "      <th>louisa</th>\n",
       "      <td>265613.44</td>\n",
       "    </tr>\n",
       "    <tr>\n",
       "      <th>lucas</th>\n",
       "      <td>719057.82</td>\n",
       "    </tr>\n",
       "    <tr>\n",
       "      <th>lyon</th>\n",
       "      <td>1106731.39</td>\n",
       "    </tr>\n",
       "    <tr>\n",
       "      <th>madison</th>\n",
       "      <td>1201380.17</td>\n",
       "    </tr>\n",
       "    <tr>\n",
       "      <th>mahaska</th>\n",
       "      <td>1826251.61</td>\n",
       "    </tr>\n",
       "    <tr>\n",
       "      <th>marion</th>\n",
       "      <td>3306426.97</td>\n",
       "    </tr>\n",
       "    <tr>\n",
       "      <th>marshall</th>\n",
       "      <td>4522210.25</td>\n",
       "    </tr>\n",
       "    <tr>\n",
       "      <th>mills</th>\n",
       "      <td>847340.50</td>\n",
       "    </tr>\n",
       "    <tr>\n",
       "      <th>mitchell</th>\n",
       "      <td>547013.56</td>\n",
       "    </tr>\n",
       "    <tr>\n",
       "      <th>monona</th>\n",
       "      <td>690176.75</td>\n",
       "    </tr>\n",
       "    <tr>\n",
       "      <th>monroe</th>\n",
       "      <td>547995.05</td>\n",
       "    </tr>\n",
       "    <tr>\n",
       "      <th>montgomery</th>\n",
       "      <td>999077.28</td>\n",
       "    </tr>\n",
       "    <tr>\n",
       "      <th>muscatine</th>\n",
       "      <td>4573469.48</td>\n",
       "    </tr>\n",
       "    <tr>\n",
       "      <th>o'brien</th>\n",
       "      <td>1626698.05</td>\n",
       "    </tr>\n",
       "    <tr>\n",
       "      <th>osceola</th>\n",
       "      <td>335041.01</td>\n",
       "    </tr>\n",
       "    <tr>\n",
       "      <th>page</th>\n",
       "      <td>1567854.95</td>\n",
       "    </tr>\n",
       "    <tr>\n",
       "      <th>palo alto</th>\n",
       "      <td>1038112.75</td>\n",
       "    </tr>\n",
       "    <tr>\n",
       "      <th>plymouth</th>\n",
       "      <td>2285269.39</td>\n",
       "    </tr>\n",
       "    <tr>\n",
       "      <th>pocahontas</th>\n",
       "      <td>433026.91</td>\n",
       "    </tr>\n",
       "    <tr>\n",
       "      <th>polk</th>\n",
       "      <td>99027372.44</td>\n",
       "    </tr>\n",
       "    <tr>\n",
       "      <th>pottawattamie</th>\n",
       "      <td>15758410.41</td>\n",
       "    </tr>\n",
       "    <tr>\n",
       "      <th>poweshiek</th>\n",
       "      <td>2034092.07</td>\n",
       "    </tr>\n",
       "    <tr>\n",
       "      <th>ringgold</th>\n",
       "      <td>267877.77</td>\n",
       "    </tr>\n",
       "    <tr>\n",
       "      <th>sac</th>\n",
       "      <td>870141.31</td>\n",
       "    </tr>\n",
       "    <tr>\n",
       "      <th>scott</th>\n",
       "      <td>30367939.13</td>\n",
       "    </tr>\n",
       "    <tr>\n",
       "      <th>shelby</th>\n",
       "      <td>1084698.21</td>\n",
       "    </tr>\n",
       "    <tr>\n",
       "      <th>sioux</th>\n",
       "      <td>2451390.99</td>\n",
       "    </tr>\n",
       "    <tr>\n",
       "      <th>story</th>\n",
       "      <td>13131031.83</td>\n",
       "    </tr>\n",
       "    <tr>\n",
       "      <th>tama</th>\n",
       "      <td>941545.40</td>\n",
       "    </tr>\n",
       "    <tr>\n",
       "      <th>taylor</th>\n",
       "      <td>171596.93</td>\n",
       "    </tr>\n",
       "    <tr>\n",
       "      <th>union</th>\n",
       "      <td>1456678.68</td>\n",
       "    </tr>\n",
       "    <tr>\n",
       "      <th>van buren</th>\n",
       "      <td>248383.70</td>\n",
       "    </tr>\n",
       "    <tr>\n",
       "      <th>wapello</th>\n",
       "      <td>3940736.61</td>\n",
       "    </tr>\n",
       "    <tr>\n",
       "      <th>warren</th>\n",
       "      <td>4200791.42</td>\n",
       "    </tr>\n",
       "    <tr>\n",
       "      <th>washington</th>\n",
       "      <td>2480505.16</td>\n",
       "    </tr>\n",
       "    <tr>\n",
       "      <th>wayne</th>\n",
       "      <td>240331.75</td>\n",
       "    </tr>\n",
       "    <tr>\n",
       "      <th>webster</th>\n",
       "      <td>4567345.62</td>\n",
       "    </tr>\n",
       "    <tr>\n",
       "      <th>winnebago</th>\n",
       "      <td>1080234.63</td>\n",
       "    </tr>\n",
       "    <tr>\n",
       "      <th>winneshiek</th>\n",
       "      <td>1789804.18</td>\n",
       "    </tr>\n",
       "    <tr>\n",
       "      <th>woodbury</th>\n",
       "      <td>14593632.42</td>\n",
       "    </tr>\n",
       "    <tr>\n",
       "      <th>worth</th>\n",
       "      <td>441443.91</td>\n",
       "    </tr>\n",
       "    <tr>\n",
       "      <th>wright</th>\n",
       "      <td>900398.60</td>\n",
       "    </tr>\n",
       "  </tbody>\n",
       "</table>\n",
       "</div>"
      ],
      "text/plain": [
       "               Sale_Dollars\n",
       "County                     \n",
       "adair             683600.94\n",
       "adams             215545.86\n",
       "allamakee        1091295.24\n",
       "appanoose        1107116.79\n",
       "audubon           288076.35\n",
       "benton           1630504.83\n",
       "black hawk      23562357.61\n",
       "boone            2354170.45\n",
       "bremer           2499718.40\n",
       "buchanan         1501494.16\n",
       "buena vista      2421853.89\n",
       "butler            470597.80\n",
       "calhoun           402054.77\n",
       "carroll          3103773.56\n",
       "cass             1595466.87\n",
       "cedar             966651.42\n",
       "cerro gordo      8897648.62\n",
       "cherokee          929358.58\n",
       "chickasaw         611807.62\n",
       "clarke           1120635.83\n",
       "clay             2192079.22\n",
       "clayton           939538.75\n",
       "clinton          7386698.36\n",
       "crawford         1824568.43\n",
       "dallas          11530168.58\n",
       "davis             140308.27\n",
       "decatur           226603.02\n",
       "delaware         1530672.70\n",
       "des moines       4602662.18\n",
       "dickinson        5864449.26\n",
       "dubuque         12376611.21\n",
       "emmet             778395.32\n",
       "fayette          1672990.89\n",
       "floyd            1598563.33\n",
       "franklin          832976.73\n",
       "fremont           105016.08\n",
       "greene            719709.22\n",
       "grundy            361499.16\n",
       "guthrie           444827.08\n",
       "hamilton         1135719.14\n",
       "hancock           626795.08\n",
       "hardin           2406590.59\n",
       "harrison          835054.47\n",
       "henry            1641505.70\n",
       "howard           1256903.42\n",
       "humboldt         1040017.35\n",
       "ida               724164.12\n",
       "iowa             1478235.59\n",
       "jackson          1488386.81\n",
       "jasper           2940377.33\n",
       "jefferson        1445797.01\n",
       "johnson         24735207.78\n",
       "jones            1736388.99\n",
       "keokuk            316720.48\n",
       "kossuth          2132472.31\n",
       "lee              4383456.20\n",
       "linn            36730243.43\n",
       "louisa            265613.44\n",
       "lucas             719057.82\n",
       "lyon             1106731.39\n",
       "madison          1201380.17\n",
       "mahaska          1826251.61\n",
       "marion           3306426.97\n",
       "marshall         4522210.25\n",
       "mills             847340.50\n",
       "mitchell          547013.56\n",
       "monona            690176.75\n",
       "monroe            547995.05\n",
       "montgomery        999077.28\n",
       "muscatine        4573469.48\n",
       "o'brien          1626698.05\n",
       "osceola           335041.01\n",
       "page             1567854.95\n",
       "palo alto        1038112.75\n",
       "plymouth         2285269.39\n",
       "pocahontas        433026.91\n",
       "polk            99027372.44\n",
       "pottawattamie   15758410.41\n",
       "poweshiek        2034092.07\n",
       "ringgold          267877.77\n",
       "sac               870141.31\n",
       "scott           30367939.13\n",
       "shelby           1084698.21\n",
       "sioux            2451390.99\n",
       "story           13131031.83\n",
       "tama              941545.40\n",
       "taylor            171596.93\n",
       "union            1456678.68\n",
       "van buren         248383.70\n",
       "wapello          3940736.61\n",
       "warren           4200791.42\n",
       "washington       2480505.16\n",
       "wayne             240331.75\n",
       "webster          4567345.62\n",
       "winnebago        1080234.63\n",
       "winneshiek       1789804.18\n",
       "woodbury        14593632.42\n",
       "worth             441443.91\n",
       "wright            900398.60"
      ]
     },
     "execution_count": 115,
     "metadata": {},
     "output_type": "execute_result"
    }
   ],
   "source": [
    "temp[temp['Year']==2021].groupby(['County']).agg({'Sale_Dollars':'sum'})\n"
   ]
  },
  {
   "cell_type": "code",
   "execution_count": null,
   "id": "cf8bd5cf",
   "metadata": {},
   "outputs": [],
   "source": []
  },
  {
   "cell_type": "code",
   "execution_count": null,
   "id": "966bd698",
   "metadata": {},
   "outputs": [],
   "source": []
  }
 ],
 "metadata": {
  "kernelspec": {
   "display_name": "Python 3 (ipykernel)",
   "language": "python",
   "name": "python3"
  },
  "language_info": {
   "codemirror_mode": {
    "name": "ipython",
    "version": 3
   },
   "file_extension": ".py",
   "mimetype": "text/x-python",
   "name": "python",
   "nbconvert_exporter": "python",
   "pygments_lexer": "ipython3",
   "version": "3.9.7"
  }
 },
 "nbformat": 4,
 "nbformat_minor": 5
}
