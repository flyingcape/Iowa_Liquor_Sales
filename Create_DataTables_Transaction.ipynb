{
 "cells": [
  {
   "cell_type": "code",
   "execution_count": 1,
   "id": "6b6310d2",
   "metadata": {},
   "outputs": [],
   "source": [
    "import pandas as pd\n",
    "import numpy as np\n",
    "from matplotlib import pyplot as plt\n",
    "plt.style.use('ggplot')\n",
    "plt.rcParams.update({'font.size': 20})"
   ]
  },
  {
   "cell_type": "code",
   "execution_count": 2,
   "id": "63199fcb",
   "metadata": {},
   "outputs": [],
   "source": [
    "pd.set_option('display.max_rows', 500)\n",
    "pd.set_option('display.max_columns', 500)"
   ]
  },
  {
   "cell_type": "markdown",
   "id": "3036c12e",
   "metadata": {},
   "source": [
    "# Import Liquor Sales database"
   ]
  },
  {
   "cell_type": "code",
   "execution_count": 3,
   "id": "6e6c23af",
   "metadata": {},
   "outputs": [
    {
     "name": "stderr",
     "output_type": "stream",
     "text": [
      "/opt/conda/lib/python3.9/site-packages/IPython/core/magics/execution.py:1324: DtypeWarning: Columns (6,14) have mixed types.Specify dtype option on import or set low_memory=False.\n",
      "  exec(code, glob, local_ns)\n"
     ]
    },
    {
     "name": "stdout",
     "output_type": "stream",
     "text": [
      "CPU times: user 59.6 s, sys: 5.87 s, total: 1min 5s\n",
      "Wall time: 1min 6s\n"
     ]
    }
   ],
   "source": [
    "%%time\n",
    "sales = pd.read_csv('../data/Iowa_Liquor_Sales.csv') "
   ]
  },
  {
   "cell_type": "code",
   "execution_count": 4,
   "id": "26975859",
   "metadata": {},
   "outputs": [
    {
     "data": {
      "text/plain": [
       "Index(['Invoice/Item Number', 'Date', 'Store Number', 'Store Name', 'Address',\n",
       "       'City', 'Zip Code', 'Store Location', 'County Number', 'County',\n",
       "       'Category', 'Category Name', 'Vendor Number', 'Vendor Name',\n",
       "       'Item Number', 'Item Description', 'Pack', 'Bottle Volume (ml)',\n",
       "       'State Bottle Cost', 'State Bottle Retail', 'Bottles Sold',\n",
       "       'Sale (Dollars)', 'Volume Sold (Liters)', 'Volume Sold (Gallons)'],\n",
       "      dtype='object')"
      ]
     },
     "execution_count": 4,
     "metadata": {},
     "output_type": "execute_result"
    }
   ],
   "source": [
    "sales.columns"
   ]
  },
  {
   "cell_type": "code",
   "execution_count": 5,
   "id": "c7d1d915",
   "metadata": {},
   "outputs": [
    {
     "name": "stdout",
     "output_type": "stream",
     "text": [
      "The number of rows:  23154845\n"
     ]
    }
   ],
   "source": [
    "print('The number of rows: ', sales.shape[0])"
   ]
  },
  {
   "cell_type": "code",
   "execution_count": 6,
   "id": "0564ec2a",
   "metadata": {},
   "outputs": [
    {
     "name": "stdout",
     "output_type": "stream",
     "text": [
      "The number of features:  24\n"
     ]
    }
   ],
   "source": [
    "print('The number of features: ', sales.shape[1])"
   ]
  },
  {
   "cell_type": "code",
   "execution_count": 7,
   "id": "c10b0936",
   "metadata": {},
   "outputs": [
    {
     "name": "stdout",
     "output_type": "stream",
     "text": [
      "The datatypes in the dataframe:\n"
     ]
    },
    {
     "data": {
      "text/plain": [
       "array([dtype('O'), dtype('int64'), dtype('float64')], dtype=object)"
      ]
     },
     "execution_count": 7,
     "metadata": {},
     "output_type": "execute_result"
    }
   ],
   "source": [
    "print('The datatypes in the dataframe:')\n",
    "sales.dtypes.unique()"
   ]
  },
  {
   "cell_type": "code",
   "execution_count": 8,
   "id": "af7d18d9",
   "metadata": {},
   "outputs": [],
   "source": [
    "# Create a Year Column\n",
    "temp = sales['Date']\n",
    "temp_split0 = temp.str.split('/', n=- 1, expand=True)\n",
    "temp_split = temp_split0.drop(temp_split0.columns[[1]], axis=1)\n",
    "\n",
    "sales[\"Year\"] = temp_split[2]"
   ]
  },
  {
   "cell_type": "code",
   "execution_count": 9,
   "id": "c47ed52d",
   "metadata": {},
   "outputs": [
    {
     "data": {
      "text/html": [
       "<div>\n",
       "<style scoped>\n",
       "    .dataframe tbody tr th:only-of-type {\n",
       "        vertical-align: middle;\n",
       "    }\n",
       "\n",
       "    .dataframe tbody tr th {\n",
       "        vertical-align: top;\n",
       "    }\n",
       "\n",
       "    .dataframe thead th {\n",
       "        text-align: right;\n",
       "    }\n",
       "</style>\n",
       "<table border=\"1\" class=\"dataframe\">\n",
       "  <thead>\n",
       "    <tr style=\"text-align: right;\">\n",
       "      <th></th>\n",
       "      <th>Invoice/Item Number</th>\n",
       "      <th>Date</th>\n",
       "      <th>Store Number</th>\n",
       "      <th>Store Name</th>\n",
       "      <th>Address</th>\n",
       "      <th>City</th>\n",
       "      <th>Zip Code</th>\n",
       "      <th>Store Location</th>\n",
       "      <th>County Number</th>\n",
       "      <th>County</th>\n",
       "      <th>Category</th>\n",
       "      <th>Category Name</th>\n",
       "      <th>Vendor Number</th>\n",
       "      <th>Vendor Name</th>\n",
       "      <th>Item Number</th>\n",
       "      <th>Item Description</th>\n",
       "      <th>Pack</th>\n",
       "      <th>Bottle Volume (ml)</th>\n",
       "      <th>State Bottle Cost</th>\n",
       "      <th>State Bottle Retail</th>\n",
       "      <th>Bottles Sold</th>\n",
       "      <th>Sale (Dollars)</th>\n",
       "      <th>Volume Sold (Liters)</th>\n",
       "      <th>Volume Sold (Gallons)</th>\n",
       "      <th>Year</th>\n",
       "    </tr>\n",
       "  </thead>\n",
       "  <tbody>\n",
       "    <tr>\n",
       "      <th>0</th>\n",
       "      <td>S24032900031</td>\n",
       "      <td>02/16/2015</td>\n",
       "      <td>3385</td>\n",
       "      <td>Sam's Club 8162 / Cedar Rapids</td>\n",
       "      <td>2605 BLAIRS FERRY RD NE</td>\n",
       "      <td>CEDAR RAPIDS</td>\n",
       "      <td>52402</td>\n",
       "      <td>POINT (-91.67969 42.031819)</td>\n",
       "      <td>57.0</td>\n",
       "      <td>Linn</td>\n",
       "      <td>1041100.0</td>\n",
       "      <td>AMERICAN DRY GINS</td>\n",
       "      <td>55.0</td>\n",
       "      <td>Sazerac North America</td>\n",
       "      <td>29287</td>\n",
       "      <td>Barton Gin</td>\n",
       "      <td>12</td>\n",
       "      <td>1000</td>\n",
       "      <td>3.92</td>\n",
       "      <td>5.88</td>\n",
       "      <td>24</td>\n",
       "      <td>141.12</td>\n",
       "      <td>24.00</td>\n",
       "      <td>6.34</td>\n",
       "      <td>2015</td>\n",
       "    </tr>\n",
       "    <tr>\n",
       "      <th>1</th>\n",
       "      <td>S25392600010</td>\n",
       "      <td>04/30/2015</td>\n",
       "      <td>5034</td>\n",
       "      <td>Liquor Tobacco &amp; Groceries</td>\n",
       "      <td>18 N MONROE AVE</td>\n",
       "      <td>MASON CITY</td>\n",
       "      <td>50401</td>\n",
       "      <td>POINT (-93.208614 43.152301)</td>\n",
       "      <td>17.0</td>\n",
       "      <td>Cerro Gordo</td>\n",
       "      <td>1011200.0</td>\n",
       "      <td>STRAIGHT BOURBON WHISKIES</td>\n",
       "      <td>434.0</td>\n",
       "      <td>Luxco-St Louis</td>\n",
       "      <td>18196</td>\n",
       "      <td>Ezra Brooks 50 Mo Ky Sour Mash Bourbon</td>\n",
       "      <td>12</td>\n",
       "      <td>750</td>\n",
       "      <td>6.84</td>\n",
       "      <td>10.26</td>\n",
       "      <td>12</td>\n",
       "      <td>123.12</td>\n",
       "      <td>9.00</td>\n",
       "      <td>2.38</td>\n",
       "      <td>2015</td>\n",
       "    </tr>\n",
       "    <tr>\n",
       "      <th>2</th>\n",
       "      <td>S08041400024</td>\n",
       "      <td>10/01/2012</td>\n",
       "      <td>2500</td>\n",
       "      <td>Hy-Vee Food Store #1 / Ames</td>\n",
       "      <td>3800 W LINCOLN WAY</td>\n",
       "      <td>AMES</td>\n",
       "      <td>50010</td>\n",
       "      <td>NaN</td>\n",
       "      <td>85.0</td>\n",
       "      <td>Story</td>\n",
       "      <td>1081300.0</td>\n",
       "      <td>PEPPERMINT SCHNAPPS</td>\n",
       "      <td>434.0</td>\n",
       "      <td>Luxco-St Louis</td>\n",
       "      <td>81406</td>\n",
       "      <td>Thunder 101 Peppermint Schnapps</td>\n",
       "      <td>12</td>\n",
       "      <td>750</td>\n",
       "      <td>6.50</td>\n",
       "      <td>9.75</td>\n",
       "      <td>12</td>\n",
       "      <td>117.00</td>\n",
       "      <td>9.00</td>\n",
       "      <td>2.38</td>\n",
       "      <td>2012</td>\n",
       "    </tr>\n",
       "    <tr>\n",
       "      <th>3</th>\n",
       "      <td>S13626800019</td>\n",
       "      <td>07/30/2013</td>\n",
       "      <td>4203</td>\n",
       "      <td>Liquor and Tobacco Outlet /</td>\n",
       "      <td>620 W BREMER AVE</td>\n",
       "      <td>WAVERLY</td>\n",
       "      <td>50677</td>\n",
       "      <td>POINT (-92.47898 42.725694)</td>\n",
       "      <td>9.0</td>\n",
       "      <td>Bremer</td>\n",
       "      <td>1062200.0</td>\n",
       "      <td>PUERTO RICO &amp; VIRGIN ISLANDS RUM</td>\n",
       "      <td>434.0</td>\n",
       "      <td>Luxco-St Louis</td>\n",
       "      <td>45276</td>\n",
       "      <td>Paramount White Rum</td>\n",
       "      <td>12</td>\n",
       "      <td>750</td>\n",
       "      <td>3.85</td>\n",
       "      <td>5.77</td>\n",
       "      <td>12</td>\n",
       "      <td>69.24</td>\n",
       "      <td>9.00</td>\n",
       "      <td>2.38</td>\n",
       "      <td>2013</td>\n",
       "    </tr>\n",
       "    <tr>\n",
       "      <th>4</th>\n",
       "      <td>S20264600081</td>\n",
       "      <td>07/23/2014</td>\n",
       "      <td>4509</td>\n",
       "      <td>A J'S LIQUOR II</td>\n",
       "      <td>2515 CHAMBERLAIN</td>\n",
       "      <td>AMES</td>\n",
       "      <td>50010</td>\n",
       "      <td>POINT (-93.650838 42.021461)</td>\n",
       "      <td>85.0</td>\n",
       "      <td>Story</td>\n",
       "      <td>1032080.0</td>\n",
       "      <td>IMPORTED VODKA</td>\n",
       "      <td>277.0</td>\n",
       "      <td>Stoli Group</td>\n",
       "      <td>34729</td>\n",
       "      <td>Stolichnaya Elit Vodka</td>\n",
       "      <td>6</td>\n",
       "      <td>750</td>\n",
       "      <td>29.99</td>\n",
       "      <td>44.99</td>\n",
       "      <td>1</td>\n",
       "      <td>44.99</td>\n",
       "      <td>0.75</td>\n",
       "      <td>0.20</td>\n",
       "      <td>2014</td>\n",
       "    </tr>\n",
       "    <tr>\n",
       "      <th>5</th>\n",
       "      <td>S04724800133</td>\n",
       "      <td>03/26/2012</td>\n",
       "      <td>2634</td>\n",
       "      <td>Hy-Vee Wine and Spirits / Ames</td>\n",
       "      <td>3615 LINCOLN WAY</td>\n",
       "      <td>AMES</td>\n",
       "      <td>50014</td>\n",
       "      <td>POINT (-93.667932 42.022911)</td>\n",
       "      <td>85.0</td>\n",
       "      <td>Story</td>\n",
       "      <td>1012100.0</td>\n",
       "      <td>CANADIAN WHISKIES</td>\n",
       "      <td>260.0</td>\n",
       "      <td>Diageo Americas</td>\n",
       "      <td>11347</td>\n",
       "      <td>Seagrams V.o. Bl Canadian Whisky</td>\n",
       "      <td>12</td>\n",
       "      <td>1000</td>\n",
       "      <td>9.49</td>\n",
       "      <td>14.24</td>\n",
       "      <td>2</td>\n",
       "      <td>28.48</td>\n",
       "      <td>2.00</td>\n",
       "      <td>0.53</td>\n",
       "      <td>2012</td>\n",
       "    </tr>\n",
       "    <tr>\n",
       "      <th>6</th>\n",
       "      <td>S22974600041</td>\n",
       "      <td>12/16/2014</td>\n",
       "      <td>4102</td>\n",
       "      <td>Fareway Stores #386 / Ames</td>\n",
       "      <td>619 BURNETT AVE</td>\n",
       "      <td>AMES</td>\n",
       "      <td>50010</td>\n",
       "      <td>POINT (-93.615428 42.027426)</td>\n",
       "      <td>85.0</td>\n",
       "      <td>Story</td>\n",
       "      <td>1081010.0</td>\n",
       "      <td>AMERICAN AMARETTO</td>\n",
       "      <td>434.0</td>\n",
       "      <td>Luxco-St Louis</td>\n",
       "      <td>76486</td>\n",
       "      <td>Paramount Amaretto</td>\n",
       "      <td>12</td>\n",
       "      <td>750</td>\n",
       "      <td>3.38</td>\n",
       "      <td>5.07</td>\n",
       "      <td>6</td>\n",
       "      <td>30.42</td>\n",
       "      <td>4.50</td>\n",
       "      <td>1.19</td>\n",
       "      <td>2014</td>\n",
       "    </tr>\n",
       "    <tr>\n",
       "      <th>7</th>\n",
       "      <td>S13716500005</td>\n",
       "      <td>08/07/2013</td>\n",
       "      <td>4862</td>\n",
       "      <td>Pronto Market / Kingsley</td>\n",
       "      <td>101 MAIN ST</td>\n",
       "      <td>KINGSLEY</td>\n",
       "      <td>51028</td>\n",
       "      <td>POINT (-95.967322 42.58707400000001)</td>\n",
       "      <td>75.0</td>\n",
       "      <td>Plymouth</td>\n",
       "      <td>1022100.0</td>\n",
       "      <td>TEQUILA</td>\n",
       "      <td>421.0</td>\n",
       "      <td>Sazerac Co., Inc.</td>\n",
       "      <td>88768</td>\n",
       "      <td>Tortilla White Tequila</td>\n",
       "      <td>6</td>\n",
       "      <td>1750</td>\n",
       "      <td>12.83</td>\n",
       "      <td>19.24</td>\n",
       "      <td>6</td>\n",
       "      <td>115.44</td>\n",
       "      <td>10.50</td>\n",
       "      <td>2.77</td>\n",
       "      <td>2013</td>\n",
       "    </tr>\n",
       "    <tr>\n",
       "      <th>8</th>\n",
       "      <td>S04414200031</td>\n",
       "      <td>03/06/2012</td>\n",
       "      <td>2522</td>\n",
       "      <td>Hy-Vee Wine and Spirits / Spirit Lak</td>\n",
       "      <td>HWY 9 &amp; 71</td>\n",
       "      <td>SPIRIT LAKE</td>\n",
       "      <td>51360</td>\n",
       "      <td>NaN</td>\n",
       "      <td>30.0</td>\n",
       "      <td>Dickinson</td>\n",
       "      <td>1031100.0</td>\n",
       "      <td>100 PROOF VODKA</td>\n",
       "      <td>300.0</td>\n",
       "      <td>Mccormick Distilling Company</td>\n",
       "      <td>36908</td>\n",
       "      <td>Mccormick Vodka Pet</td>\n",
       "      <td>6</td>\n",
       "      <td>1750</td>\n",
       "      <td>7.46</td>\n",
       "      <td>11.19</td>\n",
       "      <td>6</td>\n",
       "      <td>67.14</td>\n",
       "      <td>10.50</td>\n",
       "      <td>2.77</td>\n",
       "      <td>2012</td>\n",
       "    </tr>\n",
       "    <tr>\n",
       "      <th>9</th>\n",
       "      <td>S23072400091</td>\n",
       "      <td>12/20/2014</td>\n",
       "      <td>2508</td>\n",
       "      <td>Hy-Vee Food Store #1 / Cedar Rapids</td>\n",
       "      <td>1843 JOHNSON AVENUE, N.W.</td>\n",
       "      <td>CEDAR RAPIDS</td>\n",
       "      <td>52405</td>\n",
       "      <td>POINT (-91.697941 41.97447)</td>\n",
       "      <td>57.0</td>\n",
       "      <td>Linn</td>\n",
       "      <td>1012100.0</td>\n",
       "      <td>CANADIAN WHISKIES</td>\n",
       "      <td>115.0</td>\n",
       "      <td>Constellation Wine Company, Inc.</td>\n",
       "      <td>10548</td>\n",
       "      <td>Black Velvet Toasted Caramel</td>\n",
       "      <td>6</td>\n",
       "      <td>1750</td>\n",
       "      <td>12.99</td>\n",
       "      <td>19.49</td>\n",
       "      <td>6</td>\n",
       "      <td>116.94</td>\n",
       "      <td>10.50</td>\n",
       "      <td>2.77</td>\n",
       "      <td>2014</td>\n",
       "    </tr>\n",
       "  </tbody>\n",
       "</table>\n",
       "</div>"
      ],
      "text/plain": [
       "  Invoice/Item Number        Date  Store Number  \\\n",
       "0        S24032900031  02/16/2015          3385   \n",
       "1        S25392600010  04/30/2015          5034   \n",
       "2        S08041400024  10/01/2012          2500   \n",
       "3        S13626800019  07/30/2013          4203   \n",
       "4        S20264600081  07/23/2014          4509   \n",
       "5        S04724800133  03/26/2012          2634   \n",
       "6        S22974600041  12/16/2014          4102   \n",
       "7        S13716500005  08/07/2013          4862   \n",
       "8        S04414200031  03/06/2012          2522   \n",
       "9        S23072400091  12/20/2014          2508   \n",
       "\n",
       "                             Store Name                    Address  \\\n",
       "0        Sam's Club 8162 / Cedar Rapids    2605 BLAIRS FERRY RD NE   \n",
       "1            Liquor Tobacco & Groceries            18 N MONROE AVE   \n",
       "2           Hy-Vee Food Store #1 / Ames         3800 W LINCOLN WAY   \n",
       "3           Liquor and Tobacco Outlet /           620 W BREMER AVE   \n",
       "4                       A J'S LIQUOR II           2515 CHAMBERLAIN   \n",
       "5        Hy-Vee Wine and Spirits / Ames           3615 LINCOLN WAY   \n",
       "6            Fareway Stores #386 / Ames            619 BURNETT AVE   \n",
       "7              Pronto Market / Kingsley                101 MAIN ST   \n",
       "8  Hy-Vee Wine and Spirits / Spirit Lak                 HWY 9 & 71   \n",
       "9   Hy-Vee Food Store #1 / Cedar Rapids  1843 JOHNSON AVENUE, N.W.   \n",
       "\n",
       "           City Zip Code                        Store Location  County Number  \\\n",
       "0  CEDAR RAPIDS    52402           POINT (-91.67969 42.031819)           57.0   \n",
       "1    MASON CITY    50401          POINT (-93.208614 43.152301)           17.0   \n",
       "2          AMES    50010                                   NaN           85.0   \n",
       "3       WAVERLY    50677           POINT (-92.47898 42.725694)            9.0   \n",
       "4          AMES    50010          POINT (-93.650838 42.021461)           85.0   \n",
       "5          AMES    50014          POINT (-93.667932 42.022911)           85.0   \n",
       "6          AMES    50010          POINT (-93.615428 42.027426)           85.0   \n",
       "7      KINGSLEY    51028  POINT (-95.967322 42.58707400000001)           75.0   \n",
       "8   SPIRIT LAKE    51360                                   NaN           30.0   \n",
       "9  CEDAR RAPIDS    52405           POINT (-91.697941 41.97447)           57.0   \n",
       "\n",
       "        County   Category                     Category Name  Vendor Number  \\\n",
       "0         Linn  1041100.0                 AMERICAN DRY GINS           55.0   \n",
       "1  Cerro Gordo  1011200.0         STRAIGHT BOURBON WHISKIES          434.0   \n",
       "2        Story  1081300.0               PEPPERMINT SCHNAPPS          434.0   \n",
       "3       Bremer  1062200.0  PUERTO RICO & VIRGIN ISLANDS RUM          434.0   \n",
       "4        Story  1032080.0                    IMPORTED VODKA          277.0   \n",
       "5        Story  1012100.0                 CANADIAN WHISKIES          260.0   \n",
       "6        Story  1081010.0                 AMERICAN AMARETTO          434.0   \n",
       "7     Plymouth  1022100.0                           TEQUILA          421.0   \n",
       "8    Dickinson  1031100.0                   100 PROOF VODKA          300.0   \n",
       "9         Linn  1012100.0                 CANADIAN WHISKIES          115.0   \n",
       "\n",
       "                        Vendor Name Item Number  \\\n",
       "0             Sazerac North America       29287   \n",
       "1                    Luxco-St Louis       18196   \n",
       "2                    Luxco-St Louis       81406   \n",
       "3                    Luxco-St Louis       45276   \n",
       "4                       Stoli Group       34729   \n",
       "5                   Diageo Americas       11347   \n",
       "6                    Luxco-St Louis       76486   \n",
       "7                 Sazerac Co., Inc.       88768   \n",
       "8      Mccormick Distilling Company       36908   \n",
       "9  Constellation Wine Company, Inc.       10548   \n",
       "\n",
       "                         Item Description  Pack  Bottle Volume (ml)  \\\n",
       "0                              Barton Gin    12                1000   \n",
       "1  Ezra Brooks 50 Mo Ky Sour Mash Bourbon    12                 750   \n",
       "2         Thunder 101 Peppermint Schnapps    12                 750   \n",
       "3                     Paramount White Rum    12                 750   \n",
       "4                  Stolichnaya Elit Vodka     6                 750   \n",
       "5        Seagrams V.o. Bl Canadian Whisky    12                1000   \n",
       "6                      Paramount Amaretto    12                 750   \n",
       "7                  Tortilla White Tequila     6                1750   \n",
       "8                     Mccormick Vodka Pet     6                1750   \n",
       "9            Black Velvet Toasted Caramel     6                1750   \n",
       "\n",
       "   State Bottle Cost  State Bottle Retail  Bottles Sold  Sale (Dollars)  \\\n",
       "0               3.92                 5.88            24          141.12   \n",
       "1               6.84                10.26            12          123.12   \n",
       "2               6.50                 9.75            12          117.00   \n",
       "3               3.85                 5.77            12           69.24   \n",
       "4              29.99                44.99             1           44.99   \n",
       "5               9.49                14.24             2           28.48   \n",
       "6               3.38                 5.07             6           30.42   \n",
       "7              12.83                19.24             6          115.44   \n",
       "8               7.46                11.19             6           67.14   \n",
       "9              12.99                19.49             6          116.94   \n",
       "\n",
       "   Volume Sold (Liters)  Volume Sold (Gallons)  Year  \n",
       "0                 24.00                   6.34  2015  \n",
       "1                  9.00                   2.38  2015  \n",
       "2                  9.00                   2.38  2012  \n",
       "3                  9.00                   2.38  2013  \n",
       "4                  0.75                   0.20  2014  \n",
       "5                  2.00                   0.53  2012  \n",
       "6                  4.50                   1.19  2014  \n",
       "7                 10.50                   2.77  2013  \n",
       "8                 10.50                   2.77  2012  \n",
       "9                 10.50                   2.77  2014  "
      ]
     },
     "execution_count": 9,
     "metadata": {},
     "output_type": "execute_result"
    }
   ],
   "source": [
    "sales.head(10)"
   ]
  },
  {
   "cell_type": "code",
   "execution_count": 10,
   "id": "022f0022",
   "metadata": {},
   "outputs": [
    {
     "name": "stdout",
     "output_type": "stream",
     "text": [
      "CPU times: user 24.8 ms, sys: 74 µs, total: 24.9 ms\n",
      "Wall time: 23.4 ms\n"
     ]
    }
   ],
   "source": [
    "%%time\n",
    "product_df = pd.read_csv('../data/Iowa_Liquor_Products.csv')"
   ]
  },
  {
   "cell_type": "code",
   "execution_count": 11,
   "id": "745fb47e",
   "metadata": {},
   "outputs": [],
   "source": [
    "# Get rid of spaces in column names\n",
    "sales.columns = sales.columns.str.replace(' ','')\n",
    "product_df.columns = product_df.columns.str.replace(' ','')"
   ]
  },
  {
   "cell_type": "code",
   "execution_count": 12,
   "id": "3e1651b2",
   "metadata": {},
   "outputs": [
    {
     "data": {
      "text/plain": [
       "Index(['Invoice/ItemNumber', 'Date', 'StoreNumber', 'StoreName', 'Address',\n",
       "       'City', 'ZipCode', 'StoreLocation', 'CountyNumber', 'County',\n",
       "       'Category', 'CategoryName', 'VendorNumber', 'VendorName', 'ItemNumber',\n",
       "       'ItemDescription', 'Pack', 'BottleVolume(ml)', 'StateBottleCost',\n",
       "       'StateBottleRetail', 'BottlesSold', 'Sale(Dollars)',\n",
       "       'VolumeSold(Liters)', 'VolumeSold(Gallons)', 'Year'],\n",
       "      dtype='object')"
      ]
     },
     "execution_count": 12,
     "metadata": {},
     "output_type": "execute_result"
    }
   ],
   "source": [
    "sales.columns"
   ]
  },
  {
   "cell_type": "code",
   "execution_count": 13,
   "id": "fc0789be",
   "metadata": {},
   "outputs": [
    {
     "data": {
      "text/plain": [
       "Index(['ItemNumber', 'CategoryName', 'ItemDescription', 'Vendor', 'VendorName',\n",
       "       'BottleVolume(ml)', 'Pack', 'InnerPack', 'Age', 'Proof', 'ListDate',\n",
       "       'UPC', 'SCC', 'StateBottleCost', 'StateCaseCost', 'StateBottleRetail',\n",
       "       'ReportDate'],\n",
       "      dtype='object')"
      ]
     },
     "execution_count": 13,
     "metadata": {},
     "output_type": "execute_result"
    }
   ],
   "source": [
    "product_df.columns"
   ]
  },
  {
   "cell_type": "code",
   "execution_count": 14,
   "id": "bbe6a47b",
   "metadata": {},
   "outputs": [],
   "source": [
    "sales['Date']= pd.to_datetime(sales['Date'])"
   ]
  },
  {
   "cell_type": "markdown",
   "id": "db990d5e",
   "metadata": {},
   "source": [
    "# Clean & Create Transaction Table"
   ]
  },
  {
   "cell_type": "code",
   "execution_count": 15,
   "id": "daca4f59",
   "metadata": {},
   "outputs": [],
   "source": [
    "# add category group!!!!!!\n",
    "transaction_col = ['Invoice/ItemNumber',\n",
    "                   'Date',\n",
    "                   'StoreNumber',\n",
    "                   'ItemNumber',\n",
    "                   'VendorNumber',\n",
    "                   'BottlesSold',\n",
    "                   'VolumeSold(Gallons)',\n",
    "                   'Sale(Dollars)']\n",
    "\n",
    "transaction = sales[transaction_col].copy()"
   ]
  },
  {
   "cell_type": "code",
   "execution_count": 16,
   "id": "d9826578",
   "metadata": {},
   "outputs": [
    {
     "name": "stdout",
     "output_type": "stream",
     "text": [
      "<class 'pandas.core.frame.DataFrame'>\n",
      "RangeIndex: 23154845 entries, 0 to 23154844\n",
      "Data columns (total 8 columns):\n",
      " #   Column               Dtype         \n",
      "---  ------               -----         \n",
      " 0   Invoice/ItemNumber   object        \n",
      " 1   Date                 datetime64[ns]\n",
      " 2   StoreNumber          int64         \n",
      " 3   ItemNumber           object        \n",
      " 4   VendorNumber         float64       \n",
      " 5   BottlesSold          int64         \n",
      " 6   VolumeSold(Gallons)  float64       \n",
      " 7   Sale(Dollars)        float64       \n",
      "dtypes: datetime64[ns](1), float64(3), int64(2), object(2)\n",
      "memory usage: 1.4+ GB\n"
     ]
    }
   ],
   "source": [
    "transaction.info()"
   ]
  },
  {
   "cell_type": "markdown",
   "id": "6e8965ce",
   "metadata": {},
   "source": [
    "## 🧹 Data Cleaning - Transaction Table  "
   ]
  },
  {
   "cell_type": "code",
   "execution_count": 17,
   "id": "2f66107a",
   "metadata": {},
   "outputs": [],
   "source": [
    "# Data Cleaning\n",
    "transaction.rename(columns = {'Invoice/ItemNumber':'TransactionID',\n",
    "                              'StoreNumber':'StoreID',\n",
    "                              'ItemNumber':'ProductID',\n",
    "                              'VendorNumber':'VendorID',\n",
    "                            'VolumeSold(Gallons)':'VolumeSold_Gallons',\n",
    "                             'Sale(Dollars)':'Sale_Dollars'}, inplace = True)\n",
    "transaction['TransactionID'] = transaction['TransactionID'].apply(str)\n",
    "transaction['ProductID'] = transaction['ProductID'].apply(str)"
   ]
  },
  {
   "cell_type": "code",
   "execution_count": 18,
   "id": "77d4ac37",
   "metadata": {},
   "outputs": [],
   "source": [
    "transaction['Date'] = pd.to_datetime(transaction['Date'])"
   ]
  },
  {
   "cell_type": "code",
   "execution_count": 19,
   "id": "392906ad",
   "metadata": {
    "scrolled": true
   },
   "outputs": [
    {
     "data": {
      "text/html": [
       "<div>\n",
       "<style scoped>\n",
       "    .dataframe tbody tr th:only-of-type {\n",
       "        vertical-align: middle;\n",
       "    }\n",
       "\n",
       "    .dataframe tbody tr th {\n",
       "        vertical-align: top;\n",
       "    }\n",
       "\n",
       "    .dataframe thead th {\n",
       "        text-align: right;\n",
       "    }\n",
       "</style>\n",
       "<table border=\"1\" class=\"dataframe\">\n",
       "  <thead>\n",
       "    <tr style=\"text-align: right;\">\n",
       "      <th></th>\n",
       "      <th>TransactionID</th>\n",
       "      <th>Date</th>\n",
       "      <th>StoreID</th>\n",
       "      <th>ProductID</th>\n",
       "      <th>VendorID</th>\n",
       "      <th>BottlesSold</th>\n",
       "      <th>VolumeSold_Gallons</th>\n",
       "      <th>Sale_Dollars</th>\n",
       "    </tr>\n",
       "  </thead>\n",
       "  <tbody>\n",
       "    <tr>\n",
       "      <th>0</th>\n",
       "      <td>S24032900031</td>\n",
       "      <td>2015-02-16</td>\n",
       "      <td>3385</td>\n",
       "      <td>29287</td>\n",
       "      <td>55.0</td>\n",
       "      <td>24</td>\n",
       "      <td>6.34</td>\n",
       "      <td>141.12</td>\n",
       "    </tr>\n",
       "    <tr>\n",
       "      <th>1</th>\n",
       "      <td>S25392600010</td>\n",
       "      <td>2015-04-30</td>\n",
       "      <td>5034</td>\n",
       "      <td>18196</td>\n",
       "      <td>434.0</td>\n",
       "      <td>12</td>\n",
       "      <td>2.38</td>\n",
       "      <td>123.12</td>\n",
       "    </tr>\n",
       "    <tr>\n",
       "      <th>2</th>\n",
       "      <td>S08041400024</td>\n",
       "      <td>2012-10-01</td>\n",
       "      <td>2500</td>\n",
       "      <td>81406</td>\n",
       "      <td>434.0</td>\n",
       "      <td>12</td>\n",
       "      <td>2.38</td>\n",
       "      <td>117.00</td>\n",
       "    </tr>\n",
       "    <tr>\n",
       "      <th>3</th>\n",
       "      <td>S13626800019</td>\n",
       "      <td>2013-07-30</td>\n",
       "      <td>4203</td>\n",
       "      <td>45276</td>\n",
       "      <td>434.0</td>\n",
       "      <td>12</td>\n",
       "      <td>2.38</td>\n",
       "      <td>69.24</td>\n",
       "    </tr>\n",
       "    <tr>\n",
       "      <th>4</th>\n",
       "      <td>S20264600081</td>\n",
       "      <td>2014-07-23</td>\n",
       "      <td>4509</td>\n",
       "      <td>34729</td>\n",
       "      <td>277.0</td>\n",
       "      <td>1</td>\n",
       "      <td>0.20</td>\n",
       "      <td>44.99</td>\n",
       "    </tr>\n",
       "  </tbody>\n",
       "</table>\n",
       "</div>"
      ],
      "text/plain": [
       "  TransactionID       Date  StoreID ProductID  VendorID  BottlesSold  \\\n",
       "0  S24032900031 2015-02-16     3385     29287      55.0           24   \n",
       "1  S25392600010 2015-04-30     5034     18196     434.0           12   \n",
       "2  S08041400024 2012-10-01     2500     81406     434.0           12   \n",
       "3  S13626800019 2013-07-30     4203     45276     434.0           12   \n",
       "4  S20264600081 2014-07-23     4509     34729     277.0            1   \n",
       "\n",
       "   VolumeSold_Gallons  Sale_Dollars  \n",
       "0                6.34        141.12  \n",
       "1                2.38        123.12  \n",
       "2                2.38        117.00  \n",
       "3                2.38         69.24  \n",
       "4                0.20         44.99  "
      ]
     },
     "execution_count": 19,
     "metadata": {},
     "output_type": "execute_result"
    }
   ],
   "source": [
    "transaction.head()"
   ]
  },
  {
   "cell_type": "code",
   "execution_count": 20,
   "id": "31ee5d82",
   "metadata": {},
   "outputs": [
    {
     "data": {
      "text/plain": [
       "TransactionID          0\n",
       "Date                   0\n",
       "StoreID                0\n",
       "ProductID              0\n",
       "VendorID               9\n",
       "BottlesSold            0\n",
       "VolumeSold_Gallons     0\n",
       "Sale_Dollars          10\n",
       "dtype: int64"
      ]
     },
     "execution_count": 20,
     "metadata": {},
     "output_type": "execute_result"
    }
   ],
   "source": [
    "transaction.isnull().sum(axis = 0)"
   ]
  },
  {
   "cell_type": "code",
   "execution_count": 21,
   "id": "2361174d",
   "metadata": {},
   "outputs": [],
   "source": [
    "transaction = transaction.dropna()"
   ]
  },
  {
   "cell_type": "code",
   "execution_count": 22,
   "id": "c212071c",
   "metadata": {},
   "outputs": [
    {
     "data": {
      "text/plain": [
       "TransactionID         0\n",
       "Date                  0\n",
       "StoreID               0\n",
       "ProductID             0\n",
       "VendorID              0\n",
       "BottlesSold           0\n",
       "VolumeSold_Gallons    0\n",
       "Sale_Dollars          0\n",
       "dtype: int64"
      ]
     },
     "execution_count": 22,
     "metadata": {},
     "output_type": "execute_result"
    }
   ],
   "source": [
    "transaction.isnull().sum(axis = 0)"
   ]
  },
  {
   "cell_type": "code",
   "execution_count": 24,
   "id": "1223b465",
   "metadata": {},
   "outputs": [],
   "source": [
    "transaction.to_csv('../data/transaction.csv', index_label = False)"
   ]
  },
  {
   "cell_type": "code",
   "execution_count": 23,
   "id": "2ceb7320",
   "metadata": {},
   "outputs": [
    {
     "data": {
      "text/plain": [
       "TransactionID\n",
       "306831300001       1\n",
       "S10087900116       1\n",
       "S10087900115       1\n",
       "S10087900114       1\n",
       "S10087900113       1\n",
       "                  ..\n",
       "INV-23918300006    1\n",
       "INV-23918300005    1\n",
       "INV-23918300004    1\n",
       "INV-23918500039    1\n",
       "S444400083         1\n",
       "Length: 23154826, dtype: int64"
      ]
     },
     "execution_count": 23,
     "metadata": {},
     "output_type": "execute_result"
    }
   ],
   "source": [
    "transaction.groupby(['TransactionID']).size().sort_values()"
   ]
  },
  {
   "cell_type": "code",
   "execution_count": null,
   "id": "98253400",
   "metadata": {},
   "outputs": [],
   "source": []
  }
 ],
 "metadata": {
  "kernelspec": {
   "display_name": "Python 3 (ipykernel)",
   "language": "python",
   "name": "python3"
  },
  "language_info": {
   "codemirror_mode": {
    "name": "ipython",
    "version": 3
   },
   "file_extension": ".py",
   "mimetype": "text/x-python",
   "name": "python",
   "nbconvert_exporter": "python",
   "pygments_lexer": "ipython3",
   "version": "3.9.7"
  }
 },
 "nbformat": 4,
 "nbformat_minor": 5
}
