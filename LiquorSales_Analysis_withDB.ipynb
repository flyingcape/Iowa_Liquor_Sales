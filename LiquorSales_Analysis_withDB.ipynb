{
 "cells": [
  {
   "cell_type": "code",
   "execution_count": 1,
   "id": "6770d701",
   "metadata": {},
   "outputs": [],
   "source": [
    "import matplotlib as mpl\n",
    "import matplotlib.pyplot as plt\n",
    "import numpy as np\n",
    "import pandas as pd\n",
    "import seaborn as sns\n",
    "import sqlite3\n",
    "\n",
    "plt.style.use('ggplot')\n",
    "plt.rcParams.update({'font.size': 12})"
   ]
  },
  {
   "cell_type": "code",
   "execution_count": 2,
   "id": "e9231640",
   "metadata": {},
   "outputs": [],
   "source": [
    "pd.set_option('display.max_rows', 500)\n",
    "pd.set_option('display.max_columns', 500)"
   ]
  },
  {
   "cell_type": "markdown",
   "id": "b8bcc20b",
   "metadata": {},
   "source": [
    "# Data Analysis"
   ]
  },
  {
   "cell_type": "code",
   "execution_count": 3,
   "id": "8046dd50",
   "metadata": {},
   "outputs": [],
   "source": [
    "# Connect SQLite.\n",
    "dbconn = sqlite3.connect('../data/IowaLiquorSales.db')\n",
    "cursor = dbconn.cursor()\n",
    "\n",
    "# Pull Store database.\n",
    "query = '''SELECT Sales.Date, Sales.ProductID, Product.CategoryGroup, Sales.VendorID, Product.Proof, Sales.StoreID, Sales.VolumeSold_Liters, Sales.Sale_Dollars, Price.StateBottleRetail\n",
    "              FROM ((Sales \n",
    "              INNER JOIN Product ON Sales.ProductID=Product.ProductID)\n",
    "              INNER JOIN Price ON Sales.ProductID=Price.ProductID and Sales.Date=Price.Date)\n",
    "              WHERE Sales.Date BETWEEN '2019-01-01' AND '2019-12-31';'''\n",
    "cursor.execute(query)\n",
    "result = cursor.fetchall()\n",
    "cursor.close()\n",
    "dbconn.close()"
   ]
  },
  {
   "cell_type": "code",
   "execution_count": 4,
   "id": "577bd92c",
   "metadata": {},
   "outputs": [],
   "source": [
    "# Put the database in a data frame format.\n",
    "temp = pd.DataFrame(result, columns = ['Date',\n",
    "                                            'ProductID',\n",
    "                                            'CategoryGroup',\n",
    "                                            'VendorID',\n",
    "                                            'Proof',\n",
    "                                            'StoreID',\n",
    "                                            'VolumeSold_Gallons',\n",
    "                                            'Sale_Dollars',\n",
    "                                            'StateBottleRetail'])"
   ]
  },
  {
   "cell_type": "code",
   "execution_count": 5,
   "id": "ed2e69b7",
   "metadata": {
    "scrolled": true
   },
   "outputs": [
    {
     "data": {
      "text/html": [
       "<div>\n",
       "<style scoped>\n",
       "    .dataframe tbody tr th:only-of-type {\n",
       "        vertical-align: middle;\n",
       "    }\n",
       "\n",
       "    .dataframe tbody tr th {\n",
       "        vertical-align: top;\n",
       "    }\n",
       "\n",
       "    .dataframe thead th {\n",
       "        text-align: right;\n",
       "    }\n",
       "</style>\n",
       "<table border=\"1\" class=\"dataframe\">\n",
       "  <thead>\n",
       "    <tr style=\"text-align: right;\">\n",
       "      <th></th>\n",
       "      <th>Date</th>\n",
       "      <th>ProductID</th>\n",
       "      <th>CategoryGroup</th>\n",
       "      <th>VendorID</th>\n",
       "      <th>Proof</th>\n",
       "      <th>StoreID</th>\n",
       "      <th>VolumeSold_Gallons</th>\n",
       "      <th>Sale_Dollars</th>\n",
       "      <th>StateBottleRetail</th>\n",
       "    </tr>\n",
       "  </thead>\n",
       "  <tbody>\n",
       "    <tr>\n",
       "      <th>0</th>\n",
       "      <td>2019-03-19</td>\n",
       "      <td>26826</td>\n",
       "      <td>whisky</td>\n",
       "      <td>85</td>\n",
       "      <td>80.0</td>\n",
       "      <td>2513</td>\n",
       "      <td>18.00</td>\n",
       "      <td>560.64</td>\n",
       "      <td>23.36</td>\n",
       "    </tr>\n",
       "    <tr>\n",
       "      <th>1</th>\n",
       "      <td>2019-05-15</td>\n",
       "      <td>86251</td>\n",
       "      <td>liqueur</td>\n",
       "      <td>434</td>\n",
       "      <td>30.0</td>\n",
       "      <td>5068</td>\n",
       "      <td>12.00</td>\n",
       "      <td>43.56</td>\n",
       "      <td>3.63</td>\n",
       "    </tr>\n",
       "    <tr>\n",
       "      <th>2</th>\n",
       "      <td>2019-05-16</td>\n",
       "      <td>89566</td>\n",
       "      <td>tequila</td>\n",
       "      <td>55</td>\n",
       "      <td>80.0</td>\n",
       "      <td>2588</td>\n",
       "      <td>0.75</td>\n",
       "      <td>19.89</td>\n",
       "      <td>19.89</td>\n",
       "    </tr>\n",
       "    <tr>\n",
       "      <th>3</th>\n",
       "      <td>2019-05-15</td>\n",
       "      <td>35926</td>\n",
       "      <td>vodka</td>\n",
       "      <td>297</td>\n",
       "      <td>80.0</td>\n",
       "      <td>2647</td>\n",
       "      <td>9.00</td>\n",
       "      <td>60.72</td>\n",
       "      <td>5.06</td>\n",
       "    </tr>\n",
       "    <tr>\n",
       "      <th>4</th>\n",
       "      <td>2019-05-14</td>\n",
       "      <td>42699</td>\n",
       "      <td>rum</td>\n",
       "      <td>370</td>\n",
       "      <td>42.0</td>\n",
       "      <td>5202</td>\n",
       "      <td>2.25</td>\n",
       "      <td>33.72</td>\n",
       "      <td>11.24</td>\n",
       "    </tr>\n",
       "  </tbody>\n",
       "</table>\n",
       "</div>"
      ],
      "text/plain": [
       "         Date ProductID CategoryGroup  VendorID  Proof  StoreID  \\\n",
       "0  2019-03-19     26826        whisky        85   80.0     2513   \n",
       "1  2019-05-15     86251       liqueur       434   30.0     5068   \n",
       "2  2019-05-16     89566       tequila        55   80.0     2588   \n",
       "3  2019-05-15     35926         vodka       297   80.0     2647   \n",
       "4  2019-05-14     42699           rum       370   42.0     5202   \n",
       "\n",
       "   VolumeSold_Gallons  Sale_Dollars  StateBottleRetail  \n",
       "0               18.00        560.64              23.36  \n",
       "1               12.00         43.56               3.63  \n",
       "2                0.75         19.89              19.89  \n",
       "3                9.00         60.72               5.06  \n",
       "4                2.25         33.72              11.24  "
      ]
     },
     "execution_count": 5,
     "metadata": {},
     "output_type": "execute_result"
    }
   ],
   "source": [
    "temp.head()"
   ]
  },
  {
   "cell_type": "code",
   "execution_count": 6,
   "id": "5dd9b758",
   "metadata": {},
   "outputs": [
    {
     "data": {
      "text/plain": [
       "2380344"
      ]
     },
     "execution_count": 6,
     "metadata": {},
     "output_type": "execute_result"
    }
   ],
   "source": [
    "temp.shape[0]"
   ]
  },
  {
   "cell_type": "code",
   "execution_count": 7,
   "id": "f073e525",
   "metadata": {},
   "outputs": [
    {
     "data": {
      "text/plain": [
       "'2019-01-02'"
      ]
     },
     "execution_count": 7,
     "metadata": {},
     "output_type": "execute_result"
    }
   ],
   "source": [
    "temp['Date'].min()"
   ]
  },
  {
   "cell_type": "code",
   "execution_count": 8,
   "id": "e3a35682",
   "metadata": {},
   "outputs": [
    {
     "data": {
      "text/plain": [
       "'2019-12-31'"
      ]
     },
     "execution_count": 8,
     "metadata": {},
     "output_type": "execute_result"
    }
   ],
   "source": [
    "temp['Date'].max()"
   ]
  },
  {
   "cell_type": "code",
   "execution_count": 9,
   "id": "331f8cb2",
   "metadata": {},
   "outputs": [
    {
     "data": {
      "text/plain": [
       "Text(0, 0.5, 'Product Sold')"
      ]
     },
     "execution_count": 9,
     "metadata": {},
     "output_type": "execute_result"
    },
    {
     "data": {
      "image/png": "[encoded data removed]",
      "text/plain": [
       "<Figure size 864x432 with 1 Axes>"
      ]
     },
     "metadata": {},
     "output_type": "display_data"
    }
   ],
   "source": [
    "fig = plt.figure(figsize = (12,6))\n",
    "temp.groupby('CategoryGroup').size().sort_values(ascending=False).plot.bar()\n",
    "\n",
    "plt.ylabel('Product Sold',fontsize=22, color = 'black')"
   ]
  },
  {
   "cell_type": "code",
   "execution_count": null,
   "id": "c40d219f",
   "metadata": {},
   "outputs": [],
   "source": []
  },
  {
   "cell_type": "code",
   "execution_count": null,
   "id": "cbc7420e",
   "metadata": {},
   "outputs": [],
   "source": []
  },
  {
   "cell_type": "markdown",
   "id": "600f8f61",
   "metadata": {},
   "source": [
    "# Store Density by County"
   ]
  },
  {
   "cell_type": "code",
   "execution_count": 10,
   "id": "974c5378",
   "metadata": {},
   "outputs": [],
   "source": [
    "# Connect SQLite.\n",
    "dbconn = sqlite3.connect('../data/IowaLiquorSales.db')\n",
    "cursor = dbconn.cursor()\n",
    "\n",
    "# Pull Store database.\n",
    "query = '''SELECT Sales.TransactionID, Sales.Date, Sales.StoreID, Sales.ProductID, Store.County, Store.lat, Store.lng, County.Year, County.Population, County.UNEMPLOYMENT_RATE\n",
    "              FROM ((Sales \n",
    "              INNER JOIN Store ON Sales.StoreID=Store.StoreID)\n",
    "              INNER JOIN County ON Store.County=County.County)\n",
    "              WHERE Sales.Date BETWEEN '2019-01-01' AND '2019-12-31' \n",
    "              AND County.Year = '2019';'''\n",
    "cursor.execute(query)\n",
    "result1 = cursor.fetchall()\n",
    "cursor.close()\n",
    "dbconn.close()"
   ]
  },
  {
   "cell_type": "code",
   "execution_count": 11,
   "id": "0f71a561",
   "metadata": {},
   "outputs": [],
   "source": [
    "# Put the database in a data frame format.\n",
    "temp1 = pd.DataFrame(result1, columns = ['TransactionID',\n",
    "                                            'Date',\n",
    "                                            'StoreID',\n",
    "                                            'ProductID',\n",
    "                                            'County',\n",
    "                                            'lat',\n",
    "                                            'lng','Year','Population','Unemployment_Rate'])"
   ]
  },
  {
   "cell_type": "code",
   "execution_count": 12,
   "id": "957726b6",
   "metadata": {},
   "outputs": [
    {
     "data": {
      "text/html": [
       "<div>\n",
       "<style scoped>\n",
       "    .dataframe tbody tr th:only-of-type {\n",
       "        vertical-align: middle;\n",
       "    }\n",
       "\n",
       "    .dataframe tbody tr th {\n",
       "        vertical-align: top;\n",
       "    }\n",
       "\n",
       "    .dataframe thead th {\n",
       "        text-align: right;\n",
       "    }\n",
       "</style>\n",
       "<table border=\"1\" class=\"dataframe\">\n",
       "  <thead>\n",
       "    <tr style=\"text-align: right;\">\n",
       "      <th></th>\n",
       "      <th>TransactionID</th>\n",
       "      <th>Date</th>\n",
       "      <th>StoreID</th>\n",
       "      <th>ProductID</th>\n",
       "      <th>County</th>\n",
       "      <th>lat</th>\n",
       "      <th>lng</th>\n",
       "      <th>Year</th>\n",
       "      <th>Population</th>\n",
       "      <th>Unemployment_Rate</th>\n",
       "    </tr>\n",
       "  </thead>\n",
       "  <tbody>\n",
       "    <tr>\n",
       "      <th>0</th>\n",
       "      <td>INV-18212400042</td>\n",
       "      <td>2019-03-19</td>\n",
       "      <td>2513</td>\n",
       "      <td>26826</td>\n",
       "      <td>johnson</td>\n",
       "      <td>41.65143</td>\n",
       "      <td>-91.50105</td>\n",
       "      <td>2019</td>\n",
       "      <td>152480</td>\n",
       "      <td>2.4</td>\n",
       "    </tr>\n",
       "    <tr>\n",
       "      <th>1</th>\n",
       "      <td>INV-19392400209</td>\n",
       "      <td>2019-05-15</td>\n",
       "      <td>5068</td>\n",
       "      <td>86251</td>\n",
       "      <td>dickinson</td>\n",
       "      <td>43.36136</td>\n",
       "      <td>-95.13954</td>\n",
       "      <td>2019</td>\n",
       "      <td>17290</td>\n",
       "      <td>2.5</td>\n",
       "    </tr>\n",
       "    <tr>\n",
       "      <th>2</th>\n",
       "      <td>INV-19405700109</td>\n",
       "      <td>2019-05-16</td>\n",
       "      <td>2588</td>\n",
       "      <td>89566</td>\n",
       "      <td>linn</td>\n",
       "      <td>41.97518</td>\n",
       "      <td>-91.60977</td>\n",
       "      <td>2019</td>\n",
       "      <td>227241</td>\n",
       "      <td>3.1</td>\n",
       "    </tr>\n",
       "    <tr>\n",
       "      <th>3</th>\n",
       "      <td>INV-19379800083</td>\n",
       "      <td>2019-05-15</td>\n",
       "      <td>2647</td>\n",
       "      <td>35926</td>\n",
       "      <td>linn</td>\n",
       "      <td>41.93023</td>\n",
       "      <td>-91.71520</td>\n",
       "      <td>2019</td>\n",
       "      <td>227241</td>\n",
       "      <td>3.1</td>\n",
       "    </tr>\n",
       "    <tr>\n",
       "      <th>4</th>\n",
       "      <td>INV-19363000015</td>\n",
       "      <td>2019-05-14</td>\n",
       "      <td>5202</td>\n",
       "      <td>42699</td>\n",
       "      <td>black hawk</td>\n",
       "      <td>42.42449</td>\n",
       "      <td>-92.21869</td>\n",
       "      <td>2019</td>\n",
       "      <td>131089</td>\n",
       "      <td>3.7</td>\n",
       "    </tr>\n",
       "  </tbody>\n",
       "</table>\n",
       "</div>"
      ],
      "text/plain": [
       "     TransactionID        Date  StoreID ProductID      County       lat  \\\n",
       "0  INV-18212400042  2019-03-19     2513     26826     johnson  41.65143   \n",
       "1  INV-19392400209  2019-05-15     5068     86251   dickinson  43.36136   \n",
       "2  INV-19405700109  2019-05-16     2588     89566        linn  41.97518   \n",
       "3  INV-19379800083  2019-05-15     2647     35926        linn  41.93023   \n",
       "4  INV-19363000015  2019-05-14     5202     42699  black hawk  42.42449   \n",
       "\n",
       "        lng  Year  Population  Unemployment_Rate  \n",
       "0 -91.50105  2019      152480                2.4  \n",
       "1 -95.13954  2019       17290                2.5  \n",
       "2 -91.60977  2019      227241                3.1  \n",
       "3 -91.71520  2019      227241                3.1  \n",
       "4 -92.21869  2019      131089                3.7  "
      ]
     },
     "execution_count": 12,
     "metadata": {},
     "output_type": "execute_result"
    }
   ],
   "source": [
    "temp1.head()"
   ]
  },
  {
   "cell_type": "code",
   "execution_count": 13,
   "id": "2faa28f6",
   "metadata": {},
   "outputs": [
    {
     "data": {
      "text/html": [
       "<div>\n",
       "<style scoped>\n",
       "    .dataframe tbody tr th:only-of-type {\n",
       "        vertical-align: middle;\n",
       "    }\n",
       "\n",
       "    .dataframe tbody tr th {\n",
       "        vertical-align: top;\n",
       "    }\n",
       "\n",
       "    .dataframe thead th {\n",
       "        text-align: right;\n",
       "    }\n",
       "</style>\n",
       "<table border=\"1\" class=\"dataframe\">\n",
       "  <thead>\n",
       "    <tr style=\"text-align: right;\">\n",
       "      <th></th>\n",
       "      <th>County</th>\n",
       "      <th>Year</th>\n",
       "      <th>Population</th>\n",
       "      <th>Income_PerCapita</th>\n",
       "      <th>LABORFORCE</th>\n",
       "      <th>EMPLOYMENT</th>\n",
       "      <th>UNEMPLOYMENT</th>\n",
       "      <th>UNEMPLOYMENT_RATE</th>\n",
       "    </tr>\n",
       "  </thead>\n",
       "  <tbody>\n",
       "    <tr>\n",
       "      <th>891</th>\n",
       "      <td>adair</td>\n",
       "      <td>2019</td>\n",
       "      <td>7102</td>\n",
       "      <td>51911.0</td>\n",
       "      <td>4370</td>\n",
       "      <td>4280</td>\n",
       "      <td>100</td>\n",
       "      <td>2.2</td>\n",
       "    </tr>\n",
       "    <tr>\n",
       "      <th>892</th>\n",
       "      <td>adams</td>\n",
       "      <td>2019</td>\n",
       "      <td>3602</td>\n",
       "      <td>57401.0</td>\n",
       "      <td>2250</td>\n",
       "      <td>2210</td>\n",
       "      <td>40</td>\n",
       "      <td>1.8</td>\n",
       "    </tr>\n",
       "    <tr>\n",
       "      <th>893</th>\n",
       "      <td>allamakee</td>\n",
       "      <td>2019</td>\n",
       "      <td>13671</td>\n",
       "      <td>48046.0</td>\n",
       "      <td>7430</td>\n",
       "      <td>7220</td>\n",
       "      <td>210</td>\n",
       "      <td>2.9</td>\n",
       "    </tr>\n",
       "    <tr>\n",
       "      <th>894</th>\n",
       "      <td>appanoose</td>\n",
       "      <td>2019</td>\n",
       "      <td>12525</td>\n",
       "      <td>38918.0</td>\n",
       "      <td>6170</td>\n",
       "      <td>5930</td>\n",
       "      <td>240</td>\n",
       "      <td>3.9</td>\n",
       "    </tr>\n",
       "    <tr>\n",
       "      <th>895</th>\n",
       "      <td>audubon</td>\n",
       "      <td>2019</td>\n",
       "      <td>5491</td>\n",
       "      <td>51186.0</td>\n",
       "      <td>3160</td>\n",
       "      <td>3080</td>\n",
       "      <td>80</td>\n",
       "      <td>2.5</td>\n",
       "    </tr>\n",
       "  </tbody>\n",
       "</table>\n",
       "</div>"
      ],
      "text/plain": [
       "        County  Year  Population  Income_PerCapita  LABORFORCE  EMPLOYMENT  \\\n",
       "891      adair  2019        7102           51911.0        4370        4280   \n",
       "892      adams  2019        3602           57401.0        2250        2210   \n",
       "893  allamakee  2019       13671           48046.0        7430        7220   \n",
       "894  appanoose  2019       12525           38918.0        6170        5930   \n",
       "895    audubon  2019        5491           51186.0        3160        3080   \n",
       "\n",
       "     UNEMPLOYMENT  UNEMPLOYMENT_RATE  \n",
       "891           100                2.2  \n",
       "892            40                1.8  \n",
       "893           210                2.9  \n",
       "894           240                3.9  \n",
       "895            80                2.5  "
      ]
     },
     "execution_count": 13,
     "metadata": {},
     "output_type": "execute_result"
    }
   ],
   "source": [
    "county = pd.read_csv('../data/county.csv')\n",
    "county.rename(columns={'UNEMPLOYMENT RATE': 'UNEMPLOYMENT_RATE'}, inplace=True)\n",
    "county_2019 = county.loc[county['Year']==2019]\n",
    "county_2019.head()"
   ]
  },
  {
   "cell_type": "code",
   "execution_count": 14,
   "id": "32c5d96a",
   "metadata": {},
   "outputs": [
    {
     "data": {
      "text/html": [
       "<div>\n",
       "<style scoped>\n",
       "    .dataframe tbody tr th:only-of-type {\n",
       "        vertical-align: middle;\n",
       "    }\n",
       "\n",
       "    .dataframe tbody tr th {\n",
       "        vertical-align: top;\n",
       "    }\n",
       "\n",
       "    .dataframe thead th {\n",
       "        text-align: right;\n",
       "    }\n",
       "</style>\n",
       "<table border=\"1\" class=\"dataframe\">\n",
       "  <thead>\n",
       "    <tr style=\"text-align: right;\">\n",
       "      <th></th>\n",
       "      <th>County</th>\n",
       "      <th>Store_Count</th>\n",
       "    </tr>\n",
       "  </thead>\n",
       "  <tbody>\n",
       "    <tr>\n",
       "      <th>0</th>\n",
       "      <td>polk</td>\n",
       "      <td>223</td>\n",
       "    </tr>\n",
       "    <tr>\n",
       "      <th>1</th>\n",
       "      <td>linn</td>\n",
       "      <td>120</td>\n",
       "    </tr>\n",
       "    <tr>\n",
       "      <th>2</th>\n",
       "      <td>black hawk</td>\n",
       "      <td>84</td>\n",
       "    </tr>\n",
       "    <tr>\n",
       "      <th>3</th>\n",
       "      <td>scott</td>\n",
       "      <td>83</td>\n",
       "    </tr>\n",
       "    <tr>\n",
       "      <th>4</th>\n",
       "      <td>johnson</td>\n",
       "      <td>72</td>\n",
       "    </tr>\n",
       "  </tbody>\n",
       "</table>\n",
       "</div>"
      ],
      "text/plain": [
       "       County  Store_Count\n",
       "0        polk          223\n",
       "1        linn          120\n",
       "2  black hawk           84\n",
       "3       scott           83\n",
       "4     johnson           72"
      ]
     },
     "execution_count": 14,
     "metadata": {},
     "output_type": "execute_result"
    }
   ],
   "source": [
    "StoreCount_temp = temp1.groupby(['County'])['StoreID'].nunique().sort_values(ascending=False).to_frame(name='Store_Count').reset_index()\n",
    "StoreCount_temp.head()"
   ]
  },
  {
   "cell_type": "code",
   "execution_count": 15,
   "id": "5efb9ef1",
   "metadata": {},
   "outputs": [
    {
     "data": {
      "text/html": [
       "<div>\n",
       "<style scoped>\n",
       "    .dataframe tbody tr th:only-of-type {\n",
       "        vertical-align: middle;\n",
       "    }\n",
       "\n",
       "    .dataframe tbody tr th {\n",
       "        vertical-align: top;\n",
       "    }\n",
       "\n",
       "    .dataframe thead th {\n",
       "        text-align: right;\n",
       "    }\n",
       "</style>\n",
       "<table border=\"1\" class=\"dataframe\">\n",
       "  <thead>\n",
       "    <tr style=\"text-align: right;\">\n",
       "      <th></th>\n",
       "      <th>County</th>\n",
       "      <th>Store_Count</th>\n",
       "      <th>Year</th>\n",
       "      <th>Population</th>\n",
       "      <th>Income_PerCapita</th>\n",
       "      <th>LABORFORCE</th>\n",
       "      <th>EMPLOYMENT</th>\n",
       "      <th>UNEMPLOYMENT</th>\n",
       "      <th>UNEMPLOYMENT_RATE</th>\n",
       "      <th>StoresPer10K</th>\n",
       "    </tr>\n",
       "  </thead>\n",
       "  <tbody>\n",
       "    <tr>\n",
       "      <th>0</th>\n",
       "      <td>polk</td>\n",
       "      <td>223</td>\n",
       "      <td>2019</td>\n",
       "      <td>491031</td>\n",
       "      <td>54049.0</td>\n",
       "      <td>277700</td>\n",
       "      <td>269600</td>\n",
       "      <td>8100</td>\n",
       "      <td>2.9</td>\n",
       "      <td>4.541465</td>\n",
       "    </tr>\n",
       "    <tr>\n",
       "      <th>1</th>\n",
       "      <td>linn</td>\n",
       "      <td>120</td>\n",
       "      <td>2019</td>\n",
       "      <td>227241</td>\n",
       "      <td>53578.0</td>\n",
       "      <td>125600</td>\n",
       "      <td>121700</td>\n",
       "      <td>3900</td>\n",
       "      <td>3.1</td>\n",
       "      <td>5.280737</td>\n",
       "    </tr>\n",
       "    <tr>\n",
       "      <th>2</th>\n",
       "      <td>black hawk</td>\n",
       "      <td>84</td>\n",
       "      <td>2019</td>\n",
       "      <td>131089</td>\n",
       "      <td>46103.0</td>\n",
       "      <td>70300</td>\n",
       "      <td>67700</td>\n",
       "      <td>2600</td>\n",
       "      <td>3.7</td>\n",
       "      <td>6.407860</td>\n",
       "    </tr>\n",
       "    <tr>\n",
       "      <th>3</th>\n",
       "      <td>scott</td>\n",
       "      <td>83</td>\n",
       "      <td>2019</td>\n",
       "      <td>173400</td>\n",
       "      <td>55094.0</td>\n",
       "      <td>92800</td>\n",
       "      <td>89700</td>\n",
       "      <td>3100</td>\n",
       "      <td>3.3</td>\n",
       "      <td>4.786621</td>\n",
       "    </tr>\n",
       "    <tr>\n",
       "      <th>4</th>\n",
       "      <td>johnson</td>\n",
       "      <td>72</td>\n",
       "      <td>2019</td>\n",
       "      <td>152480</td>\n",
       "      <td>54769.0</td>\n",
       "      <td>88600</td>\n",
       "      <td>86500</td>\n",
       "      <td>2100</td>\n",
       "      <td>2.4</td>\n",
       "      <td>4.721931</td>\n",
       "    </tr>\n",
       "  </tbody>\n",
       "</table>\n",
       "</div>"
      ],
      "text/plain": [
       "       County  Store_Count  Year  Population  Income_PerCapita  LABORFORCE  \\\n",
       "0        polk          223  2019      491031           54049.0      277700   \n",
       "1        linn          120  2019      227241           53578.0      125600   \n",
       "2  black hawk           84  2019      131089           46103.0       70300   \n",
       "3       scott           83  2019      173400           55094.0       92800   \n",
       "4     johnson           72  2019      152480           54769.0       88600   \n",
       "\n",
       "   EMPLOYMENT  UNEMPLOYMENT  UNEMPLOYMENT_RATE  StoresPer10K  \n",
       "0      269600          8100                2.9      4.541465  \n",
       "1      121700          3900                3.1      5.280737  \n",
       "2       67700          2600                3.7      6.407860  \n",
       "3       89700          3100                3.3      4.786621  \n",
       "4       86500          2100                2.4      4.721931  "
      ]
     },
     "execution_count": 15,
     "metadata": {},
     "output_type": "execute_result"
    }
   ],
   "source": [
    "StoreCount = StoreCount_temp.merge(county_2019, on = ['County'], how = 'left')\n",
    "StoreCount['StoresPer10K'] = (StoreCount['Store_Count']/StoreCount['Population'])*10000\n",
    "StoreCount.head()"
   ]
  },
  {
   "cell_type": "code",
   "execution_count": 16,
   "id": "a65fc479",
   "metadata": {},
   "outputs": [],
   "source": [
    "import geopandas as gpd\n",
    "from shapely.geometry import Point, Polygon"
   ]
  },
  {
   "cell_type": "code",
   "execution_count": 17,
   "id": "d0e2c33e",
   "metadata": {},
   "outputs": [],
   "source": [
    "import matplotlib.colors as colors\n",
    "def truncate_colormap(cmap, minval=0.0, maxval=1.0, n=100):\n",
    "    new_cmap = colors.LinearSegmentedColormap.from_list(\n",
    "        'trunc({n},{a:.2f},{b:.2f})'.format(n=cmap.name, a=minval, b=maxval),\n",
    "        cmap(np.linspace(minval, maxval, n)))\n",
    "    return new_cmap\n",
    "\n",
    "\n",
    "cmap = plt.get_cmap('magma_r')\n",
    "new_cmap = truncate_colormap(cmap, 0, 0.6)"
   ]
  },
  {
   "cell_type": "code",
   "execution_count": 18,
   "id": "4971d7d1",
   "metadata": {},
   "outputs": [],
   "source": [
    "# County Boundaries Shape File\n",
    "map_counties = gpd.read_file(\n",
    "    '../data/County_Boundaries_of_Iowa/geo_export_b0962504-4b8e-4a81-9f03-586d790445ed.shp')\n",
    "\n",
    "map_counties.rename(columns={'county_nam': 'County'}, inplace=True)\n",
    "map_counties[\"County\"] = map_counties[\"County\"].str.upper()\n",
    "map_counties = map_counties.sort_values(by=['County'])\n",
    "\n",
    "map_counties['County'] = map_counties['County'].str.lower()"
   ]
  },
  {
   "cell_type": "code",
   "execution_count": 19,
   "id": "83ba3f12",
   "metadata": {},
   "outputs": [
    {
     "data": {
      "text/html": [
       "<div>\n",
       "<style scoped>\n",
       "    .dataframe tbody tr th:only-of-type {\n",
       "        vertical-align: middle;\n",
       "    }\n",
       "\n",
       "    .dataframe tbody tr th {\n",
       "        vertical-align: top;\n",
       "    }\n",
       "\n",
       "    .dataframe thead th {\n",
       "        text-align: right;\n",
       "    }\n",
       "</style>\n",
       "<table border=\"1\" class=\"dataframe\">\n",
       "  <thead>\n",
       "    <tr style=\"text-align: right;\">\n",
       "      <th></th>\n",
       "      <th>gnis_featu</th>\n",
       "      <th>fips</th>\n",
       "      <th>state_coun</th>\n",
       "      <th>County</th>\n",
       "      <th>acres</th>\n",
       "      <th>geometry</th>\n",
       "    </tr>\n",
       "  </thead>\n",
       "  <tbody>\n",
       "    <tr>\n",
       "      <th>71</th>\n",
       "      <td>465190</td>\n",
       "      <td>19001</td>\n",
       "      <td>01</td>\n",
       "      <td>adair</td>\n",
       "      <td>364794.8</td>\n",
       "      <td>POLYGON ((-94.70051 41.50434, -94.68163 41.504...</td>\n",
       "    </tr>\n",
       "    <tr>\n",
       "      <th>80</th>\n",
       "      <td>465191</td>\n",
       "      <td>19003</td>\n",
       "      <td>02</td>\n",
       "      <td>adams</td>\n",
       "      <td>272218.7</td>\n",
       "      <td>POLYGON ((-94.92751 41.15872, -94.91078 41.158...</td>\n",
       "    </tr>\n",
       "    <tr>\n",
       "      <th>5</th>\n",
       "      <td>465192</td>\n",
       "      <td>19005</td>\n",
       "      <td>03</td>\n",
       "      <td>allamakee</td>\n",
       "      <td>421810.2</td>\n",
       "      <td>POLYGON ((-91.61075 43.50060, -91.61061 43.500...</td>\n",
       "    </tr>\n",
       "    <tr>\n",
       "      <th>97</th>\n",
       "      <td>465193</td>\n",
       "      <td>19007</td>\n",
       "      <td>04</td>\n",
       "      <td>appanoose</td>\n",
       "      <td>330047.6</td>\n",
       "      <td>POLYGON ((-93.09759 40.89823, -93.07897 40.898...</td>\n",
       "    </tr>\n",
       "    <tr>\n",
       "      <th>58</th>\n",
       "      <td>465194</td>\n",
       "      <td>19009</td>\n",
       "      <td>05</td>\n",
       "      <td>audubon</td>\n",
       "      <td>283755.1</td>\n",
       "      <td>POLYGON ((-95.09285 41.86336, -95.07302 41.863...</td>\n",
       "    </tr>\n",
       "  </tbody>\n",
       "</table>\n",
       "</div>"
      ],
      "text/plain": [
       "   gnis_featu   fips state_coun     County     acres  \\\n",
       "71     465190  19001         01      adair  364794.8   \n",
       "80     465191  19003         02      adams  272218.7   \n",
       "5      465192  19005         03  allamakee  421810.2   \n",
       "97     465193  19007         04  appanoose  330047.6   \n",
       "58     465194  19009         05    audubon  283755.1   \n",
       "\n",
       "                                             geometry  \n",
       "71  POLYGON ((-94.70051 41.50434, -94.68163 41.504...  \n",
       "80  POLYGON ((-94.92751 41.15872, -94.91078 41.158...  \n",
       "5   POLYGON ((-91.61075 43.50060, -91.61061 43.500...  \n",
       "97  POLYGON ((-93.09759 40.89823, -93.07897 40.898...  \n",
       "58  POLYGON ((-95.09285 41.86336, -95.07302 41.863...  "
      ]
     },
     "execution_count": 19,
     "metadata": {},
     "output_type": "execute_result"
    }
   ],
   "source": [
    "map_counties.head()"
   ]
  },
  {
   "cell_type": "code",
   "execution_count": 20,
   "id": "c6c334e9",
   "metadata": {},
   "outputs": [],
   "source": [
    "map_counties.loc[map_counties['County']==\"obrien\",'County']=\"o'brien\""
   ]
  },
  {
   "cell_type": "code",
   "execution_count": 21,
   "id": "bd63ea8f",
   "metadata": {},
   "outputs": [
    {
     "data": {
      "text/plain": [
       "[]"
      ]
     },
     "execution_count": 21,
     "metadata": {},
     "output_type": "execute_result"
    }
   ],
   "source": [
    "# Digging into the discrepancies \n",
    "temp2 = list(map_counties['County'].unique())\n",
    "temp1 = list(StoreCount['County'].unique())\n",
    "s = set(temp2)\n",
    "temp3 = [x for x in temp1 if x not in s]\n",
    "temp3"
   ]
  },
  {
   "cell_type": "code",
   "execution_count": 22,
   "id": "79aa7dcf",
   "metadata": {},
   "outputs": [
    {
     "data": {
      "text/html": [
       "<div>\n",
       "<style scoped>\n",
       "    .dataframe tbody tr th:only-of-type {\n",
       "        vertical-align: middle;\n",
       "    }\n",
       "\n",
       "    .dataframe tbody tr th {\n",
       "        vertical-align: top;\n",
       "    }\n",
       "\n",
       "    .dataframe thead th {\n",
       "        text-align: right;\n",
       "    }\n",
       "</style>\n",
       "<table border=\"1\" class=\"dataframe\">\n",
       "  <thead>\n",
       "    <tr style=\"text-align: right;\">\n",
       "      <th></th>\n",
       "      <th>gnis_featu</th>\n",
       "      <th>fips</th>\n",
       "      <th>state_coun</th>\n",
       "      <th>County</th>\n",
       "      <th>acres</th>\n",
       "      <th>geometry</th>\n",
       "      <th>Store_Count</th>\n",
       "      <th>Year</th>\n",
       "      <th>Population</th>\n",
       "      <th>Income_PerCapita</th>\n",
       "      <th>LABORFORCE</th>\n",
       "      <th>EMPLOYMENT</th>\n",
       "      <th>UNEMPLOYMENT</th>\n",
       "      <th>UNEMPLOYMENT_RATE</th>\n",
       "      <th>StoresPer10K</th>\n",
       "    </tr>\n",
       "  </thead>\n",
       "  <tbody>\n",
       "    <tr>\n",
       "      <th>0</th>\n",
       "      <td>465190</td>\n",
       "      <td>19001</td>\n",
       "      <td>01</td>\n",
       "      <td>adair</td>\n",
       "      <td>364794.8</td>\n",
       "      <td>POLYGON ((-94.70051 41.50434, -94.68163 41.504...</td>\n",
       "      <td>6</td>\n",
       "      <td>2019</td>\n",
       "      <td>7102</td>\n",
       "      <td>51911.0</td>\n",
       "      <td>4370</td>\n",
       "      <td>4280</td>\n",
       "      <td>100</td>\n",
       "      <td>2.2</td>\n",
       "      <td>8.448324</td>\n",
       "    </tr>\n",
       "    <tr>\n",
       "      <th>1</th>\n",
       "      <td>465191</td>\n",
       "      <td>19003</td>\n",
       "      <td>02</td>\n",
       "      <td>adams</td>\n",
       "      <td>272218.7</td>\n",
       "      <td>POLYGON ((-94.92751 41.15872, -94.91078 41.158...</td>\n",
       "      <td>2</td>\n",
       "      <td>2019</td>\n",
       "      <td>3602</td>\n",
       "      <td>57401.0</td>\n",
       "      <td>2250</td>\n",
       "      <td>2210</td>\n",
       "      <td>40</td>\n",
       "      <td>1.8</td>\n",
       "      <td>5.552471</td>\n",
       "    </tr>\n",
       "    <tr>\n",
       "      <th>2</th>\n",
       "      <td>465192</td>\n",
       "      <td>19005</td>\n",
       "      <td>03</td>\n",
       "      <td>allamakee</td>\n",
       "      <td>421810.2</td>\n",
       "      <td>POLYGON ((-91.61075 43.50060, -91.61061 43.500...</td>\n",
       "      <td>8</td>\n",
       "      <td>2019</td>\n",
       "      <td>13671</td>\n",
       "      <td>48046.0</td>\n",
       "      <td>7430</td>\n",
       "      <td>7220</td>\n",
       "      <td>210</td>\n",
       "      <td>2.9</td>\n",
       "      <td>5.851803</td>\n",
       "    </tr>\n",
       "    <tr>\n",
       "      <th>3</th>\n",
       "      <td>465193</td>\n",
       "      <td>19007</td>\n",
       "      <td>04</td>\n",
       "      <td>appanoose</td>\n",
       "      <td>330047.6</td>\n",
       "      <td>POLYGON ((-93.09759 40.89823, -93.07897 40.898...</td>\n",
       "      <td>9</td>\n",
       "      <td>2019</td>\n",
       "      <td>12525</td>\n",
       "      <td>38918.0</td>\n",
       "      <td>6170</td>\n",
       "      <td>5930</td>\n",
       "      <td>240</td>\n",
       "      <td>3.9</td>\n",
       "      <td>7.185629</td>\n",
       "    </tr>\n",
       "    <tr>\n",
       "      <th>4</th>\n",
       "      <td>465194</td>\n",
       "      <td>19009</td>\n",
       "      <td>05</td>\n",
       "      <td>audubon</td>\n",
       "      <td>283755.1</td>\n",
       "      <td>POLYGON ((-95.09285 41.86336, -95.07302 41.863...</td>\n",
       "      <td>4</td>\n",
       "      <td>2019</td>\n",
       "      <td>5491</td>\n",
       "      <td>51186.0</td>\n",
       "      <td>3160</td>\n",
       "      <td>3080</td>\n",
       "      <td>80</td>\n",
       "      <td>2.5</td>\n",
       "      <td>7.284648</td>\n",
       "    </tr>\n",
       "  </tbody>\n",
       "</table>\n",
       "</div>"
      ],
      "text/plain": [
       "  gnis_featu   fips state_coun     County     acres  \\\n",
       "0     465190  19001         01      adair  364794.8   \n",
       "1     465191  19003         02      adams  272218.7   \n",
       "2     465192  19005         03  allamakee  421810.2   \n",
       "3     465193  19007         04  appanoose  330047.6   \n",
       "4     465194  19009         05    audubon  283755.1   \n",
       "\n",
       "                                            geometry  Store_Count  Year  \\\n",
       "0  POLYGON ((-94.70051 41.50434, -94.68163 41.504...            6  2019   \n",
       "1  POLYGON ((-94.92751 41.15872, -94.91078 41.158...            2  2019   \n",
       "2  POLYGON ((-91.61075 43.50060, -91.61061 43.500...            8  2019   \n",
       "3  POLYGON ((-93.09759 40.89823, -93.07897 40.898...            9  2019   \n",
       "4  POLYGON ((-95.09285 41.86336, -95.07302 41.863...            4  2019   \n",
       "\n",
       "   Population  Income_PerCapita  LABORFORCE  EMPLOYMENT  UNEMPLOYMENT  \\\n",
       "0        7102           51911.0        4370        4280           100   \n",
       "1        3602           57401.0        2250        2210            40   \n",
       "2       13671           48046.0        7430        7220           210   \n",
       "3       12525           38918.0        6170        5930           240   \n",
       "4        5491           51186.0        3160        3080            80   \n",
       "\n",
       "   UNEMPLOYMENT_RATE  StoresPer10K  \n",
       "0                2.2      8.448324  \n",
       "1                1.8      5.552471  \n",
       "2                2.9      5.851803  \n",
       "3                3.9      7.185629  \n",
       "4                2.5      7.284648  "
      ]
     },
     "execution_count": 22,
     "metadata": {},
     "output_type": "execute_result"
    }
   ],
   "source": [
    "map_counties2 = map_counties.merge(StoreCount, on = ['County'], how = 'left')\n",
    "map_counties2.head()"
   ]
  },
  {
   "cell_type": "code",
   "execution_count": 23,
   "id": "1d885462",
   "metadata": {},
   "outputs": [
    {
     "name": "stderr",
     "output_type": "stream",
     "text": [
      "No handles with labels found to put in legend.\n"
     ]
    },
    {
     "data": {
      "text/plain": [
       "<matplotlib.legend.Legend at 0x7f9e0f493070>"
      ]
     },
     "execution_count": 23,
     "metadata": {},
     "output_type": "execute_result"
    },
    {
     "data": {
      "image/png": "[encoded data removed]",
      "text/plain": [
       "<Figure size 1080x1080 with 2 Axes>"
      ]
     },
     "metadata": {},
     "output_type": "display_data"
    }
   ],
   "source": [
    "fig,ax = plt.subplots(figsize = (15,15))\n",
    "\n",
    "# County Boundaries\n",
    "map_counties2.to_crs(epsg=4326).plot(ax = ax, alpha=0.2, color=\"gray\",edgecolor='black')\n",
    "\n",
    "ax.set_title('Stores in 2019')\n",
    "\n",
    "map_counties.plot(color='white', edgecolor='red', ax=ax)\n",
    "map_counties2.plot(column='Store_Count', cmap=new_cmap, ax=ax, legend=True)\n",
    "ax.legend(prop={'size':1}, loc='best')"
   ]
  },
  {
   "cell_type": "code",
   "execution_count": 24,
   "id": "bc896925",
   "metadata": {},
   "outputs": [
    {
     "name": "stderr",
     "output_type": "stream",
     "text": [
      "No handles with labels found to put in legend.\n"
     ]
    },
    {
     "data": {
      "text/plain": [
       "<matplotlib.legend.Legend at 0x7f9e0f474880>"
      ]
     },
     "execution_count": 24,
     "metadata": {},
     "output_type": "execute_result"
    },
    {
     "data": {
      "image/png": "[encoded data removed]",
      "text/plain": [
       "<Figure size 1080x1080 with 2 Axes>"
      ]
     },
     "metadata": {},
     "output_type": "display_data"
    }
   ],
   "source": [
    "fig,ax = plt.subplots(figsize = (15,15))\n",
    "\n",
    "# County Boundaries\n",
    "map_counties2.to_crs(epsg=4326).plot(ax = ax, alpha=0.2, color=\"gray\",edgecolor='black')\n",
    "\n",
    "ax.set_title('Stores per 10K in 2019')\n",
    "\n",
    "map_counties.plot(color='white', edgecolor='red', ax=ax)\n",
    "map_counties2.plot(column='StoresPer10K', cmap=new_cmap, ax=ax, legend=True)\n",
    "ax.legend(prop={'size':1}, loc='best')"
   ]
  },
  {
   "cell_type": "markdown",
   "id": "39b01c32",
   "metadata": {},
   "source": [
    "# Store Information???"
   ]
  },
  {
   "cell_type": "code",
   "execution_count": 25,
   "id": "cc882a00",
   "metadata": {},
   "outputs": [],
   "source": [
    "# Connect SQLite.\n",
    "dbconn = sqlite3.connect('../data/IowaLiquorSales.db')\n",
    "cursor = dbconn.cursor()\n",
    "\n",
    "# Pull Store database.\n",
    "query = '''SELECT Sales.TransactionID, Sales.Date, Sales.StoreID, Store.StoreType, Sales.ProductID, Store.County, Store.lat, Store.lng\n",
    "              FROM (Sales \n",
    "              INNER JOIN Store ON Sales.StoreID=Store.StoreID)\n",
    "              WHERE Sales.Date BETWEEN '2019-01-01' AND '2019-12-31';'''\n",
    "cursor.execute(query)\n",
    "result2 = cursor.fetchall()\n",
    "cursor.close()\n",
    "dbconn.close()"
   ]
  },
  {
   "cell_type": "code",
   "execution_count": 26,
   "id": "e1d7cd0a",
   "metadata": {},
   "outputs": [],
   "source": [
    "# Put the database in a data frame format.\n",
    "temp2 = pd.DataFrame(result2, columns = ['TransactionID',\n",
    "                                            'Date',\n",
    "                                            'StoreID',\n",
    "                                            'StoreType',\n",
    "                                            'ProductID',\n",
    "                                            'County',\n",
    "                                            'lat',\n",
    "                                            'lng'])"
   ]
  },
  {
   "cell_type": "code",
   "execution_count": 27,
   "id": "6253b45b",
   "metadata": {},
   "outputs": [
    {
     "data": {
      "text/html": [
       "<div>\n",
       "<style scoped>\n",
       "    .dataframe tbody tr th:only-of-type {\n",
       "        vertical-align: middle;\n",
       "    }\n",
       "\n",
       "    .dataframe tbody tr th {\n",
       "        vertical-align: top;\n",
       "    }\n",
       "\n",
       "    .dataframe thead th {\n",
       "        text-align: right;\n",
       "    }\n",
       "</style>\n",
       "<table border=\"1\" class=\"dataframe\">\n",
       "  <thead>\n",
       "    <tr style=\"text-align: right;\">\n",
       "      <th></th>\n",
       "      <th>TransactionID</th>\n",
       "      <th>Date</th>\n",
       "      <th>StoreID</th>\n",
       "      <th>StoreType</th>\n",
       "      <th>ProductID</th>\n",
       "      <th>County</th>\n",
       "      <th>lat</th>\n",
       "      <th>lng</th>\n",
       "    </tr>\n",
       "  </thead>\n",
       "  <tbody>\n",
       "    <tr>\n",
       "      <th>0</th>\n",
       "      <td>INV-18212400042</td>\n",
       "      <td>2019-03-19</td>\n",
       "      <td>2513</td>\n",
       "      <td>Food/General Store</td>\n",
       "      <td>26826</td>\n",
       "      <td>johnson</td>\n",
       "      <td>41.65143</td>\n",
       "      <td>-91.50105</td>\n",
       "    </tr>\n",
       "    <tr>\n",
       "      <th>1</th>\n",
       "      <td>INV-19392400209</td>\n",
       "      <td>2019-05-15</td>\n",
       "      <td>5068</td>\n",
       "      <td>General Store</td>\n",
       "      <td>86251</td>\n",
       "      <td>dickinson</td>\n",
       "      <td>43.36136</td>\n",
       "      <td>-95.13954</td>\n",
       "    </tr>\n",
       "    <tr>\n",
       "      <th>2</th>\n",
       "      <td>INV-19405700109</td>\n",
       "      <td>2019-05-16</td>\n",
       "      <td>2588</td>\n",
       "      <td>Drugstore</td>\n",
       "      <td>89566</td>\n",
       "      <td>linn</td>\n",
       "      <td>41.97518</td>\n",
       "      <td>-91.60977</td>\n",
       "    </tr>\n",
       "    <tr>\n",
       "      <th>3</th>\n",
       "      <td>INV-19379800083</td>\n",
       "      <td>2019-05-15</td>\n",
       "      <td>2647</td>\n",
       "      <td>General Store</td>\n",
       "      <td>35926</td>\n",
       "      <td>linn</td>\n",
       "      <td>41.93023</td>\n",
       "      <td>-91.71520</td>\n",
       "    </tr>\n",
       "    <tr>\n",
       "      <th>4</th>\n",
       "      <td>INV-19363000015</td>\n",
       "      <td>2019-05-14</td>\n",
       "      <td>5202</td>\n",
       "      <td>General Store</td>\n",
       "      <td>42699</td>\n",
       "      <td>black hawk</td>\n",
       "      <td>42.42449</td>\n",
       "      <td>-92.21869</td>\n",
       "    </tr>\n",
       "  </tbody>\n",
       "</table>\n",
       "</div>"
      ],
      "text/plain": [
       "     TransactionID        Date  StoreID           StoreType ProductID  \\\n",
       "0  INV-18212400042  2019-03-19     2513  Food/General Store     26826   \n",
       "1  INV-19392400209  2019-05-15     5068       General Store     86251   \n",
       "2  INV-19405700109  2019-05-16     2588           Drugstore     89566   \n",
       "3  INV-19379800083  2019-05-15     2647       General Store     35926   \n",
       "4  INV-19363000015  2019-05-14     5202       General Store     42699   \n",
       "\n",
       "       County       lat       lng  \n",
       "0     johnson  41.65143 -91.50105  \n",
       "1   dickinson  43.36136 -95.13954  \n",
       "2        linn  41.97518 -91.60977  \n",
       "3        linn  41.93023 -91.71520  \n",
       "4  black hawk  42.42449 -92.21869  "
      ]
     },
     "execution_count": 27,
     "metadata": {},
     "output_type": "execute_result"
    }
   ],
   "source": [
    "temp2.head()"
   ]
  },
  {
   "cell_type": "code",
   "execution_count": 28,
   "id": "7031ec82",
   "metadata": {},
   "outputs": [
    {
     "data": {
      "text/plain": [
       "1748"
      ]
     },
     "execution_count": 28,
     "metadata": {},
     "output_type": "execute_result"
    }
   ],
   "source": [
    "temp2['StoreID'].nunique()"
   ]
  },
  {
   "cell_type": "code",
   "execution_count": null,
   "id": "c3a6acc9",
   "metadata": {},
   "outputs": [],
   "source": []
  }
 ],
 "metadata": {
  "kernelspec": {
   "display_name": "Python 3 (ipykernel)",
   "language": "python",
   "name": "python3"
  },
  "language_info": {
   "codemirror_mode": {
    "name": "ipython",
    "version": 3
   },
   "file_extension": ".py",
   "mimetype": "text/x-python",
   "name": "python",
   "nbconvert_exporter": "python",
   "pygments_lexer": "ipython3",
   "version": "3.9.7"
  }
 },
 "nbformat": 4,
 "nbformat_minor": 5
}
