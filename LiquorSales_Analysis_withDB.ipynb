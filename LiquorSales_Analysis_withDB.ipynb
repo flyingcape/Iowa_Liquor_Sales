{
 "cells": [
  {
   "cell_type": "code",
   "execution_count": 1,
   "id": "6770d701",
   "metadata": {},
   "outputs": [],
   "source": [
    "import matplotlib as mpl\n",
    "import matplotlib.pyplot as plt\n",
    "import numpy as np\n",
    "import pandas as pd\n",
    "import seaborn as sns\n",
    "import sqlite3\n",
    "\n",
    "plt.style.use('ggplot')\n",
    "plt.rcParams.update({'font.size': 20})"
   ]
  },
  {
   "cell_type": "code",
   "execution_count": 2,
   "id": "e9231640",
   "metadata": {},
   "outputs": [],
   "source": [
    "pd.set_option('display.max_rows', 500)\n",
    "pd.set_option('display.max_columns', 500)"
   ]
  },
  {
   "cell_type": "markdown",
   "id": "b8bcc20b",
   "metadata": {},
   "source": [
    "# Data Analysis"
   ]
  },
  {
   "cell_type": "code",
   "execution_count": 61,
   "id": "8046dd50",
   "metadata": {},
   "outputs": [],
   "source": [
    "# Connect SQLite.\n",
    "dbconn = sqlite3.connect('../data/IowaLiquorSales.db')\n",
    "cursor = dbconn.cursor()\n",
    "\n",
    "# Pull Store database.\n",
    "query = '''SELECT Sales.Date, Sales.ProductID, Product.CategoryGroup, Sales.VendorID, Product.Proof, Sales.StoreID, Sales.VolumeSold_Gallons, Sales.Sale_Dollars, Price.StateBottleRetail\n",
    "              FROM ((Sales \n",
    "              INNER JOIN Product ON Sales.ProductID=Product.ProductID)\n",
    "              INNER JOIN Price ON Sales.ProductID=Price.ProductID and Sales.Date=Price.Date)\n",
    "              WHERE Sales.Date BETWEEN '2019-01-01' AND '2019-12-31';'''\n",
    "cursor.execute(query)\n",
    "result = cursor.fetchall()\n",
    "cursor.close()\n",
    "dbconn.close()"
   ]
  },
  {
   "cell_type": "code",
   "execution_count": 62,
   "id": "577bd92c",
   "metadata": {},
   "outputs": [],
   "source": [
    "# Put the database in a data frame format.\n",
    "temp = pd.DataFrame(result, columns = ['Date',\n",
    "                                            'ProductID',\n",
    "                                            'CategoryGroup',\n",
    "                                            'VendorID',\n",
    "                                            'Proof',\n",
    "                                            'StoreID',\n",
    "                                            'VolumeSold_Gallons',\n",
    "                                            'Sale_Dollars',\n",
    "                                            'StateBottleRetail'])"
   ]
  },
  {
   "cell_type": "code",
   "execution_count": 63,
   "id": "ed2e69b7",
   "metadata": {},
   "outputs": [
    {
     "data": {
      "text/html": [
       "<div>\n",
       "<style scoped>\n",
       "    .dataframe tbody tr th:only-of-type {\n",
       "        vertical-align: middle;\n",
       "    }\n",
       "\n",
       "    .dataframe tbody tr th {\n",
       "        vertical-align: top;\n",
       "    }\n",
       "\n",
       "    .dataframe thead th {\n",
       "        text-align: right;\n",
       "    }\n",
       "</style>\n",
       "<table border=\"1\" class=\"dataframe\">\n",
       "  <thead>\n",
       "    <tr style=\"text-align: right;\">\n",
       "      <th></th>\n",
       "      <th>Date</th>\n",
       "      <th>ProductID</th>\n",
       "      <th>CategoryGroup</th>\n",
       "      <th>VendorID</th>\n",
       "      <th>Proof</th>\n",
       "      <th>StoreID</th>\n",
       "      <th>VolumeSold_Gallons</th>\n",
       "      <th>Sale_Dollars</th>\n",
       "      <th>StateBottleRetail</th>\n",
       "    </tr>\n",
       "  </thead>\n",
       "  <tbody>\n",
       "    <tr>\n",
       "      <th>0</th>\n",
       "      <td>2019-03-19</td>\n",
       "      <td>26826</td>\n",
       "      <td>whisky</td>\n",
       "      <td>85</td>\n",
       "      <td>80.0</td>\n",
       "      <td>2513</td>\n",
       "      <td>4.75</td>\n",
       "      <td>560.64</td>\n",
       "      <td>23.36</td>\n",
       "    </tr>\n",
       "    <tr>\n",
       "      <th>1</th>\n",
       "      <td>2019-05-15</td>\n",
       "      <td>86251</td>\n",
       "      <td>liqueur</td>\n",
       "      <td>434</td>\n",
       "      <td>30.0</td>\n",
       "      <td>5068</td>\n",
       "      <td>3.17</td>\n",
       "      <td>43.56</td>\n",
       "      <td>3.63</td>\n",
       "    </tr>\n",
       "    <tr>\n",
       "      <th>2</th>\n",
       "      <td>2019-05-16</td>\n",
       "      <td>89566</td>\n",
       "      <td>tequila</td>\n",
       "      <td>55</td>\n",
       "      <td>80.0</td>\n",
       "      <td>2588</td>\n",
       "      <td>0.19</td>\n",
       "      <td>19.89</td>\n",
       "      <td>19.89</td>\n",
       "    </tr>\n",
       "    <tr>\n",
       "      <th>3</th>\n",
       "      <td>2019-05-15</td>\n",
       "      <td>35926</td>\n",
       "      <td>vodka</td>\n",
       "      <td>297</td>\n",
       "      <td>80.0</td>\n",
       "      <td>2647</td>\n",
       "      <td>2.37</td>\n",
       "      <td>60.72</td>\n",
       "      <td>5.06</td>\n",
       "    </tr>\n",
       "    <tr>\n",
       "      <th>4</th>\n",
       "      <td>2019-05-14</td>\n",
       "      <td>42699</td>\n",
       "      <td>rum</td>\n",
       "      <td>370</td>\n",
       "      <td>42.0</td>\n",
       "      <td>5202</td>\n",
       "      <td>0.59</td>\n",
       "      <td>33.72</td>\n",
       "      <td>11.24</td>\n",
       "    </tr>\n",
       "  </tbody>\n",
       "</table>\n",
       "</div>"
      ],
      "text/plain": [
       "         Date ProductID CategoryGroup  VendorID  Proof  StoreID  \\\n",
       "0  2019-03-19     26826        whisky        85   80.0     2513   \n",
       "1  2019-05-15     86251       liqueur       434   30.0     5068   \n",
       "2  2019-05-16     89566       tequila        55   80.0     2588   \n",
       "3  2019-05-15     35926         vodka       297   80.0     2647   \n",
       "4  2019-05-14     42699           rum       370   42.0     5202   \n",
       "\n",
       "   VolumeSold_Gallons  Sale_Dollars  StateBottleRetail  \n",
       "0                4.75        560.64              23.36  \n",
       "1                3.17         43.56               3.63  \n",
       "2                0.19         19.89              19.89  \n",
       "3                2.37         60.72               5.06  \n",
       "4                0.59         33.72              11.24  "
      ]
     },
     "execution_count": 63,
     "metadata": {},
     "output_type": "execute_result"
    }
   ],
   "source": [
    "temp.head()"
   ]
  },
  {
   "cell_type": "code",
   "execution_count": 64,
   "id": "5dd9b758",
   "metadata": {},
   "outputs": [
    {
     "data": {
      "text/plain": [
       "2380344"
      ]
     },
     "execution_count": 64,
     "metadata": {},
     "output_type": "execute_result"
    }
   ],
   "source": [
    "temp.shape[0]"
   ]
  },
  {
   "cell_type": "code",
   "execution_count": 67,
   "id": "f073e525",
   "metadata": {},
   "outputs": [
    {
     "data": {
      "text/plain": [
       "'2019-01-02'"
      ]
     },
     "execution_count": 67,
     "metadata": {},
     "output_type": "execute_result"
    }
   ],
   "source": [
    "temp['Date'].min()"
   ]
  },
  {
   "cell_type": "code",
   "execution_count": 68,
   "id": "e3a35682",
   "metadata": {},
   "outputs": [
    {
     "data": {
      "text/plain": [
       "'2019-12-31'"
      ]
     },
     "execution_count": 68,
     "metadata": {},
     "output_type": "execute_result"
    }
   ],
   "source": [
    "temp['Date'].max()"
   ]
  },
  {
   "cell_type": "code",
   "execution_count": 66,
   "id": "331f8cb2",
   "metadata": {},
   "outputs": [
    {
     "data": {
      "text/plain": [
       "Text(0, 0.5, 'Product Sold')"
      ]
     },
     "execution_count": 66,
     "metadata": {},
     "output_type": "execute_result"
    },
    {
     "data": {
      "image/png": "[encoded data removed]",
      "text/plain": [
       "<Figure size 864x432 with 1 Axes>"
      ]
     },
     "metadata": {},
     "output_type": "display_data"
    }
   ],
   "source": [
    "fig = plt.figure(figsize = (12,6))\n",
    "temp.groupby('CategoryGroup').size().sort_values(ascending=False).plot.bar()\n",
    "\n",
    "plt.ylabel('Product Sold',fontsize=22, color = 'black')"
   ]
  },
  {
   "cell_type": "code",
   "execution_count": null,
   "id": "957726b6",
   "metadata": {},
   "outputs": [],
   "source": []
  }
 ],
 "metadata": {
  "kernelspec": {
   "display_name": "Python 3 (ipykernel)",
   "language": "python",
   "name": "python3"
  },
  "language_info": {
   "codemirror_mode": {
    "name": "ipython",
    "version": 3
   },
   "file_extension": ".py",
   "mimetype": "text/x-python",
   "name": "python",
   "nbconvert_exporter": "python",
   "pygments_lexer": "ipython3",
   "version": "3.9.7"
  }
 },
 "nbformat": 4,
 "nbformat_minor": 5
}
