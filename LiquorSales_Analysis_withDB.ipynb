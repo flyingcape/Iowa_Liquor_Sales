{
 "cells": [
  {
   "cell_type": "code",
   "execution_count": 1,
   "id": "6770d701",
   "metadata": {},
   "outputs": [],
   "source": [
    "import matplotlib as mpl\n",
    "import matplotlib.pyplot as plt\n",
    "import numpy as np\n",
    "import pandas as pd\n",
    "import seaborn as sns\n",
    "import sqlite3\n",
    "\n",
    "plt.style.use('ggplot')\n",
    "plt.rcParams.update({'font.size': 12})"
   ]
  },
  {
   "cell_type": "code",
   "execution_count": 2,
   "id": "e9231640",
   "metadata": {},
   "outputs": [],
   "source": [
    "pd.set_option('display.max_rows', 500)\n",
    "pd.set_option('display.max_columns', 500)"
   ]
  },
  {
   "cell_type": "markdown",
   "id": "b8bcc20b",
   "metadata": {},
   "source": [
    "# Data Analysis"
   ]
  },
  {
   "cell_type": "code",
   "execution_count": null,
   "id": "8046dd50",
   "metadata": {},
   "outputs": [],
   "source": [
    "# Connect SQLite.\n",
    "dbconn = sqlite3.connect('../data/IowaLiquorSales.db')\n",
    "cursor = dbconn.cursor()\n",
    "\n",
    "# Pull Store database.\n",
    "query = '''SELECT Sales.Date, Sales.ProductID, Product.CategoryGroup, Sales.VendorID, Product.Proof, Sales.StoreID, Sales.VolumeSold_Liters, Sales.Sale_Dollars, Price.StateBottleRetail\n",
    "              FROM ((Sales \n",
    "              INNER JOIN Product ON Sales.ProductID=Product.ProductID)\n",
    "              INNER JOIN Price ON Sales.ProductID=Price.ProductID and Sales.Date=Price.Date)\n",
    "              WHERE Sales.Date BETWEEN '2019-01-01' AND '2019-12-31';'''\n",
    "cursor.execute(query)\n",
    "result = cursor.fetchall()\n",
    "cursor.close()\n",
    "dbconn.close()"
   ]
  },
  {
   "cell_type": "code",
   "execution_count": null,
   "id": "577bd92c",
   "metadata": {},
   "outputs": [],
   "source": [
    "# Put the database in a data frame format.\n",
    "temp = pd.DataFrame(result, columns = ['Date',\n",
    "                                            'ProductID',\n",
    "                                            'CategoryGroup',\n",
    "                                            'VendorID',\n",
    "                                            'Proof',\n",
    "                                            'StoreID',\n",
    "                                            'VolumeSold_Gallons',\n",
    "                                            'Sale_Dollars',\n",
    "                                            'StateBottleRetail'])"
   ]
  },
  {
   "cell_type": "code",
   "execution_count": null,
   "id": "ed2e69b7",
   "metadata": {
    "scrolled": true
   },
   "outputs": [],
   "source": [
    "temp.head()"
   ]
  },
  {
   "cell_type": "code",
   "execution_count": null,
   "id": "5dd9b758",
   "metadata": {},
   "outputs": [],
   "source": [
    "temp.shape[0]"
   ]
  },
  {
   "cell_type": "code",
   "execution_count": null,
   "id": "f073e525",
   "metadata": {},
   "outputs": [],
   "source": [
    "temp['Date'].min()"
   ]
  },
  {
   "cell_type": "code",
   "execution_count": null,
   "id": "e3a35682",
   "metadata": {},
   "outputs": [],
   "source": [
    "temp['Date'].max()"
   ]
  },
  {
   "cell_type": "code",
   "execution_count": null,
   "id": "331f8cb2",
   "metadata": {},
   "outputs": [],
   "source": [
    "fig = plt.figure(figsize = (12,6))\n",
    "temp.groupby('CategoryGroup').size().sort_values(ascending=False).plot.bar()\n",
    "\n",
    "plt.ylabel('Product Sold',fontsize=22, color = 'black')"
   ]
  },
  {
   "cell_type": "code",
   "execution_count": null,
   "id": "33863043",
   "metadata": {},
   "outputs": [],
   "source": []
  },
  {
   "cell_type": "code",
   "execution_count": null,
   "id": "71777a54",
   "metadata": {},
   "outputs": [],
   "source": []
  },
  {
   "cell_type": "markdown",
   "id": "e665d12e",
   "metadata": {},
   "source": [
    "# Store Density by County"
   ]
  },
  {
   "cell_type": "code",
   "execution_count": null,
   "id": "ed813f35",
   "metadata": {},
   "outputs": [],
   "source": [
    "# Connect SQLite.\n",
    "dbconn = sqlite3.connect('../data/IowaLiquorSales.db')\n",
    "cursor = dbconn.cursor()\n",
    "\n",
    "# Pull Store database.\n",
    "query = '''SELECT Sales.TransactionID, Sales.Date, Sales.StoreID, Sales.ProductID, Store.County, Store.lat, Store.lng, County.Year, County.Population, County.UNEMPLOYMENT_RATE\n",
    "              FROM ((Sales \n",
    "              INNER JOIN Store ON Sales.StoreID=Store.StoreID)\n",
    "              INNER JOIN County ON Store.County=County.County)\n",
    "              WHERE Sales.Date BETWEEN '2019-01-01' AND '2019-12-31' \n",
    "              AND County.Year = '2019';'''\n",
    "cursor.execute(query)\n",
    "result1 = cursor.fetchall()\n",
    "cursor.close()\n",
    "dbconn.close()"
   ]
  },
  {
   "cell_type": "code",
   "execution_count": null,
   "id": "e0878e1e",
   "metadata": {},
   "outputs": [],
   "source": [
    "# Put the database in a data frame format.\n",
    "temp1 = pd.DataFrame(result1, columns = ['TransactionID',\n",
    "                                            'Date',\n",
    "                                            'StoreID',\n",
    "                                            'ProductID',\n",
    "                                            'County',\n",
    "                                            'lat',\n",
    "                                            'lng','Year','Population','Unemployment_Rate'])"
   ]
  },
  {
   "cell_type": "code",
   "execution_count": null,
   "id": "957726b6",
   "metadata": {},
   "outputs": [],
   "source": [
    "temp1.head()"
   ]
  },
  {
   "cell_type": "code",
   "execution_count": null,
   "id": "9dd0858d",
   "metadata": {},
   "outputs": [],
   "source": [
    "county = pd.read_csv('../data/county.csv')\n",
    "county.rename(columns={'UNEMPLOYMENT RATE': 'UNEMPLOYMENT_RATE'}, inplace=True)\n",
    "county_2019 = county.loc[county['Year']==2019]\n",
    "county_2019.head()"
   ]
  },
  {
   "cell_type": "code",
   "execution_count": null,
   "id": "a9bdc364",
   "metadata": {},
   "outputs": [],
   "source": [
    "StoreCount_temp = temp1.groupby(['County'])['StoreID'].nunique().sort_values(ascending=False).to_frame(name='Store_Count').reset_index()\n",
    "StoreCount_temp.head()"
   ]
  },
  {
   "cell_type": "code",
   "execution_count": null,
   "id": "6bac5ff9",
   "metadata": {},
   "outputs": [],
   "source": [
    "StoreCount = StoreCount_temp.merge(county_2019, on = ['County'], how = 'left')\n",
    "StoreCount['StoresPer10K'] = (StoreCount['Store_Count']/StoreCount['Population'])*10000\n",
    "StoreCount.head()"
   ]
  },
  {
   "cell_type": "code",
   "execution_count": null,
   "id": "ca147efc",
   "metadata": {},
   "outputs": [],
   "source": [
    "import geopandas as gpd\n",
    "from shapely.geometry import Point, Polygon"
   ]
  },
  {
   "cell_type": "code",
   "execution_count": null,
   "id": "62c690cf",
   "metadata": {},
   "outputs": [],
   "source": [
    "import matplotlib.colors as colors\n",
    "def truncate_colormap(cmap, minval=0.0, maxval=1.0, n=100):\n",
    "    new_cmap = colors.LinearSegmentedColormap.from_list(\n",
    "        'trunc({n},{a:.2f},{b:.2f})'.format(n=cmap.name, a=minval, b=maxval),\n",
    "        cmap(np.linspace(minval, maxval, n)))\n",
    "    return new_cmap\n",
    "\n",
    "\n",
    "cmap = plt.get_cmap('magma_r')\n",
    "new_cmap = truncate_colormap(cmap, 0, 0.6)"
   ]
  },
  {
   "cell_type": "code",
   "execution_count": null,
   "id": "a778efc4",
   "metadata": {},
   "outputs": [],
   "source": [
    "# County Boundaries Shape File\n",
    "map_counties = gpd.read_file(\n",
    "    '../data/County_Boundaries_of_Iowa/geo_export_b0962504-4b8e-4a81-9f03-586d790445ed.shp')\n",
    "\n",
    "map_counties.rename(columns={'county_nam': 'County'}, inplace=True)\n",
    "map_counties[\"County\"] = map_counties[\"County\"].str.upper()\n",
    "map_counties = map_counties.sort_values(by=['County'])\n",
    "\n",
    "map_counties['County'] = map_counties['County'].str.lower()"
   ]
  },
  {
   "cell_type": "code",
   "execution_count": null,
   "id": "508bc1ad",
   "metadata": {},
   "outputs": [],
   "source": [
    "map_counties.head()"
   ]
  },
  {
   "cell_type": "code",
   "execution_count": null,
   "id": "4ea92721",
   "metadata": {},
   "outputs": [],
   "source": [
    "map_counties.loc[map_counties['County']==\"obrien\",'County']=\"o'brien\""
   ]
  },
  {
   "cell_type": "code",
   "execution_count": null,
   "id": "0bbf9c17",
   "metadata": {},
   "outputs": [],
   "source": [
    "# Digging into the discrepancies \n",
    "temp2 = list(map_counties['County'].unique())\n",
    "temp1 = list(StoreCount['County'].unique())\n",
    "s = set(temp2)\n",
    "temp3 = [x for x in temp1 if x not in s]\n",
    "temp3"
   ]
  },
  {
   "cell_type": "code",
   "execution_count": null,
   "id": "f1e8f88c",
   "metadata": {},
   "outputs": [],
   "source": [
    "map_counties2 = map_counties.merge(StoreCount, on = ['County'], how = 'left')\n",
    "map_counties2.head()"
   ]
  },
  {
   "cell_type": "code",
   "execution_count": null,
   "id": "e787db93",
   "metadata": {},
   "outputs": [],
   "source": [
    "fig,ax = plt.subplots(figsize = (15,15))\n",
    "\n",
    "# County Boundaries\n",
    "map_counties2.to_crs(epsg=4326).plot(ax = ax, alpha=0.2, color=\"gray\",edgecolor='black')\n",
    "\n",
    "ax.set_title('Stores in 2019')\n",
    "\n",
    "map_counties.plot(color='white', edgecolor='red', ax=ax)\n",
    "map_counties2.plot(column='Store_Count', cmap=new_cmap, ax=ax, legend=True)\n",
    "ax.legend(prop={'size':1}, loc='best')"
   ]
  },
  {
   "cell_type": "code",
   "execution_count": null,
   "id": "3e7b097f",
   "metadata": {},
   "outputs": [],
   "source": [
    "fig,ax = plt.subplots(figsize = (15,15))\n",
    "\n",
    "# County Boundaries\n",
    "map_counties2.to_crs(epsg=4326).plot(ax = ax, alpha=0.2, color=\"gray\",edgecolor='black')\n",
    "\n",
    "ax.set_title('Stores per 10K in 2019')\n",
    "\n",
    "map_counties.plot(color='white', edgecolor='red', ax=ax)\n",
    "map_counties2.plot(column='StoresPer10K', cmap=new_cmap, ax=ax, legend=True)\n",
    "ax.legend(prop={'size':1}, loc='best')"
   ]
  },
  {
   "cell_type": "markdown",
   "id": "9a1ee403",
   "metadata": {},
   "source": [
    "# Store Information???"
   ]
  },
  {
   "cell_type": "code",
   "execution_count": null,
   "id": "9a6738d0",
   "metadata": {},
   "outputs": [],
   "source": [
    "# Connect SQLite.\n",
    "dbconn = sqlite3.connect('../data/IowaLiquorSales.db')\n",
    "cursor = dbconn.cursor()\n",
    "\n",
    "# Pull Store database.\n",
    "query = '''SELECT Sales.TransactionID, Sales.Date, Sales.StoreID, Store.StoreType, Sales.ProductID, Store.County, Store.lat, Store.lng\n",
    "              FROM (Sales \n",
    "              INNER JOIN Store ON Sales.StoreID=Store.StoreID)\n",
    "              WHERE Sales.Date BETWEEN '2019-01-01' AND '2019-12-31';'''\n",
    "cursor.execute(query)\n",
    "result2 = cursor.fetchall()\n",
    "cursor.close()\n",
    "dbconn.close()"
   ]
  },
  {
   "cell_type": "code",
   "execution_count": null,
   "id": "a806e602",
   "metadata": {},
   "outputs": [],
   "source": [
    "# Put the database in a data frame format.\n",
    "temp2 = pd.DataFrame(result2, columns = ['TransactionID',\n",
    "                                            'Date',\n",
    "                                            'StoreID',\n",
    "                                            'StoreType',\n",
    "                                            'ProductID',\n",
    "                                            'County',\n",
    "                                            'lat',\n",
    "                                            'lng'])"
   ]
  },
  {
   "cell_type": "code",
   "execution_count": null,
   "id": "da7ec6fc",
   "metadata": {},
   "outputs": [],
   "source": [
    "temp2.head()"
   ]
  },
  {
   "cell_type": "code",
   "execution_count": null,
   "id": "d35aa735",
   "metadata": {},
   "outputs": [],
   "source": [
    "temp2['StoreID'].nunique()"
   ]
  },
  {
   "cell_type": "code",
   "execution_count": null,
   "id": "e419f8d5",
   "metadata": {},
   "outputs": [],
   "source": []
  }
 ],
 "metadata": {
  "kernelspec": {
   "display_name": "Python 3 (ipykernel)",
   "language": "python",
   "name": "python3"
  },
  "language_info": {
   "codemirror_mode": {
    "name": "ipython",
    "version": 3
   },
   "file_extension": ".py",
   "mimetype": "text/x-python",
   "name": "python",
   "nbconvert_exporter": "python",
   "pygments_lexer": "ipython3",
   "version": "3.9.7"
  }
 },
 "nbformat": 4,
 "nbformat_minor": 5
}
