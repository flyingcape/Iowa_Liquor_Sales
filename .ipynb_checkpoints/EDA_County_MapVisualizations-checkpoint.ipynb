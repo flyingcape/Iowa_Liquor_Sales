{
 "cells": [
  {
   "cell_type": "code",
   "execution_count": null,
   "id": "6770d701",
   "metadata": {},
   "outputs": [],
   "source": [
    "import matplotlib as mpl\n",
    "import matplotlib.pyplot as plt\n",
    "import numpy as np\n",
    "import pandas as pd\n",
    "import seaborn as sns\n",
    "import sqlite3\n",
    "\n",
    "plt.style.use('ggplot')\n",
    "plt.rcParams.update({'font.size': 12})"
   ]
  },
  {
   "cell_type": "code",
   "execution_count": null,
   "id": "e9231640",
   "metadata": {},
   "outputs": [],
   "source": [
    "pd.set_option('display.max_rows', 500)\n",
    "pd.set_option('display.max_columns', 500)"
   ]
  },
  {
   "cell_type": "markdown",
   "id": "b8bcc20b",
   "metadata": {},
   "source": [
    "# Data Analysis"
   ]
  },
  {
   "cell_type": "markdown",
   "id": "b7e7b18e",
   "metadata": {},
   "source": [
    "# By County Analysis"
   ]
  },
  {
   "cell_type": "code",
   "execution_count": null,
   "id": "10b79687",
   "metadata": {},
   "outputs": [],
   "source": [
    "# Connect SQLite.\n",
    "dbconn = sqlite3.connect('../data/IowaLiquorSales.db')\n",
    "cursor = dbconn.cursor()\n",
    "\n",
    "# Pull Store database.\n",
    "query = '''SELECT Sales.TransactionID, Sales.Date, Sales.StoreID, Sales.ProductID, Sales.VendorID, Store.County, Store.lat, Store.lng, County.Year, County.Population, County.UNEMPLOYMENT_RATE, Sales.VolumeSold_Liters, Sales.Sale_Dollars\n",
    "              FROM ((Sales \n",
    "              INNER JOIN Store ON Sales.StoreID=Store.StoreID)\n",
    "              INNER JOIN County ON County.County=Store.County)\n",
    "              WHERE Sales.Date BETWEEN '2021-01-01' AND '2021-12-31' \n",
    "              AND County.Year = '2021';'''\n",
    "cursor.execute(query)\n",
    "result1 = cursor.fetchall()\n",
    "cursor.close()\n",
    "dbconn.close()"
   ]
  },
  {
   "cell_type": "code",
   "execution_count": null,
   "id": "384c1db8",
   "metadata": {},
   "outputs": [],
   "source": [
    "# Put the database in a data frame format.\n",
    "temp1 = pd.DataFrame(result1, columns = ['TransactionID',\n",
    "                                            'Date',\n",
    "                                            'StoreID',\n",
    "                                            'ProductID',\n",
    "                                            'VendorID',\n",
    "                                            'County',\n",
    "                                            'lat',\n",
    "                                            'lng',\n",
    "                                            'Year',\n",
    "                                            'Population',\n",
    "                                            'Unemployment_Rate',\n",
    "                                            'VolumeSold_Liters',\n",
    "                                            'Sale_Dollars'])"
   ]
  },
  {
   "cell_type": "code",
   "execution_count": null,
   "id": "957726b6",
   "metadata": {},
   "outputs": [],
   "source": [
    "temp1.head()"
   ]
  },
  {
   "cell_type": "code",
   "execution_count": null,
   "id": "2309bb5c",
   "metadata": {},
   "outputs": [],
   "source": []
  },
  {
   "cell_type": "markdown",
   "id": "c4ce4db9",
   "metadata": {},
   "source": [
    "## Stores Locations Mini Table"
   ]
  },
  {
   "cell_type": "code",
   "execution_count": null,
   "id": "51eeae7e",
   "metadata": {},
   "outputs": [],
   "source": [
    "map_stores0 = temp1.drop_duplicates(subset='StoreID', keep='first')\n",
    "map_stores = map_stores0[['StoreID','County','lat','lng']]"
   ]
  },
  {
   "cell_type": "code",
   "execution_count": null,
   "id": "d8ef4f33",
   "metadata": {},
   "outputs": [],
   "source": [
    "map_stores.head()"
   ]
  },
  {
   "cell_type": "code",
   "execution_count": null,
   "id": "68f5c3c6",
   "metadata": {},
   "outputs": [],
   "source": [
    "# convert the lat and lng coordinates to geometry\n",
    "import geopandas as gpd\n",
    "from shapely.geometry import Point, Polygon\n",
    "\n",
    "map_stores[\"lat\"] = map_stores[\"lat\"].astype('float')\n",
    "map_stores[\"lng\"] = map_stores[\"lng\"].astype('float')\n",
    "\n",
    "geometry = [Point(xy) for xy in zip( map_stores[\"lng\"], map_stores[\"lat\"])]\n",
    "geometry[:3]\n",
    "\n",
    "crs = \"EPSG:4326\"\n",
    "\n",
    "# create new geo-DataFrame\n",
    "store_geo = gpd.GeoDataFrame(map_stores,crs = crs,\n",
    "                         geometry = geometry)"
   ]
  },
  {
   "cell_type": "code",
   "execution_count": null,
   "id": "3a892b17",
   "metadata": {},
   "outputs": [],
   "source": [
    "store_geo.head()"
   ]
  },
  {
   "cell_type": "code",
   "execution_count": null,
   "id": "6e4f8a49",
   "metadata": {},
   "outputs": [],
   "source": [
    "# loading county csv\n",
    "county = pd.read_csv('../data/county.csv')\n",
    "county.rename(columns={'UNEMPLOYMENT RATE': 'UNEMPLOYMENT_RATE'}, inplace=True)\n",
    "county_2021 = county.loc[county['Year']==2021]\n",
    "county_2021.head()"
   ]
  },
  {
   "cell_type": "code",
   "execution_count": null,
   "id": "0b3ff424",
   "metadata": {},
   "outputs": [],
   "source": [
    "# want income data for 2020 (since 2021 is unavailable)\n",
    "county_2020 = county.loc[county['Year']==2020]\n",
    "county_2020_income = county_2020[['County','Income_PerCapita']]\n",
    "county_2020_income.head()"
   ]
  },
  {
   "cell_type": "code",
   "execution_count": null,
   "id": "9d43d4b9",
   "metadata": {},
   "outputs": [],
   "source": [
    "df_bycounty_temp0 = temp1.groupby(['County']).agg({'Sale_Dollars':'sum',\n",
    "                               'StoreID':'nunique',\n",
    "                               'VolumeSold_Liters':'sum',\n",
    "                               'ProductID':'nunique',\n",
    "                               'VendorID':'nunique'})\n",
    "df_bycounty_temp0.rename(columns={'Sale_Dollars': 'Annual_SalesDollars',\n",
    "                            'StoreID': 'StoreCount',\n",
    "                            'VolumeSold_Liters': 'Annual_VolumeSold',\n",
    "                            'ProductID': 'ProductCount',\n",
    "                            'VendorID': 'VendorCount'}, inplace=True)\n",
    "\n",
    "df_bycounty_temp0.head()"
   ]
  },
  {
   "cell_type": "code",
   "execution_count": null,
   "id": "0bcf2008",
   "metadata": {},
   "outputs": [],
   "source": [
    "df_bycounty_temp1 = df_bycounty_temp0.merge(county_2021, on = ['County'], how = 'left')\n",
    "df_bycounty_temp1['StoresPer10K'] = (df_bycounty_temp1['StoreCount']/df_bycounty_temp1['Population'])*10000\n",
    "df_bycounty_temp1['SalesPerCapita'] = (df_bycounty_temp1['Annual_SalesDollars']/df_bycounty_temp1['Population'])\n",
    "df_bycounty_temp1['VolSoldPerCapita'] = (df_bycounty_temp1['Annual_VolumeSold']/df_bycounty_temp1['Population'])\n",
    "df_bycounty_temp1 = df_bycounty_temp1.drop(columns = ['Income_PerCapita'])\n",
    "df_bycounty_temp1.head()"
   ]
  },
  {
   "cell_type": "code",
   "execution_count": null,
   "id": "c7c5d6d7",
   "metadata": {},
   "outputs": [],
   "source": [
    "# Adding 2020 income column\n",
    "df_bycounty = df_bycounty_temp1.merge(county_2020_income, on = ['County'], how = 'left')\n",
    "df_bycounty.rename(columns={'Income_PerCapita': 'Income_PerCapita_2020'}, inplace=True)\n",
    "df_bycounty['SalesPerCapita_perStore'] = (df_bycounty['SalesPerCapita']/df_bycounty_temp1['StoreCount'])\n",
    "df_bycounty.head()"
   ]
  },
  {
   "cell_type": "code",
   "execution_count": null,
   "id": "4ebb7a72",
   "metadata": {},
   "outputs": [],
   "source": [
    "df_bycounty.nlargest(5,'SalesPerCapita_perStore')"
   ]
  },
  {
   "cell_type": "code",
   "execution_count": null,
   "id": "a1bee821",
   "metadata": {},
   "outputs": [],
   "source": [
    "import geopandas as gpd\n",
    "from shapely.geometry import Point, Polygon\n",
    "import matplotlib.colors as colors\n",
    "def truncate_colormap(cmap, minval=0.0, maxval=1.0, n=100):\n",
    "    new_cmap = colors.LinearSegmentedColormap.from_list(\n",
    "        'trunc({n},{a:.2f},{b:.2f})'.format(n=cmap.name, a=minval, b=maxval),\n",
    "        cmap(np.linspace(minval, maxval, n)))\n",
    "    return new_cmap\n",
    "\n",
    "\n",
    "cmap = plt.get_cmap('magma_r')\n",
    "new_cmap = truncate_colormap(cmap, 0, 0.6)"
   ]
  },
  {
   "cell_type": "code",
   "execution_count": null,
   "id": "07d83642",
   "metadata": {},
   "outputs": [],
   "source": [
    "# County Boundaries Shape File\n",
    "map_counties = gpd.read_file(\n",
    "    '../data/County_Boundaries_of_Iowa/geo_export_b0962504-4b8e-4a81-9f03-586d790445ed.shp')\n",
    "\n",
    "map_counties.rename(columns={'county_nam': 'County'}, inplace=True)\n",
    "map_counties = map_counties.sort_values(by=['County'])\n",
    "\n",
    "map_counties['County'] = map_counties['County'].str.lower()\n",
    "map_counties.loc[map_counties['County']==\"obrien\",'County']=\"o'brien\"\n",
    "map_counties.head()"
   ]
  },
  {
   "cell_type": "code",
   "execution_count": null,
   "id": "323d653d",
   "metadata": {},
   "outputs": [],
   "source": [
    "# County Points Shape File\n",
    "map_counties_pts = gpd.read_file(\n",
    "    '../data/Primary_Points_for_Iowa_Counties/geo_export_7ec5c31d-2f89-4961-bacf-1dbe5f7b3ed7.shp')\n",
    "\n",
    "map_counties_pts.rename(columns={'county_nam': 'County'}, inplace=True)\n",
    "map_counties_pts['County'] = map_counties_pts['County'].str.lower()"
   ]
  },
  {
   "cell_type": "code",
   "execution_count": null,
   "id": "f8c84704",
   "metadata": {},
   "outputs": [],
   "source": [
    "# Digging into the discrepancies (county names need to match)\n",
    "temp2 = list(map_counties['County'].unique())\n",
    "temp0 = list(df_bycounty['County'].unique())\n",
    "s = set(temp2)\n",
    "temp3 = [x for x in temp0 if x not in s]\n",
    "temp3"
   ]
  },
  {
   "cell_type": "code",
   "execution_count": null,
   "id": "e80609c2",
   "metadata": {},
   "outputs": [],
   "source": [
    "map_counties2 = map_counties.merge(df_bycounty, on = ['County'], how = 'left')\n",
    "map_counties2.head()"
   ]
  },
  {
   "cell_type": "code",
   "execution_count": null,
   "id": "71383a57",
   "metadata": {},
   "outputs": [],
   "source": [
    "map_counties2.nlargest(5, 'StoreCount')['County']"
   ]
  },
  {
   "cell_type": "code",
   "execution_count": null,
   "id": "b923e87f",
   "metadata": {},
   "outputs": [],
   "source": [
    "map_counties2.nlargest(5, 'Population')['County']"
   ]
  },
  {
   "cell_type": "code",
   "execution_count": null,
   "id": "84f5a839",
   "metadata": {},
   "outputs": [],
   "source": [
    "map_counties2.nlargest(5, 'StoresPer10K')['County'].reset_index()"
   ]
  },
  {
   "cell_type": "code",
   "execution_count": null,
   "id": "d4ef5da5",
   "metadata": {},
   "outputs": [],
   "source": [
    "map_counties2.nlargest(5, 'SalesPerCapita')['County'].reset_index()"
   ]
  },
  {
   "cell_type": "code",
   "execution_count": null,
   "id": "c797b178",
   "metadata": {},
   "outputs": [],
   "source": [
    "map_counties2.nlargest(5, 'VolSoldPerCapita')['County'].reset_index()"
   ]
  },
  {
   "cell_type": "code",
   "execution_count": null,
   "id": "887bd84b",
   "metadata": {},
   "outputs": [],
   "source": [
    "map_counties2.nlargest(5, 'Income_PerCapita_2020')['County'].reset_index()"
   ]
  },
  {
   "cell_type": "code",
   "execution_count": null,
   "id": "964f17ad",
   "metadata": {},
   "outputs": [],
   "source": [
    "map_counties2.nlargest(5, 'SalesPerCapita_perStore')['County'].reset_index()"
   ]
  },
  {
   "cell_type": "code",
   "execution_count": null,
   "id": "c7b26f84",
   "metadata": {},
   "outputs": [],
   "source": [
    "#map_counties2.nlargest(99, 'Population')['County'].reset_index()"
   ]
  },
  {
   "cell_type": "markdown",
   "id": "a8979ec6",
   "metadata": {},
   "source": [
    "# Map It Out"
   ]
  },
  {
   "cell_type": "code",
   "execution_count": null,
   "id": "d93489bd",
   "metadata": {},
   "outputs": [],
   "source": [
    "fig,ax = plt.subplots(figsize = (15,15))\n",
    "\n",
    "# County Boundaries\n",
    "map_counties2.to_crs(epsg=4326).plot(ax = ax, alpha=0.2, color=\"gray\",edgecolor='black')\n",
    "\n",
    "ax.set_title('Stores in 2021')\n",
    "\n",
    "map_counties.plot(color='white', edgecolor='red', ax=ax)\n",
    "map_counties2.plot(column='Population', cmap=new_cmap, ax=ax, legend=True)\n",
    "ax.legend(prop={'size':1}, loc='best')\n",
    "\n",
    "#for name in map_counties_pts['County']:\n",
    "#    if name in ['polk','linn','black hawk','scott','johnson']:\n",
    "#        x = map_counties_pts.loc[map_counties_pts['County']==name,'primary_lo']\n",
    "#        y = map_counties_pts.loc[map_counties_pts['County']==name,'primary_la']\n",
    "#        plt.text(x,y,name, fontsize=14, horizontalalignment='center')\n",
    "        \n",
    "store_geo.plot(ax = ax, color=\"blue\",markersize=3, alpha=0.40)\n"
   ]
  },
  {
   "cell_type": "code",
   "execution_count": null,
   "id": "f8d4c9a8",
   "metadata": {},
   "outputs": [],
   "source": [
    "fig,ax = plt.subplots(figsize = (15,15))\n",
    "\n",
    "# County Boundaries\n",
    "map_counties2.to_crs(epsg=4326).plot(ax = ax, alpha=0.2, color=\"gray\",edgecolor='black')\n",
    "\n",
    "#ax.set_title('Stores per 10K Residents in 2021')\n",
    "\n",
    "map_counties.plot(color='white', edgecolor='red', ax=ax)\n",
    "map_counties2.plot(column='StoresPer10K', cmap=new_cmap, ax=ax, legend=True)\n",
    "ax.legend(prop={'size':1}, loc='best')\n",
    "\n",
    "for name in map_counties_pts['County']:\n",
    "    if name in [\"o'brien\",'pocahontas','lyon','adair','palo alto']:\n",
    "        x = map_counties_pts.loc[map_counties_pts['County']==name,'primary_lo']\n",
    "        y = map_counties_pts.loc[map_counties_pts['County']==name,'primary_la']\n",
    "        plt.text(x,y,name, fontsize=14, horizontalalignment='center')\n",
    "\n",
    "store_geo.plot(ax = ax, color=\"blue\",markersize=3, alpha=0.40)\n"
   ]
  },
  {
   "cell_type": "code",
   "execution_count": null,
   "id": "b1b9710a",
   "metadata": {
    "scrolled": false
   },
   "outputs": [],
   "source": [
    "fig,ax = plt.subplots(figsize = (15,15))\n",
    "\n",
    "# County Boundaries\n",
    "map_counties2.to_crs(epsg=4326).plot(ax = ax, alpha=0.2, color=\"gray\",edgecolor='black')\n",
    "\n",
    "#ax.set_title('Sales per Capita in 2021')\n",
    "\n",
    "map_counties.plot(color='white', edgecolor='red', ax=ax)\n",
    "map_counties2.plot(column='SalesPerCapita', cmap=new_cmap, ax=ax, legend=True)\n",
    "ax.legend(prop={'size':1}, loc='best')\n",
    "\n",
    "for name in map_counties_pts['County']:\n",
    "    if name in ['dickinson','cerro gordo','polk','black hawk','scott']:\n",
    "        x = map_counties_pts.loc[map_counties_pts['County']==name,'primary_lo']\n",
    "        y = map_counties_pts.loc[map_counties_pts['County']==name,'primary_la']\n",
    "        plt.text(x,y,name, fontsize=14, horizontalalignment='center')\n",
    "\n",
    "store_geo.plot(ax = ax, color=\"blue\",markersize=3, alpha=0.40)"
   ]
  },
  {
   "cell_type": "code",
   "execution_count": null,
   "id": "3021135a",
   "metadata": {},
   "outputs": [],
   "source": [
    "fig,ax = plt.subplots(figsize = (15,15))\n",
    "\n",
    "# County Boundaries\n",
    "map_counties2.to_crs(epsg=4326).plot(ax = ax, alpha=0.2, color=\"gray\",edgecolor='black')\n",
    "\n",
    "ax.set_title('Volume Sold per Capita in 2021')\n",
    "\n",
    "map_counties.plot(color='white', edgecolor='red', ax=ax)\n",
    "map_counties2.plot(column='VolSoldPerCapita', cmap=new_cmap, ax=ax, legend=True)\n",
    "ax.legend(prop={'size':1}, loc='best')\n",
    "\n",
    "for name in map_counties_pts['County']:\n",
    "    if name in ['dickinson','cerro gordo','polk','black hawk','carroll']:\n",
    "        x = map_counties_pts.loc[map_counties_pts['County']==name,'primary_lo']\n",
    "        y = map_counties_pts.loc[map_counties_pts['County']==name,'primary_la']\n",
    "        plt.text(x,y,name, fontsize=14, horizontalalignment='center')\n",
    "\n",
    "store_geo.plot(ax = ax, color=\"blue\",markersize=3, alpha=0.40)"
   ]
  },
  {
   "cell_type": "code",
   "execution_count": null,
   "id": "c4f3d2ff",
   "metadata": {},
   "outputs": [],
   "source": [
    "fig,ax = plt.subplots(figsize = (15,15))\n",
    "\n",
    "# County Boundaries\n",
    "map_counties2.to_crs(epsg=4326).plot(ax = ax, alpha=0.2, color=\"gray\",edgecolor='black')\n",
    "\n",
    "ax.set_title('UNEMPLOYMENT RATE in 2021')\n",
    "\n",
    "map_counties.plot(color='white', edgecolor='red', ax=ax)\n",
    "map_counties2.plot(column='UNEMPLOYMENT_RATE', cmap=new_cmap, ax=ax, legend=True)\n",
    "ax.legend(prop={'size':1}, loc='best')\n",
    "\n",
    "for name in map_counties_pts['County']:\n",
    "    x = map_counties_pts.loc[map_counties_pts['County']==name,'primary_lo']\n",
    "    y = map_counties_pts.loc[map_counties_pts['County']==name,'primary_la']\n",
    "    plt.text(x,y,name, fontsize=8, horizontalalignment='center')"
   ]
  },
  {
   "cell_type": "code",
   "execution_count": null,
   "id": "0bae4877",
   "metadata": {},
   "outputs": [],
   "source": [
    "fig,ax = plt.subplots(figsize = (15,15))\n",
    "\n",
    "# County Boundaries\n",
    "map_counties2.to_crs(epsg=4326).plot(ax = ax, alpha=0.2, color=\"gray\",edgecolor='black')\n",
    "\n",
    "ax.set_title('Income Per Capita (2020)')\n",
    "\n",
    "map_counties.plot(color='white', edgecolor='black', ax=ax)\n",
    "map_counties2.plot(column='Income_PerCapita_2020', cmap=new_cmap, ax=ax, legend=True)\n",
    "ax.legend(prop={'size':1}, loc='best')\n",
    "\n",
    "for name in map_counties_pts['County']:\n",
    "    if name in ['dallas','dickinson','mitchell','cherokee','mills']:\n",
    "        x = map_counties_pts.loc[map_counties_pts['County']==name,'primary_lo']\n",
    "        y = map_counties_pts.loc[map_counties_pts['County']==name,'primary_la']\n",
    "        plt.text(x,y,name, fontsize=14, horizontalalignment='center')"
   ]
  },
  {
   "cell_type": "code",
   "execution_count": null,
   "id": "6c46157b",
   "metadata": {},
   "outputs": [],
   "source": [
    "fig,ax = plt.subplots(figsize = (15,15))\n",
    "\n",
    "# County Boundaries\n",
    "map_counties2.to_crs(epsg=4326).plot(ax = ax, alpha=0.2, color=\"gray\",edgecolor='black')\n",
    "\n",
    "ax.set_title('SalesPerCapita_perStore')\n",
    "\n",
    "map_counties.plot(color='white', edgecolor='red', ax=ax)\n",
    "map_counties2.plot(column='SalesPerCapita_perStore', cmap=new_cmap, ax=ax, legend=True)\n",
    "ax.legend(prop={'size':1}, loc='best')\n",
    "\n",
    "for name in map_counties_pts['County']:\n",
    "    if name in ['adams','ringgold','dickinson','ida','lucas']:\n",
    "        x = map_counties_pts.loc[map_counties_pts['County']==name,'primary_lo']\n",
    "        y = map_counties_pts.loc[map_counties_pts['County']==name,'primary_la']\n",
    "        plt.text(x,y,name, fontsize=14, horizontalalignment='center')"
   ]
  },
  {
   "cell_type": "markdown",
   "id": "89b6fab9",
   "metadata": {},
   "source": [
    "# Clustering"
   ]
  },
  {
   "cell_type": "code",
   "execution_count": null,
   "id": "82636754",
   "metadata": {},
   "outputs": [],
   "source": [
    "# Connect SQLite.\n",
    "dbconn = sqlite3.connect('../data/IowaLiquorSales.db')\n",
    "cursor = dbconn.cursor()\n",
    "\n",
    "# Pull Store database.\n",
    "query = '''SELECT Sales.Date, Sales.ProductID, Sales.StoreID, Sales.VolumeSold_Liters, Sales.Sale_Dollars, Store.County, Store.lat, Store.lng, Store.active, Product.CategoryGroup\n",
    "              FROM ((Sales \n",
    "              INNER JOIN Product ON Sales.ProductID=Product.ProductID)\n",
    "              INNER JOIN Store ON Sales.StoreID=Store.StoreID)\n",
    "              WHERE Sales.Date BETWEEN '2017-01-01' AND '2021-12-31';'''\n",
    "cursor.execute(query)\n",
    "result2 = cursor.fetchall()\n",
    "cursor.close()\n",
    "dbconn.close()"
   ]
  },
  {
   "cell_type": "code",
   "execution_count": null,
   "id": "40c0a20f",
   "metadata": {},
   "outputs": [],
   "source": [
    "# Put the database in a data frame format.\n",
    "ctemp = pd.DataFrame(result2, columns = ['Date',\n",
    "                                       'ProductID',\n",
    "                                       'StoreID',\n",
    "                                       'VolumeSold_Liters', \n",
    "                                       'Sale_Dollars', \n",
    "                                       'County', \n",
    "                                       'lat',\n",
    "                                       'lng', \n",
    "                                       'active', \n",
    "                                       'CategoryGroup'])"
   ]
  },
  {
   "cell_type": "code",
   "execution_count": null,
   "id": "498b1918",
   "metadata": {},
   "outputs": [],
   "source": [
    "ctemp.head()"
   ]
  },
  {
   "cell_type": "code",
   "execution_count": null,
   "id": "6f28ac41",
   "metadata": {},
   "outputs": [],
   "source": [
    "ctemp['Date'] = pd.to_datetime(ctemp['Date'])\n",
    "ctemp['Year'] = pd.to_datetime(ctemp['Date']).dt.year\n",
    "ctemp['Month'] = pd.to_datetime(ctemp['Date']).dt.month"
   ]
  },
  {
   "cell_type": "code",
   "execution_count": null,
   "id": "a3cab6b0",
   "metadata": {},
   "outputs": [],
   "source": [
    "ctemp[ctemp['Year']==2021].groupby(['StoreID']).agg({'Sale_Dollars':'sum'})"
   ]
  },
  {
   "cell_type": "code",
   "execution_count": null,
   "id": "02a5aa95",
   "metadata": {},
   "outputs": [],
   "source": [
    "store_db = ctemp[ctemp['Year']==2021].groupby(['StoreID','CategoryGroup']).agg(Sale=('Sale_Dollars','sum'),)\n",
    "store_db.head(11)"
   ]
  },
  {
   "cell_type": "code",
   "execution_count": null,
   "id": "bb137c91",
   "metadata": {},
   "outputs": [],
   "source": [
    "test = store_db.groupby(level=0).apply(lambda x:\n",
    "                                                 100 * x / float(x.sum()))\n",
    "test.head(11)"
   ]
  },
  {
   "cell_type": "code",
   "execution_count": null,
   "id": "30c61da5",
   "metadata": {},
   "outputs": [],
   "source": [
    "store_db = test.pivot_table(values='Sale', index='StoreID', columns=['CategoryGroup'], aggfunc=np.sum)\n",
    "store_db.fillna(0, inplace=True)\n",
    "store_db.head()"
   ]
  },
  {
   "cell_type": "code",
   "execution_count": null,
   "id": "a14fa87b",
   "metadata": {},
   "outputs": [],
   "source": [
    "from sklearn.cluster import KMeans\n",
    "\n",
    "kmeans = KMeans()\n",
    "\n",
    "kmeans.set_params(n_clusters=2)\n",
    "kmeans.fit(store_db[['whisky','vodka','rum','tequila','liqueur']])\n",
    "kmeans.labels_\n",
    "\n",
    "plt.scatter(store_db[['whisky']], store_db[['vodka']], c=kmeans.labels_, alpha=0.8)\n",
    "plt.xlabel('% whisky purchased')\n",
    "plt.ylabel('% vodka purchased')\n",
    "plt.show()\n",
    "\n",
    "plt.scatter(store_db[['whisky']], store_db[['rum']], c=kmeans.labels_, alpha=0.8)\n",
    "plt.xlabel('% whisky purchased')\n",
    "plt.ylabel('% rum purchased')\n",
    "plt.show()\n",
    "\n",
    "plt.scatter(store_db[['whisky']], store_db[['tequila']], c=kmeans.labels_, alpha=0.8)\n",
    "plt.xlabel('% whisky purchased')\n",
    "plt.ylabel('% tequila purchased')\n",
    "plt.show()\n",
    "\n",
    "plt.scatter(store_db[['whisky']], store_db[['liqueur']], c=kmeans.labels_, alpha=0.8)\n",
    "plt.xlabel('% whisky purchased')\n",
    "plt.ylabel('% liqueur purchased')\n",
    "plt.show()\n",
    "\n",
    "plt.scatter(store_db[['vodka']], store_db[['rum']], c=kmeans.labels_, alpha=0.8)\n",
    "plt.xlabel('% whisky purchased')\n",
    "plt.ylabel('% liqueur purchased')\n",
    "plt.show()"
   ]
  },
  {
   "cell_type": "code",
   "execution_count": null,
   "id": "09b648f5",
   "metadata": {},
   "outputs": [],
   "source": [
    "store_db['cluster'] = kmeans.labels_"
   ]
  },
  {
   "cell_type": "code",
   "execution_count": null,
   "id": "60233bf6",
   "metadata": {
    "scrolled": false
   },
   "outputs": [],
   "source": [
    "store_db.head()"
   ]
  },
  {
   "cell_type": "code",
   "execution_count": null,
   "id": "e4143a36",
   "metadata": {},
   "outputs": [],
   "source": [
    "store_db.loc[store_db['cluster']==0]"
   ]
  },
  {
   "cell_type": "code",
   "execution_count": null,
   "id": "cecf3a71",
   "metadata": {
    "scrolled": true
   },
   "outputs": [],
   "source": [
    "store_geo2 = store_geo.merge(store_db, on = ['StoreID'], how = 'left')\n",
    "store_geo2.head()"
   ]
  },
  {
   "cell_type": "code",
   "execution_count": null,
   "id": "91f02a3c",
   "metadata": {},
   "outputs": [],
   "source": []
  },
  {
   "cell_type": "code",
   "execution_count": null,
   "id": "e57caee5",
   "metadata": {},
   "outputs": [],
   "source": [
    "plt.scatter(store_geo2.loc[store_geo2['cluster']==0,'whisky'], \n",
    "            store_geo2.loc[store_geo2['cluster']==0, 'vodka'],color='red')\n",
    "plt.scatter(store_geo2.loc[store_geo2['cluster']==1,'whisky'], \n",
    "            store_geo2.loc[store_geo2['cluster']==1, 'vodka'],color='blue')\n",
    "plt.xlabel('% whisky purchased')\n",
    "plt.ylabel('% vodka purchased')"
   ]
  },
  {
   "cell_type": "code",
   "execution_count": null,
   "id": "1e318d1b",
   "metadata": {},
   "outputs": [],
   "source": [
    "fig,ax = plt.subplots(figsize = (15,15))\n",
    "\n",
    "# County Boundaries\n",
    "map_counties2.to_crs(epsg=4326).plot(ax = ax, alpha=0.2, color=\"gray\",edgecolor='black')\n",
    "map_counties.plot(color='white', edgecolor='red', ax=ax)\n",
    "\n",
    "store_geo2.loc[store_geo2['cluster']==0].plot(ax = ax, color=\"red\",markersize=50, alpha=0.20)\n",
    "store_geo2.loc[store_geo2['cluster']==1].plot(ax = ax, color=\"blue\",markersize=50, alpha=0.20)\n",
    "\n",
    "for name in map_counties_pts['County']:\n",
    "    if name in ['adams','ringgold','dickinson','ida','lucas']:\n",
    "        x = map_counties_pts.loc[map_counties_pts['County']==name,'primary_lo']\n",
    "        y = map_counties_pts.loc[map_counties_pts['County']==name,'primary_la']\n",
    "        plt.text(x,y,name, fontsize=14, horizontalalignment='center')"
   ]
  },
  {
   "cell_type": "code",
   "execution_count": null,
   "id": "e059505e",
   "metadata": {},
   "outputs": [],
   "source": [
    "fig,ax = plt.subplots(figsize = (15,15))\n",
    "\n",
    "# County Boundaries\n",
    "map_counties2.to_crs(epsg=4326).plot(ax = ax, alpha=0.2, color=\"gray\",edgecolor='black')\n",
    "map_counties.plot(color='white', edgecolor='red', ax=ax)\n",
    "\n",
    "store_geo2.loc[store_geo2['cluster']==0].plot(ax = ax, color=\"red\",markersize=1000, alpha=0.40)\n",
    "store_geo2.loc[store_geo2['cluster']==1].plot(ax = ax, color=\"blue\",markersize=1000, alpha=0.40)\n",
    "\n",
    "for name in map_counties_pts['County']:\n",
    "    #if name in ['adams','ringgold','dickinson','ida','lucas']:\n",
    "    if name in ['dickinson']:\n",
    "        x = map_counties_pts.loc[map_counties_pts['County']==name,'primary_lo']\n",
    "        y = map_counties_pts.loc[map_counties_pts['County']==name,'primary_la']\n",
    "        plt.text(x,43.47,name, fontsize=20, horizontalalignment='center')\n",
    "        \n",
    "ax.set_xlim(-95.4,-94.9)\n",
    "ax.set_ylim(43.25,43.51)\n"
   ]
  },
  {
   "cell_type": "code",
   "execution_count": null,
   "id": "b4591339",
   "metadata": {},
   "outputs": [],
   "source": [
    "fig,ax = plt.subplots(figsize = (15,15))\n",
    "\n",
    "# County Boundaries\n",
    "map_counties2.to_crs(epsg=4326).plot(ax = ax, alpha=0.2, color=\"gray\",edgecolor='black')\n",
    "map_counties.plot(color='white', edgecolor='red', ax=ax)\n",
    "\n",
    "store_geo2.loc[store_geo2['cluster']==0].plot(ax = ax, color=\"red\",markersize=1000, alpha=0.40)\n",
    "store_geo2.loc[store_geo2['cluster']==1].plot(ax = ax, color=\"blue\",markersize=1000, alpha=0.40)\n",
    "\n",
    "for name in map_counties_pts['County']:\n",
    "    #if name in ['adams','ringgold','dickinson','ida','lucas']:\n",
    "    if name in ['ida']:\n",
    "        x = map_counties_pts.loc[map_counties_pts['County']==name,'primary_lo']\n",
    "        y = map_counties_pts.loc[map_counties_pts['County']==name,'primary_la']\n",
    "        plt.text(x,y,name, fontsize=20, horizontalalignment='center')\n",
    "        \n",
    "ax.set_xlim(-95.75,-95.3)\n",
    "ax.set_ylim(42.19,42.57)"
   ]
  },
  {
   "cell_type": "code",
   "execution_count": null,
   "id": "40bf04ee",
   "metadata": {},
   "outputs": [],
   "source": [
    "df_bycounty.head()"
   ]
  },
  {
   "cell_type": "code",
   "execution_count": null,
   "id": "e81c05a1",
   "metadata": {
    "scrolled": true
   },
   "outputs": [],
   "source": [
    "df_bycounty_org = df_bycounty[['County','Year','Annual_SalesDollars','StoreCount','ProductCount','VendorCount','StoresPer10K','SalesPerCapita','Income_PerCapita_2020','SalesPerCapita_perStore']]\n",
    "df_bycounty_org.head(10)"
   ]
  },
  {
   "cell_type": "code",
   "execution_count": null,
   "id": "855376fa",
   "metadata": {},
   "outputs": [],
   "source": [
    "table_to_compare = df_bycounty_org.sort_values(by = 'SalesPerCapita_perStore',ascending=False)\n",
    "table_to_compare.head(5)"
   ]
  },
  {
   "cell_type": "code",
   "execution_count": null,
   "id": "dc295eea",
   "metadata": {},
   "outputs": [],
   "source": [
    "last_table = table_to_compare[['County','StoreCount','SalesPerCapita_perStore','ProductCount','VendorCount','Income_PerCapita_2020']]\n",
    "last_table.head(5)"
   ]
  },
  {
   "cell_type": "code",
   "execution_count": null,
   "id": "ca9bd18e",
   "metadata": {},
   "outputs": [],
   "source": [
    "# top candidates are dickinson and ida"
   ]
  }
 ],
 "metadata": {
  "kernelspec": {
   "display_name": "Python 3 (ipykernel)",
   "language": "python",
   "name": "python3"
  },
  "language_info": {
   "codemirror_mode": {
    "name": "ipython",
    "version": 3
   },
   "file_extension": ".py",
   "mimetype": "text/x-python",
   "name": "python",
   "nbconvert_exporter": "python",
   "pygments_lexer": "ipython3",
   "version": "3.9.7"
  }
 },
 "nbformat": 4,
 "nbformat_minor": 5
}
