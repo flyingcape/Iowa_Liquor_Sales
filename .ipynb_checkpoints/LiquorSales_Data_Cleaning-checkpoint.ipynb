{
 "cells": [
  {
   "cell_type": "code",
   "execution_count": null,
   "id": "6b6310d2",
   "metadata": {},
   "outputs": [],
   "source": [
    "import pandas as pd\n",
    "import numpy as np\n",
    "from matplotlib import pyplot as plt\n",
    "plt.style.use('ggplot')\n",
    "plt.rcParams.update({'font.size': 20})"
   ]
  },
  {
   "cell_type": "code",
   "execution_count": null,
   "id": "63199fcb",
   "metadata": {},
   "outputs": [],
   "source": [
    "pd.set_option('display.max_rows', 500)\n",
    "pd.set_option('display.max_columns', 500)"
   ]
  },
  {
   "cell_type": "markdown",
   "id": "3036c12e",
   "metadata": {},
   "source": [
    "# Import Liquor Sales database"
   ]
  },
  {
   "cell_type": "code",
   "execution_count": null,
   "id": "6e6c23af",
   "metadata": {},
   "outputs": [],
   "source": [
    "sales = pd.read_csv('./data/Iowa_Liquor_Sales.csv') "
   ]
  },
  {
   "cell_type": "code",
   "execution_count": null,
   "id": "26975859",
   "metadata": {},
   "outputs": [],
   "source": [
    "sales.columns"
   ]
  },
  {
   "cell_type": "code",
   "execution_count": null,
   "id": "c47ed52d",
   "metadata": {},
   "outputs": [],
   "source": [
    "sales.head(10)"
   ]
  },
  {
   "cell_type": "code",
   "execution_count": null,
   "id": "022f0022",
   "metadata": {},
   "outputs": [],
   "source": [
    "product_df = pd.read_csv('data/Iowa_Liquor_Products.csv')"
   ]
  },
  {
   "cell_type": "code",
   "execution_count": null,
   "id": "745fb47e",
   "metadata": {},
   "outputs": [],
   "source": [
    "sales.columns = sales.columns.str.replace(' ','')\n",
    "product_df.columns = product_df.columns.str.replace(' ','')"
   ]
  },
  {
   "cell_type": "markdown",
   "id": "8c3e5897",
   "metadata": {},
   "source": [
    "# Products Table"
   ]
  },
  {
   "cell_type": "code",
   "execution_count": null,
   "id": "9fe792ab",
   "metadata": {},
   "outputs": [],
   "source": [
    "product_col = ['ItemNumber',\n",
    "            'ItemDescription',\n",
    "            'Category',\n",
    "            'CategoryName',\n",
    "            'Pack',\n",
    "            'BottleVolume(ml)',\n",
    "            'VendorNumber']\n",
    "\n",
    "product = sales[product_col].copy()"
   ]
  },
  {
   "cell_type": "code",
   "execution_count": null,
   "id": "1d68dbee",
   "metadata": {},
   "outputs": [],
   "source": [
    "# Data Cleaning\n",
    "product.rename(columns = {'BottleVolume(ml)':'BottleVolume'}, inplace = True)\n"
   ]
  },
  {
   "cell_type": "code",
   "execution_count": null,
   "id": "6d4aea73",
   "metadata": {},
   "outputs": [],
   "source": [
    "product.to_csv('data/product_final.csv', index_label = False)"
   ]
  },
  {
   "cell_type": "markdown",
   "id": "008cef61",
   "metadata": {},
   "source": [
    "# Product Price Table"
   ]
  },
  {
   "cell_type": "code",
   "execution_count": null,
   "id": "0644594b",
   "metadata": {},
   "outputs": [],
   "source": [
    "product_price_col = ['ItemNumber',\n",
    "                  'Date',\n",
    "                  'StateBottleRetail',\n",
    "                  'StateBottleCost']\n",
    "\n",
    "product_price = sales[product_price_col].copy()"
   ]
  },
  {
   "cell_type": "code",
   "execution_count": null,
   "id": "8aac9664",
   "metadata": {},
   "outputs": [],
   "source": [
    "# Data Cleaning"
   ]
  },
  {
   "cell_type": "code",
   "execution_count": null,
   "id": "d20fedbb",
   "metadata": {},
   "outputs": [],
   "source": [
    "product_price.to_csv('data/product_price_final.csv', index_label = False)"
   ]
  },
  {
   "cell_type": "markdown",
   "id": "92aeaebe",
   "metadata": {},
   "source": [
    "# Vendors Table"
   ]
  },
  {
   "cell_type": "code",
   "execution_count": null,
   "id": "4af56f95",
   "metadata": {},
   "outputs": [],
   "source": [
    "vendor_col = ['VendorNumber',\n",
    "              'VendorName']\n",
    "\n",
    "vendor = sales[vendor_col].copy()"
   ]
  },
  {
   "cell_type": "code",
   "execution_count": null,
   "id": "0723ef17",
   "metadata": {},
   "outputs": [],
   "source": [
    "# Data Cleaning"
   ]
  },
  {
   "cell_type": "code",
   "execution_count": null,
   "id": "d0b1eea8",
   "metadata": {},
   "outputs": [],
   "source": [
    "vendor.to_csv('data/vendor_final.csv', index_label = False)"
   ]
  },
  {
   "cell_type": "markdown",
   "id": "a81e3fca",
   "metadata": {},
   "source": [
    "# Stores Table"
   ]
  },
  {
   "cell_type": "code",
   "execution_count": null,
   "id": "30307db5",
   "metadata": {},
   "outputs": [],
   "source": [
    "store_col = ['StoreNumber',\n",
    "             'StoreName',\n",
    "             'Address',\n",
    "             'City',\n",
    "             'ZipCode',\n",
    "             'StoreLocation',\n",
    "             'CountyNumber',\n",
    "             'County']\n",
    "\n",
    "store = sales[store_col].drop_duplicates(store_col, keep = 'first').copy()\n",
    "\n",
    "store.dropna(inplace = True)"
   ]
  },
  {
   "cell_type": "code",
   "execution_count": null,
   "id": "0e64f12c",
   "metadata": {},
   "outputs": [],
   "source": [
    "# Data Cleaning"
   ]
  },
  {
   "cell_type": "code",
   "execution_count": null,
   "id": "ed6e3e7b",
   "metadata": {},
   "outputs": [],
   "source": [
    "store.to_csv('data/store_final.csv', index_label = False)"
   ]
  },
  {
   "cell_type": "markdown",
   "id": "db990d5e",
   "metadata": {},
   "source": [
    "# Transactions Table"
   ]
  },
  {
   "cell_type": "code",
   "execution_count": null,
   "id": "daca4f59",
   "metadata": {},
   "outputs": [],
   "source": [
    "transaction_col = ['Invoice/ItemNumber',\n",
    "                   'Date',\n",
    "                   'StoreNumber',\n",
    "                   'ItemNumber',\n",
    "                   'VendorNumber',\n",
    "                   'Category',\n",
    "                   'BottlesSold',\n",
    "                   'VolumeSold(Gallons)',\n",
    "                   'Sale(Dollars)']\n",
    "\n",
    "transaction = sales[transaction_col].copy()"
   ]
  },
  {
   "cell_type": "code",
   "execution_count": null,
   "id": "2f66107a",
   "metadata": {},
   "outputs": [],
   "source": [
    "# Data Cleaning\n",
    "transaction.rename(columns = {'Invoice/ItemNumber':'ItemNumber',\n",
    "                              'ItemNumber':'ProductNumber',\n",
    "                            'VolumeSold(Gallons)':'VolumeSold',\n",
    "                             'Sale(Dollars)':'Sale'}, inplace = True)"
   ]
  },
  {
   "cell_type": "code",
   "execution_count": null,
   "id": "1223b465",
   "metadata": {},
   "outputs": [],
   "source": [
    "transaction.to_csv('data/transaction_final.csv', index_label = False)"
   ]
  },
  {
   "cell_type": "markdown",
   "id": "563e5f23",
   "metadata": {},
   "source": [
    "# Set-up SQLite Database"
   ]
  },
  {
   "cell_type": "code",
   "execution_count": 1,
   "id": "02a6d21e",
   "metadata": {},
   "outputs": [
    {
     "name": "stdout",
     "output_type": "stream",
     "text": [
      "2.6.0\n",
      "3.35.4\n"
     ]
    }
   ],
   "source": [
    "import sqlite3\n",
    "import pandas as pd\n",
    "\n",
    "print(sqlite3.version)\n",
    "print(sqlite3.sqlite_version)"
   ]
  },
  {
   "cell_type": "code",
   "execution_count": 2,
   "id": "f6421747",
   "metadata": {},
   "outputs": [
    {
     "name": "stderr",
     "output_type": "stream",
     "text": [
      "/Users/flyingcape/opt/anaconda3/lib/python3.8/site-packages/IPython/core/interactiveshell.py:3165: DtypeWarning: Columns (1) have mixed types.Specify dtype option on import or set low_memory=False.\n",
      "  has_raised = await self.run_ast_nodes(code_ast.body, cell_name,\n",
      "/Users/flyingcape/opt/anaconda3/lib/python3.8/site-packages/IPython/core/interactiveshell.py:3165: DtypeWarning: Columns (4) have mixed types.Specify dtype option on import or set low_memory=False.\n",
      "  has_raised = await self.run_ast_nodes(code_ast.body, cell_name,\n"
     ]
    }
   ],
   "source": [
    "product = pd.read_csv('data/product_final.csv')\n",
    "product_price = pd.read_csv('data/product_price_final.csv')\n",
    "vendor = pd.read_csv('data/vendor_final.csv')\n",
    "store = pd.read_csv('data/store_final.csv')\n",
    "transaction = pd.read_csv('data/transaction_final.csv')"
   ]
  },
  {
   "cell_type": "code",
   "execution_count": 3,
   "id": "f9c06778",
   "metadata": {},
   "outputs": [],
   "source": [
    "dbconn = sqlite3.connect('IowaLiquorSales.db') # database\n",
    "cursor = dbconn.cursor() # create a cursor to use to execute sql statements"
   ]
  },
  {
   "cell_type": "code",
   "execution_count": 4,
   "id": "54c2b912",
   "metadata": {},
   "outputs": [
    {
     "data": {
      "text/plain": [
       "<sqlite3.Cursor at 0x7fb6391b4f10>"
      ]
     },
     "execution_count": 4,
     "metadata": {},
     "output_type": "execute_result"
    }
   ],
   "source": [
    "cursor.execute('''CREATE TABLE Product\n",
    "                (ItemNumber, ItemDescription, Category, CategoryName, Pack, BottleVolume, VendorNumber)''')\n",
    "\n",
    "cursor.execute('''CREATE TABLE Price\n",
    "                (ItemNumber, Date, StateBottleRetail, StateBottleCost)''')\n",
    "\n",
    "cursor.execute('''CREATE TABLE Vendor\n",
    "                (VendorNumber, VendorName)''')\n",
    "\n",
    "cursor.execute('''CREATE TABLE Store\n",
    "                (StoreNumber, StoreName, Address, City, ZipCode, StoreLocation, CountyNumber, County)''')\n",
    "\n",
    "cursor.execute('''CREATE TABLE Transactions\n",
    "                (ItemNumber, Date, StoreNumber, ProductNumber, VendorNumber, Category, BottlesSold, VolumeSold, Sale)''')"
   ]
  },
  {
   "cell_type": "code",
   "execution_count": null,
   "id": "0b6071c5",
   "metadata": {},
   "outputs": [],
   "source": [
    "transaction.head()"
   ]
  },
  {
   "cell_type": "code",
   "execution_count": 5,
   "id": "f73e6f03",
   "metadata": {},
   "outputs": [],
   "source": [
    "product.to_sql('Product', dbconn, if_exists = 'append', index = False)\n",
    "product_price.to_sql('Price', dbconn, if_exists = 'append', index = False)\n",
    "vendor.to_sql('Vendor', dbconn, if_exists = 'append', index = False)\n",
    "store.to_sql('Store', dbconn, if_exists = 'append', index = False)\n",
    "transaction.to_sql('Transactions', dbconn, if_exists = 'append', index = False)"
   ]
  },
  {
   "cell_type": "code",
   "execution_count": 7,
   "id": "7cb499e8",
   "metadata": {},
   "outputs": [],
   "source": [
    "dbconn.commit()"
   ]
  },
  {
   "cell_type": "code",
   "execution_count": 8,
   "id": "b88c725a",
   "metadata": {},
   "outputs": [],
   "source": [
    "dbconn.commit()"
   ]
  },
  {
   "cell_type": "code",
   "execution_count": 9,
   "id": "7ce46e35",
   "metadata": {},
   "outputs": [],
   "source": [
    "dbconn.close()"
   ]
  },
  {
   "cell_type": "code",
   "execution_count": null,
   "id": "2ceb7320",
   "metadata": {},
   "outputs": [],
   "source": []
  }
 ],
 "metadata": {
  "kernelspec": {
   "display_name": "Python 3 (ipykernel)",
   "language": "python",
   "name": "python3"
  },
  "language_info": {
   "codemirror_mode": {
    "name": "ipython",
    "version": 3
   },
   "file_extension": ".py",
   "mimetype": "text/x-python",
   "name": "python",
   "nbconvert_exporter": "python",
   "pygments_lexer": "ipython3",
   "version": "3.9.7"
  }
 },
 "nbformat": 4,
 "nbformat_minor": 5
}
