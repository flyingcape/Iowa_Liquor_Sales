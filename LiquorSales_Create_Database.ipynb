{
 "cells": [
  {
   "cell_type": "markdown",
   "id": "563e5f23",
   "metadata": {},
   "source": [
    "# Set-up SQLite Database"
   ]
  },
  {
   "cell_type": "code",
   "execution_count": 1,
   "id": "02a6d21e",
   "metadata": {},
   "outputs": [
    {
     "name": "stdout",
     "output_type": "stream",
     "text": [
      "2.6.0\n",
      "3.35.4\n"
     ]
    }
   ],
   "source": [
    "import sqlite3\n",
    "import pandas as pd\n",
    "import numpy as np\n",
    "\n",
    "pd.set_option('display.max_rows', 500)\n",
    "pd.set_option('display.max_columns', 500)\n",
    "\n",
    "print(sqlite3.version)\n",
    "print(sqlite3.sqlite_version)"
   ]
  },
  {
   "cell_type": "code",
   "execution_count": 2,
   "id": "f6421747",
   "metadata": {},
   "outputs": [
    {
     "name": "stderr",
     "output_type": "stream",
     "text": [
      "/Users/flyingcape/opt/anaconda3/lib/python3.8/site-packages/IPython/core/interactiveshell.py:3165: DtypeWarning: Columns (1) have mixed types.Specify dtype option on import or set low_memory=False.\n",
      "  has_raised = await self.run_ast_nodes(code_ast.body, cell_name,\n",
      "/Users/flyingcape/opt/anaconda3/lib/python3.8/site-packages/IPython/core/interactiveshell.py:3165: DtypeWarning: Columns (4) have mixed types.Specify dtype option on import or set low_memory=False.\n",
      "  has_raised = await self.run_ast_nodes(code_ast.body, cell_name,\n"
     ]
    }
   ],
   "source": [
    "product = pd.read_csv('../data/product.csv')\n",
    "product_price = pd.read_csv('../data/product_price.csv')\n",
    "vendor = pd.read_csv('../data/vendor.csv')\n",
    "store = pd.read_csv('../data/store.csv')\n",
    "transaction = pd.read_csv('../data/transaction.csv')"
   ]
  },
  {
   "cell_type": "code",
   "execution_count": 3,
   "id": "f9c06778",
   "metadata": {},
   "outputs": [],
   "source": [
    "dbconn = sqlite3.connect('../data/IowaLiquorSales.db') # database\n",
    "cursor = dbconn.cursor() # create a cursor to use to execute sql statements"
   ]
  },
  {
   "cell_type": "code",
   "execution_count": 4,
   "id": "54c2b912",
   "metadata": {},
   "outputs": [
    {
     "data": {
      "text/plain": [
       "<sqlite3.Cursor at 0x7fb6391b4f10>"
      ]
     },
     "execution_count": 4,
     "metadata": {},
     "output_type": "execute_result"
    }
   ],
   "source": [
    "# update to include final columns for each table\n",
    "cursor.execute('''CREATE TABLE Product\n",
    "                (ProductID, ProductDescription, CategoryCode, CategoryName, CategoryGroup, Pack, BottleVolume, Proof, VendorID)''')\n",
    "\n",
    "cursor.execute('''CREATE TABLE Price\n",
    "                (ProductID, Date, StateBottleRetail, StateBottleCost)''')\n",
    "\n",
    "cursor.execute('''CREATE TABLE Vendor\n",
    "                (VendorID, VendorName)''')\n",
    "\n",
    "cursor.execute('''CREATE TABLE Store\n",
    "                (StoreNumber, StoreName, Address, City, ZipCode, StoreLocation, CountyNumber, County)''')\n",
    "\n",
    "cursor.execute('''CREATE TABLE Transactions\n",
    "                (ItemNumber, Date, StoreNumber, ProductNumber, VendorNumber, Category, BottlesSold, VolumeSold, Sale)''')"
   ]
  },
  {
   "cell_type": "code",
   "execution_count": 5,
   "id": "f73e6f03",
   "metadata": {},
   "outputs": [],
   "source": [
    "product.to_sql('Product', dbconn, if_exists = 'append', index = False)\n",
    "product_price.to_sql('Price', dbconn, if_exists = 'append', index = False)\n",
    "vendor.to_sql('Vendor', dbconn, if_exists = 'append', index = False)\n",
    "store.to_sql('Store', dbconn, if_exists = 'append', index = False)\n",
    "transaction.to_sql('Transactions', dbconn, if_exists = 'append', index = False)"
   ]
  },
  {
   "cell_type": "code",
   "execution_count": 7,
   "id": "7cb499e8",
   "metadata": {},
   "outputs": [],
   "source": [
    "dbconn.commit()"
   ]
  },
  {
   "cell_type": "code",
   "execution_count": 9,
   "id": "7ce46e35",
   "metadata": {},
   "outputs": [],
   "source": [
    "dbconn.close()"
   ]
  }
 ],
 "metadata": {
  "kernelspec": {
   "display_name": "Python 3 (ipykernel)",
   "language": "python",
   "name": "python3"
  },
  "language_info": {
   "codemirror_mode": {
    "name": "ipython",
    "version": 3
   },
   "file_extension": ".py",
   "mimetype": "text/x-python",
   "name": "python",
   "nbconvert_exporter": "python",
   "pygments_lexer": "ipython3",
   "version": "3.9.7"
  }
 },
 "nbformat": 4,
 "nbformat_minor": 5
}
