{
 "cells": [
  {
   "cell_type": "markdown",
   "id": "563e5f23",
   "metadata": {},
   "source": [
    "# Set-up SQLite Database"
   ]
  },
  {
   "cell_type": "code",
   "execution_count": 1,
   "id": "02a6d21e",
   "metadata": {},
   "outputs": [
    {
     "name": "stdout",
     "output_type": "stream",
     "text": [
      "2.6.0\n",
      "3.36.0\n"
     ]
    }
   ],
   "source": [
    "import sqlite3\n",
    "import pandas as pd\n",
    "import numpy as np\n",
    "\n",
    "pd.set_option('display.max_rows', 500)\n",
    "pd.set_option('display.max_columns', 500)\n",
    "\n",
    "print(sqlite3.version)\n",
    "print(sqlite3.sqlite_version)"
   ]
  },
  {
   "cell_type": "code",
   "execution_count": 2,
   "id": "f6421747",
   "metadata": {},
   "outputs": [
    {
     "name": "stderr",
     "output_type": "stream",
     "text": [
      "/opt/conda/lib/python3.9/site-packages/IPython/core/interactiveshell.py:3444: DtypeWarning: Columns (1) have mixed types.Specify dtype option on import or set low_memory=False.\n",
      "  exec(code_obj, self.user_global_ns, self.user_ns)\n",
      "/opt/conda/lib/python3.9/site-packages/IPython/core/interactiveshell.py:3444: DtypeWarning: Columns (4) have mixed types.Specify dtype option on import or set low_memory=False.\n",
      "  exec(code_obj, self.user_global_ns, self.user_ns)\n"
     ]
    }
   ],
   "source": [
    "product = pd.read_csv('../data/product.csv')\n",
    "product_price = pd.read_csv('../data/product_price.csv')\n",
    "vendor = pd.read_csv('../data/vendor.csv')\n",
    "store = pd.read_csv('../data/store.csv')\n",
    "transaction = pd.read_csv('../data/transaction.csv')\n",
    "county_table = pd.read_csv('../data/county.csv')"
   ]
  },
  {
   "cell_type": "code",
   "execution_count": 3,
   "id": "57495b81",
   "metadata": {},
   "outputs": [
    {
     "data": {
      "text/html": [
       "<div>\n",
       "<style scoped>\n",
       "    .dataframe tbody tr th:only-of-type {\n",
       "        vertical-align: middle;\n",
       "    }\n",
       "\n",
       "    .dataframe tbody tr th {\n",
       "        vertical-align: top;\n",
       "    }\n",
       "\n",
       "    .dataframe thead th {\n",
       "        text-align: right;\n",
       "    }\n",
       "</style>\n",
       "<table border=\"1\" class=\"dataframe\">\n",
       "  <thead>\n",
       "    <tr style=\"text-align: right;\">\n",
       "      <th></th>\n",
       "      <th>County</th>\n",
       "      <th>Year</th>\n",
       "      <th>Population</th>\n",
       "      <th>Income_PerCapita</th>\n",
       "      <th>LABORFORCE</th>\n",
       "      <th>EMPLOYMENT</th>\n",
       "      <th>UNEMPLOYMENT</th>\n",
       "      <th>UNEMPLOYMENT RATE</th>\n",
       "    </tr>\n",
       "  </thead>\n",
       "  <tbody>\n",
       "    <tr>\n",
       "      <th>0</th>\n",
       "      <td>adair</td>\n",
       "      <td>2010</td>\n",
       "      <td>7679</td>\n",
       "      <td>35209.0</td>\n",
       "      <td>4190</td>\n",
       "      <td>3970</td>\n",
       "      <td>220</td>\n",
       "      <td>5.2</td>\n",
       "    </tr>\n",
       "    <tr>\n",
       "      <th>1</th>\n",
       "      <td>adams</td>\n",
       "      <td>2010</td>\n",
       "      <td>4023</td>\n",
       "      <td>37156.0</td>\n",
       "      <td>2270</td>\n",
       "      <td>2170</td>\n",
       "      <td>100</td>\n",
       "      <td>4.5</td>\n",
       "    </tr>\n",
       "    <tr>\n",
       "      <th>2</th>\n",
       "      <td>allamakee</td>\n",
       "      <td>2010</td>\n",
       "      <td>14377</td>\n",
       "      <td>34590.0</td>\n",
       "      <td>7960</td>\n",
       "      <td>7410</td>\n",
       "      <td>550</td>\n",
       "      <td>6.9</td>\n",
       "    </tr>\n",
       "    <tr>\n",
       "      <th>3</th>\n",
       "      <td>appanoose</td>\n",
       "      <td>2010</td>\n",
       "      <td>12861</td>\n",
       "      <td>29930.0</td>\n",
       "      <td>6340</td>\n",
       "      <td>5930</td>\n",
       "      <td>410</td>\n",
       "      <td>6.5</td>\n",
       "    </tr>\n",
       "    <tr>\n",
       "      <th>4</th>\n",
       "      <td>audubon</td>\n",
       "      <td>2010</td>\n",
       "      <td>6094</td>\n",
       "      <td>39455.0</td>\n",
       "      <td>3570</td>\n",
       "      <td>3380</td>\n",
       "      <td>180</td>\n",
       "      <td>5.1</td>\n",
       "    </tr>\n",
       "  </tbody>\n",
       "</table>\n",
       "</div>"
      ],
      "text/plain": [
       "      County  Year  Population  Income_PerCapita  LABORFORCE  EMPLOYMENT  \\\n",
       "0      adair  2010        7679           35209.0        4190        3970   \n",
       "1      adams  2010        4023           37156.0        2270        2170   \n",
       "2  allamakee  2010       14377           34590.0        7960        7410   \n",
       "3  appanoose  2010       12861           29930.0        6340        5930   \n",
       "4    audubon  2010        6094           39455.0        3570        3380   \n",
       "\n",
       "   UNEMPLOYMENT  UNEMPLOYMENT RATE  \n",
       "0           220                5.2  \n",
       "1           100                4.5  \n",
       "2           550                6.9  \n",
       "3           410                6.5  \n",
       "4           180                5.1  "
      ]
     },
     "execution_count": 3,
     "metadata": {},
     "output_type": "execute_result"
    }
   ],
   "source": [
    "county_table.head()"
   ]
  },
  {
   "cell_type": "code",
   "execution_count": 4,
   "id": "fe1f7e9a",
   "metadata": {},
   "outputs": [],
   "source": [
    "store.rename(columns = {'Store Number':'StoreID',\n",
    "                        'Store Name':'StoreName',\n",
    "                        'Zip Code':'ZipCode'}, inplace = True)\n",
    "store['StoreName'] = store['StoreName'].str.lower()\n",
    "\n",
    "# Create store type\n",
    "store['StoreType'] = 'General Store'\n",
    "store.loc[store.StoreName.str.contains('liquor|spirits|wine|bottle|cellar|cork|casino|bar'), 'StoreType'] = 'Wine & Spirits'\n",
    "store.loc[store.StoreName.str.contains('food|supermarket|grocery|market|dahl|super valu|sam|pantry|target|wal-mart'), 'StoreType'] = 'Food/General Store'\n",
    "store.loc[store.StoreName.str.contains('drugstore|drug|pharmacy|drug store'), 'StoreType'] = 'Drugstore'\n",
    "store.loc[store.StoreName.str.contains('convenience|honk|beverage|quick|gas|quik|pit stop|news and tobacco'), 'StoreType'] = 'Convenience'"
   ]
  },
  {
   "cell_type": "code",
   "execution_count": 5,
   "id": "8afa3056",
   "metadata": {},
   "outputs": [],
   "source": [
    "# remove these columns\n",
    "product = product.drop(['CategoryCode','CategoryName'], axis=1)"
   ]
  },
  {
   "cell_type": "code",
   "execution_count": 6,
   "id": "2c99ff29",
   "metadata": {},
   "outputs": [],
   "source": [
    "# rename to remove space\n",
    "county_table.rename(columns = {'UNEMPLOYMENT RATE':'UNEMPLOYMENT_RATE'}, inplace = True)"
   ]
  },
  {
   "cell_type": "code",
   "execution_count": 7,
   "id": "9d33961a",
   "metadata": {},
   "outputs": [
    {
     "name": "stdout",
     "output_type": "stream",
     "text": [
      "product:  Index(['ProductID', 'ProductDescription', 'CategoryGroup', 'Proof',\n",
      "       'VendorID'],\n",
      "      dtype='object')\n",
      "product_price:  Index(['ProductID', 'Date', 'StateBottleRetail', 'StateBottleCost'], dtype='object')\n",
      "vendor:  Index(['VendorID', 'VendorName'], dtype='object')\n",
      "store:  Index(['StoreID', 'StoreName', 'Address', 'City', 'ZipCode', 'County', 'lat',\n",
      "       'lng', 'max', 'min', 'StoreType'],\n",
      "      dtype='object')\n",
      "transaction:  Index(['TransactionID', 'Date', 'StoreID', 'ProductID', 'VendorID', 'Pack',\n",
      "       'BottleVolume_ml', 'BottlesSold', 'VolumeSold_Liters', 'Sale_Dollars'],\n",
      "      dtype='object')\n",
      "county:  Index(['County', 'Year', 'Population', 'Income_PerCapita', 'LABORFORCE',\n",
      "       'EMPLOYMENT', 'UNEMPLOYMENT', 'UNEMPLOYMENT_RATE'],\n",
      "      dtype='object')\n"
     ]
    }
   ],
   "source": [
    "print('product: ', product.columns)\n",
    "print('product_price: ', product_price.columns)\n",
    "print('vendor: ', vendor.columns)\n",
    "print('store: ', store.columns)\n",
    "print('transaction: ', transaction.columns)\n",
    "print('county: ', county_table.columns)"
   ]
  },
  {
   "cell_type": "code",
   "execution_count": 8,
   "id": "f9c06778",
   "metadata": {},
   "outputs": [],
   "source": [
    "# delete database (in folder) if you have added a table previously \n",
    "dbconn = sqlite3.connect('../data/IowaLiquorSales.db') # database\n",
    "cursor = dbconn.cursor() # create a cursor to use to execute sql statements"
   ]
  },
  {
   "cell_type": "code",
   "execution_count": 9,
   "id": "54c2b912",
   "metadata": {},
   "outputs": [
    {
     "data": {
      "text/plain": [
       "<sqlite3.Cursor at 0x7f166602c030>"
      ]
     },
     "execution_count": 9,
     "metadata": {},
     "output_type": "execute_result"
    }
   ],
   "source": [
    "# update to include final columns for each table\n",
    "cursor.execute('''CREATE TABLE Product\n",
    "                ([ProductID] TEXT PRIMARY KEY, \n",
    "                [ProductDescription] text, \n",
    "                [CategoryGroup] text, \n",
    "                [Proof] real, \n",
    "                [VendorID] integer)''')\n",
    "\n",
    "cursor.execute('''CREATE TABLE Price\n",
    "                ([ProductID] text, \n",
    "                [Date] date, \n",
    "                [StateBottleRetail] real, \n",
    "                [StateBottleCost] real,\n",
    "                PRIMARY KEY(ProductID, Date, StateBottleRetail))''')\n",
    "\n",
    "cursor.execute('''CREATE TABLE Vendor\n",
    "                ([VendorID] INTEGER PRIMARY KEY, \n",
    "                [VendorName] text)''')\n",
    "\n",
    "cursor.execute('''CREATE TABLE Store\n",
    "                ([StoreID] INTEGER PRIMARY KEY, \n",
    "                [StoreName] text, \n",
    "                [StoreType] text,\n",
    "                [Address] text, \n",
    "                [City] text, \n",
    "                [ZipCode] text, \n",
    "                [County] text, \n",
    "                [lat] real, \n",
    "                [lng] real, \n",
    "                [max] date, \n",
    "                [min] date)''')\n",
    "\n",
    "cursor.execute('''CREATE TABLE Sales\n",
    "                ([TransactionID]  TEXT PRIMARY KEY, \n",
    "                [Date] date, \n",
    "                [StoreID] integer, \n",
    "                [ProductID] text, \n",
    "                [VendorID] integer, \n",
    "                [Pack] integer,\n",
    "                [BottleVolume_ml] real,\n",
    "                [BottlesSold] integer, \n",
    "                [VolumeSold_Liters] real, \n",
    "                [Sale_Dollars] real)''')\n",
    "\n",
    "cursor.execute('''CREATE TABLE County      \n",
    "                ([County] text, \n",
    "                [Year] text, \n",
    "                [Population] integer, \n",
    "                [Income_PerCapita] integer, \n",
    "                [LABORFORCE] integer, \n",
    "                [EMPLOYMENT] integer,\n",
    "                [UNEMPLOYMENT] real,\n",
    "                [UNEMPLOYMENT_RATE] real,\n",
    "                PRIMARY KEY(County, Year))''')"
   ]
  },
  {
   "cell_type": "code",
   "execution_count": 10,
   "id": "f73e6f03",
   "metadata": {},
   "outputs": [],
   "source": [
    "product.to_sql('Product', dbconn, if_exists = 'append', index = False)\n",
    "product_price.to_sql('Price', dbconn, if_exists = 'append', index = False)\n",
    "vendor.to_sql('Vendor', dbconn, if_exists = 'append', index = False)\n",
    "store.to_sql('Store', dbconn, if_exists = 'append', index = False)\n",
    "transaction.to_sql('Sales', dbconn, if_exists = 'append', index = False)\n",
    "county_table.to_sql('County', dbconn, if_exists = 'append', index = False)"
   ]
  },
  {
   "cell_type": "code",
   "execution_count": 11,
   "id": "7cb499e8",
   "metadata": {},
   "outputs": [],
   "source": [
    "dbconn.commit()"
   ]
  },
  {
   "cell_type": "code",
   "execution_count": 12,
   "id": "7ce46e35",
   "metadata": {},
   "outputs": [],
   "source": [
    "dbconn.close()"
   ]
  },
  {
   "cell_type": "code",
   "execution_count": null,
   "id": "b7a0c883",
   "metadata": {},
   "outputs": [],
   "source": []
  }
 ],
 "metadata": {
  "kernelspec": {
   "display_name": "Python 3 (ipykernel)",
   "language": "python",
   "name": "python3"
  },
  "language_info": {
   "codemirror_mode": {
    "name": "ipython",
    "version": 3
   },
   "file_extension": ".py",
   "mimetype": "text/x-python",
   "name": "python",
   "nbconvert_exporter": "python",
   "pygments_lexer": "ipython3",
   "version": "3.9.7"
  }
 },
 "nbformat": 4,
 "nbformat_minor": 5
}
