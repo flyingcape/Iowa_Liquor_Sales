{
 "cells": [
  {
   "cell_type": "markdown",
   "id": "563e5f23",
   "metadata": {},
   "source": [
    "# Set-up SQLite Database"
   ]
  },
  {
   "cell_type": "code",
   "execution_count": 1,
   "id": "02a6d21e",
   "metadata": {},
   "outputs": [
    {
     "name": "stdout",
     "output_type": "stream",
     "text": [
      "2.6.0\n",
      "3.36.0\n"
     ]
    }
   ],
   "source": [
    "import sqlite3\n",
    "import pandas as pd\n",
    "import numpy as np\n",
    "\n",
    "pd.set_option('display.max_rows', 500)\n",
    "pd.set_option('display.max_columns', 500)\n",
    "\n",
    "print(sqlite3.version)\n",
    "print(sqlite3.sqlite_version)"
   ]
  },
  {
   "cell_type": "code",
   "execution_count": 2,
   "id": "f6421747",
   "metadata": {},
   "outputs": [
    {
     "name": "stderr",
     "output_type": "stream",
     "text": [
      "/opt/conda/lib/python3.9/site-packages/IPython/core/interactiveshell.py:3444: DtypeWarning: Columns (1) have mixed types.Specify dtype option on import or set low_memory=False.\n",
      "  exec(code_obj, self.user_global_ns, self.user_ns)\n",
      "/opt/conda/lib/python3.9/site-packages/IPython/core/interactiveshell.py:3444: DtypeWarning: Columns (4) have mixed types.Specify dtype option on import or set low_memory=False.\n",
      "  exec(code_obj, self.user_global_ns, self.user_ns)\n"
     ]
    }
   ],
   "source": [
    "product = pd.read_csv('../data/product.csv')\n",
    "product_price = pd.read_csv('../data/product_price.csv')\n",
    "vendor = pd.read_csv('../data/vendor.csv')\n",
    "store = pd.read_csv('../data/store.csv')\n",
    "transaction = pd.read_csv('../data/transaction.csv')"
   ]
  },
  {
   "cell_type": "code",
   "execution_count": 3,
   "id": "fe1f7e9a",
   "metadata": {},
   "outputs": [],
   "source": [
    "store.rename(columns = {'Store Number':'StoreID',\n",
    "                        'Store Name':'StoreName',\n",
    "                        'Zip Code':'ZipCode'}, inplace = True)"
   ]
  },
  {
   "cell_type": "code",
   "execution_count": 4,
   "id": "8afa3056",
   "metadata": {},
   "outputs": [],
   "source": [
    "# remove these columns\n",
    "product = product.drop(['CategoryCode','CategoryName'], axis=1)"
   ]
  },
  {
   "cell_type": "code",
   "execution_count": 5,
   "id": "9d33961a",
   "metadata": {},
   "outputs": [
    {
     "name": "stdout",
     "output_type": "stream",
     "text": [
      "product:  Index(['ProductID', 'ProductDescription', 'CategoryGroup', 'Pack',\n",
      "       'BottleVolume_ml', 'Proof', 'VendorID'],\n",
      "      dtype='object')\n",
      "product_price:  Index(['ProductID', 'Date', 'StateBottleRetail', 'StateBottleCost'], dtype='object')\n",
      "vendor:  Index(['VendorID', 'VendorName'], dtype='object')\n",
      "store:  Index(['StoreID', 'StoreName', 'Address', 'City', 'ZipCode', 'County', 'lat',\n",
      "       'lng', 'max', 'min'],\n",
      "      dtype='object')\n",
      "transaction:  Index(['TransactionID', 'Date', 'StoreID', 'ProductID', 'VendorID',\n",
      "       'BottlesSold', 'VolumeSold_Gallons', 'Sale_Dollars'],\n",
      "      dtype='object')\n"
     ]
    }
   ],
   "source": [
    "print('product: ', product.columns)\n",
    "print('product_price: ', product_price.columns)\n",
    "print('vendor: ', vendor.columns)\n",
    "print('store: ', store.columns)\n",
    "print('transaction: ', transaction.columns)"
   ]
  },
  {
   "cell_type": "code",
   "execution_count": 6,
   "id": "f9c06778",
   "metadata": {},
   "outputs": [],
   "source": [
    "# delete database (in folder) if you have added a table previously \n",
    "dbconn = sqlite3.connect('../data/IowaLiquorSales.db') # database\n",
    "cursor = dbconn.cursor() # create a cursor to use to execute sql statements"
   ]
  },
  {
   "cell_type": "code",
   "execution_count": 7,
   "id": "54c2b912",
   "metadata": {},
   "outputs": [
    {
     "data": {
      "text/plain": [
       "<sqlite3.Cursor at 0x7f434afbf030>"
      ]
     },
     "execution_count": 7,
     "metadata": {},
     "output_type": "execute_result"
    }
   ],
   "source": [
    "# update to include final columns for each table\n",
    "cursor.execute('''CREATE TABLE Product\n",
    "                ([ProductID] TEXT PRIMARY KEY, \n",
    "                [ProductDescription] text, \n",
    "                [CategoryGroup] text, \n",
    "                [Pack] integer, \n",
    "                [BottleVolume_ml] real, \n",
    "                [Proof] real, \n",
    "                [VendorID] integer)''')\n",
    "\n",
    "cursor.execute('''CREATE TABLE Price\n",
    "                ([ProductID] text, \n",
    "                [Date] date, \n",
    "                [StateBottleRetail] real, \n",
    "                [StateBottleCost] real,\n",
    "                PRIMARY KEY(ProductID, Date, StateBottleRetail))''')\n",
    "\n",
    "cursor.execute('''CREATE TABLE Vendor\n",
    "                ([VendorID] INTEGER PRIMARY KEY, \n",
    "                [VendorName] text)''')\n",
    "\n",
    "cursor.execute('''CREATE TABLE Store\n",
    "                ([StoreID] INTEGER PRIMARY KEY, \n",
    "                [StoreName] text, \n",
    "                [Address] text, \n",
    "                [City] text, \n",
    "                [ZipCode] text, \n",
    "                [County] text, \n",
    "                [lat] real, \n",
    "                [lng] real, \n",
    "                [max] date, \n",
    "                [min] date)''')\n",
    "\n",
    "cursor.execute('''CREATE TABLE Sales\n",
    "                ([TransactionID]  TEXT PRIMARY KEY, \n",
    "                [Date] date, \n",
    "                [StoreID] integer, \n",
    "                [ProductID] text, \n",
    "                [VendorID] integer, \n",
    "                [BottlesSold] integer, \n",
    "                [VolumeSold_Gallons] integer, \n",
    "                [Sale_Dollars] real)''')"
   ]
  },
  {
   "cell_type": "code",
   "execution_count": 8,
   "id": "f73e6f03",
   "metadata": {},
   "outputs": [],
   "source": [
    "product.to_sql('Product', dbconn, if_exists = 'append', index = False)\n",
    "product_price.to_sql('Price', dbconn, if_exists = 'append', index = False)\n",
    "vendor.to_sql('Vendor', dbconn, if_exists = 'append', index = False)\n",
    "store.to_sql('Store', dbconn, if_exists = 'append', index = False)\n",
    "transaction.to_sql('Sales', dbconn, if_exists = 'append', index = False)"
   ]
  },
  {
   "cell_type": "code",
   "execution_count": 9,
   "id": "7cb499e8",
   "metadata": {},
   "outputs": [],
   "source": [
    "dbconn.commit()"
   ]
  },
  {
   "cell_type": "code",
   "execution_count": 10,
   "id": "7ce46e35",
   "metadata": {},
   "outputs": [],
   "source": [
    "dbconn.close()"
   ]
  },
  {
   "cell_type": "code",
   "execution_count": null,
   "id": "b7a0c883",
   "metadata": {},
   "outputs": [],
   "source": []
  },
  {
   "cell_type": "code",
   "execution_count": null,
   "id": "f2945a2a",
   "metadata": {},
   "outputs": [],
   "source": []
  }
 ],
 "metadata": {
  "kernelspec": {
   "display_name": "Python 3 (ipykernel)",
   "language": "python",
   "name": "python3"
  },
  "language_info": {
   "codemirror_mode": {
    "name": "ipython",
    "version": 3
   },
   "file_extension": ".py",
   "mimetype": "text/x-python",
   "name": "python",
   "nbconvert_exporter": "python",
   "pygments_lexer": "ipython3",
   "version": "3.9.7"
  }
 },
 "nbformat": 4,
 "nbformat_minor": 5
}
