{
 "cells": [
  {
   "cell_type": "markdown",
   "id": "563e5f23",
   "metadata": {},
   "source": [
    "# Set-up SQLite Database"
   ]
  },
  {
   "cell_type": "code",
   "execution_count": 30,
   "id": "02a6d21e",
   "metadata": {},
   "outputs": [
    {
     "name": "stdout",
     "output_type": "stream",
     "text": [
      "2.6.0\n",
      "3.36.0\n"
     ]
    }
   ],
   "source": [
    "import sqlite3\n",
    "import pandas as pd\n",
    "import numpy as np\n",
    "\n",
    "pd.set_option('display.max_rows', 500)\n",
    "pd.set_option('display.max_columns', 500)\n",
    "\n",
    "print(sqlite3.version)\n",
    "print(sqlite3.sqlite_version)"
   ]
  },
  {
   "cell_type": "code",
   "execution_count": 31,
   "id": "f6421747",
   "metadata": {},
   "outputs": [
    {
     "name": "stderr",
     "output_type": "stream",
     "text": [
      "/opt/conda/lib/python3.9/site-packages/IPython/core/interactiveshell.py:3444: DtypeWarning: Columns (1) have mixed types.Specify dtype option on import or set low_memory=False.\n",
      "  exec(code_obj, self.user_global_ns, self.user_ns)\n",
      "/opt/conda/lib/python3.9/site-packages/IPython/core/interactiveshell.py:3444: DtypeWarning: Columns (5) have mixed types.Specify dtype option on import or set low_memory=False.\n",
      "  exec(code_obj, self.user_global_ns, self.user_ns)\n"
     ]
    }
   ],
   "source": [
    "product = pd.read_csv('../../data/product.csv')\n",
    "product_price = pd.read_csv('../../data/product_price.csv')\n",
    "vendor = pd.read_csv('../../data/vendor.csv')\n",
    "store = pd.read_csv('../../data/store.csv')\n",
    "transaction = pd.read_csv('../../data/transaction.csv')\n",
    "county_table = pd.read_csv('../../data/county.csv')"
   ]
  },
  {
   "cell_type": "markdown",
   "id": "2ccf57a2",
   "metadata": {},
   "source": [
    "## Last Edits to Tables"
   ]
  },
  {
   "cell_type": "code",
   "execution_count": 36,
   "id": "fe1f7e9a",
   "metadata": {},
   "outputs": [],
   "source": [
    "store.rename(columns = {'Store Number':'StoreID',\n",
    "                        'Store Name':'StoreName',\n",
    "                        'Zip Code':'ZipCode',\n",
    "                       'avg order interval':'avg_order_interval',\n",
    "                       'Density 5mi':'Density_5mi'}, inplace = True)\n",
    "store['StoreName'] = store['StoreName'].str.lower()\n",
    "\n",
    "# Create store type\n",
    "store['StoreType'] = 'Unknown'\n",
    "store.loc[store.StoreName.str.contains('liquor|spirits|private cellar, inc|wine|cork \\\n",
    "|kimberly mart|the secret cellar|kick the can|mccoy|franklin street floral & gift|benz distributing'), 'StoreType'] = 'Liquor, Spirits & Wine'\n",
    "store.loc[store.StoreName.str.contains('beer city|the cooler|bani|booze|cornerstone apothecary'), 'StoreType'] = 'Liquor, Spirits & Wine'\n",
    "store.loc[store.StoreName.str.contains(\"smoker's genie\"), 'StoreType'] = 'Liquor, Spirits & Wine'\n",
    "store.loc[store.StoreName.str.contains('beer thirty|g corner|blind pig cocktail bodega|beer on floyd'), 'StoreType'] = 'Liquor, Spirits & Wine'\n",
    "store.loc[store.StoreName.str.contains('great pastimes|sodes green acre|kc brothers|leo1'), 'StoreType'] = 'Liquor, Spirits & Wine'\n",
    "store.loc[store.StoreName.str.contains(\"ali's corner\"), 'StoreType'] = 'Liquor, Spirits & Wine'\n",
    "store.loc[store.StoreName.str.contains(\"central city 2\"), 'StoreType'] = 'Liquor, Spirits & Wine'\n",
    "\n",
    "store.loc[store.StoreName.str.contains('bar|last call 2|catfish charlie|eichman enterprises inc'), 'StoreType'] = 'Distillery/Bar/Restaurant'\n",
    "store.loc[store.StoreName.str.contains('distillery|distilery|distillation|distilling| \\\n",
    "distillers|cedar ridge vineyards'), 'StoreType'] = 'Distillery/Bar/Restaurant'\n",
    "\n",
    "store.loc[store.StoreName.str.contains('drugstore|drug|pharmacy|walgreens'), 'StoreType'] = 'Drugstore'\n",
    "\n",
    "store.loc[store.StoreName.str.contains('convenience|honk|beverage|quick|gas|quik|pit stop| \\\n",
    "econ-o-mart|shop n save|kwik|cigarette|tobacco|smoke shop|fast mart|b and b west|mini mart| \\\n",
    "minimart|kellogg country store|prime mart|karam kaur khasriya llc|five star snacks and more'), 'StoreType'] = 'Convenience'\n",
    "store.loc[store.StoreName.str.contains('best trip|econ-o-mart|oky doky|country stop'), 'StoreType'] = 'Convenience'\n",
    "store.loc[store.StoreName.str.contains('expo mart|bucky|kum & go|circle k|car-go-express'), 'StoreType'] = 'Convenience'\n",
    "store.loc[store.StoreName.str.contains('ez stop|speede shop|petro mart|one stop'), 'StoreType'] = 'Convenience'\n",
    "store.loc[store.StoreName.str.contains('select mart|b p|the pumper|indy 66|jiffy express|dyno'), 'StoreType'] = 'Convenience'\n",
    "store.loc[store.StoreName.str.contains('fast break|jiffy mart|truckstop|stop|ez mart|bp'), 'StoreType'] = 'Convenience'\n",
    "store.loc[store.StoreName.str.contains('metro mart|travel center|xpress|conoco|shell'), 'StoreType'] = 'Convenience'\n",
    "store.loc[store.StoreName.str.contains('river mart|decorah mart|music station|river mart|the station'), 'StoreType'] = 'Convenience'\n",
    "store.loc[store.StoreName.str.contains('central mart|country store|cash saver|phillips'), 'StoreType'] = 'Convenience'\n",
    "store.loc[store.StoreName.str.contains('on the go|circle s|c-store|road ranger|mart|yesway'), 'StoreType'] = 'Convenience'\n",
    "store.loc[store.StoreName.str.contains('new star|corner store|fasttrak|the boonedocks|cubby|the depot'), 'StoreType'] = 'Convenience'\n",
    "store.loc[store.StoreName.str.contains('mega saver|pump|git-n-go|oasis|easygo|filling station'), 'StoreType'] = 'Convenience'\n",
    "store.loc[store.StoreName.str.contains('snack shack|casey|mod|hop n shop|brew oil'), 'StoreType'] = 'Convenience'\n",
    "store.loc[store.StoreName.str.contains(\"stan's corner\"), 'StoreType'] = 'Convenience'\n",
    "store.loc[store.StoreName.str.contains('raceway|boji junction|pronto|thunder ridge ampride'), 'StoreType'] = 'Convenience'\n",
    "store.loc[store.StoreName.str.contains(\"todd's\"), 'StoreType'] = 'Convenience'\n",
    "store.loc[store.StoreName.str.contains('l&m mighty shop|oskaloosa watering hole'), 'StoreType'] = 'Convenience'\n",
    "store.loc[store.StoreName.str.contains(\"raymond's station\"), 'StoreType'] = 'Convenience'\n",
    "store.loc[store.StoreName.str.contains('petro|oak street station llc|williams boulevard service'), 'StoreType'] = 'Convenience'\n",
    "store.loc[store.StoreName.str.contains('avenue g store|hampton crossroads|day break|sinclair'), 'StoreType'] = 'Convenience'\n",
    "store.loc[store.StoreName.str.contains('lincoln farm and home|d&t|the hut|fuel|heartland|depot norway'), 'StoreType'] = 'Convenience'\n",
    "store.loc[store.StoreName.str.contains('mcdermott oil co|kimmes wall lake|prime star'), 'StoreType'] = 'Convenience'\n",
    "store.loc[store.StoreName.str.contains('crossroads of algona|jumpstart'), 'StoreType'] = 'Convenience'\n",
    "\n",
    "store.loc[store.StoreName.str.contains('target|wal-mart|sam|costco'), 'StoreType'] = 'Dept. Store'\n",
    "\n",
    "store.loc[store.StoreName.str.contains('food|supermarket|grocery|market|dahl|osco|super valu| \\\n",
    "pantry|huber|hy-vee|save a lot|super saver|thriftway|fareway|wapello jack and jill'), 'StoreType'] = 'Food & Grocery'\n",
    "store.loc[store.StoreName.str.contains('groceries|price chopper|jack n jill'), 'StoreType'] = 'Food & Grocery'\n",
    "store.loc[store.StoreName.str.contains('jack & jill|save more|jim and charlies affiliated'), 'StoreType'] = 'Food & Grocery'\n",
    "store.loc[store.StoreName.str.contains('lansing iga|corwith farm service'), 'StoreType'] = 'Food & Grocery'\n",
    "store.loc[store.StoreName.str.contains('general store|dollar store'), 'StoreType'] = 'Food & Grocery'\n",
    "\n",
    "store.loc[store.StoreName.str.contains('adventureland inn|marriott|prairie meadows|casino|10th hole inn & suite'), 'StoreType'] = 'Hotel/Casino'\n",
    "store.loc[store.StoreName.str.contains('honey creek resort state park'), 'StoreType'] = 'Hotel/Casino'"
   ]
  },
  {
   "cell_type": "code",
   "execution_count": 37,
   "id": "3a009042",
   "metadata": {},
   "outputs": [
    {
     "data": {
      "text/plain": [
       "StoreType\n",
       "Convenience                   888\n",
       "Dept. Store                    96\n",
       "Distillery/Bar/Restaurant      41\n",
       "Drugstore                      96\n",
       "Food & Grocery               1211\n",
       "Hotel/Casino                   12\n",
       "Liquor, Spirits & Wine        253\n",
       "Unknown                        93\n",
       "dtype: int64"
      ]
     },
     "execution_count": 37,
     "metadata": {},
     "output_type": "execute_result"
    }
   ],
   "source": [
    "store.groupby('StoreType').size()"
   ]
  },
  {
   "cell_type": "code",
   "execution_count": 20,
   "id": "163de386",
   "metadata": {},
   "outputs": [],
   "source": [
    "#store.to_csv('../../data/store.csv', index_label = False)"
   ]
  },
  {
   "cell_type": "code",
   "execution_count": 38,
   "id": "8afa3056",
   "metadata": {},
   "outputs": [],
   "source": [
    "# remove these columns\n",
    "product = product.drop(['CategoryCode','CategoryName'], axis=1)"
   ]
  },
  {
   "cell_type": "code",
   "execution_count": 39,
   "id": "2c99ff29",
   "metadata": {},
   "outputs": [],
   "source": [
    "# rename to remove space\n",
    "county_table.rename(columns = {'UNEMPLOYMENT RATE':'UNEMPLOYMENT_RATE'}, inplace = True)"
   ]
  },
  {
   "cell_type": "code",
   "execution_count": 40,
   "id": "9d33961a",
   "metadata": {},
   "outputs": [
    {
     "name": "stdout",
     "output_type": "stream",
     "text": [
      "product:  Index(['ProductID', 'ProductDescription', 'CategoryGroup', 'Proof',\n",
      "       'VendorID'],\n",
      "      dtype='object')\n",
      "product_price:  Index(['ProductID', 'Date', 'StateBottleRetail', 'StateBottleCost'], dtype='object')\n",
      "vendor:  Index(['VendorID', 'VendorName'], dtype='object')\n",
      "store:  Index(['StoreID', 'StoreName', 'County', 'lat', 'lng', 'max', 'min', 'Freq',\n",
      "       'avg_order_interval', 'active', 'Density_5mi', 'StoreType'],\n",
      "      dtype='object')\n",
      "transaction:  Index(['TransactionID', 'Date', 'Year', 'StoreID', 'ProductID', 'VendorID',\n",
      "       'Pack', 'BottleVolume_ml', 'BottlesSold', 'VolumeSold_Liters',\n",
      "       'Sale_Dollars'],\n",
      "      dtype='object')\n",
      "county:  Index(['County', 'Year', 'Population', 'Income_PerCapita', 'LABORFORCE',\n",
      "       'EMPLOYMENT', 'UNEMPLOYMENT', 'UNEMPLOYMENT_RATE'],\n",
      "      dtype='object')\n"
     ]
    }
   ],
   "source": [
    "print('product: ', product.columns)\n",
    "print('product_price: ', product_price.columns)\n",
    "print('vendor: ', vendor.columns)\n",
    "print('store: ', store.columns)\n",
    "print('transaction: ', transaction.columns)\n",
    "print('county: ', county_table.columns)"
   ]
  },
  {
   "cell_type": "markdown",
   "id": "9a6d8335",
   "metadata": {},
   "source": [
    "# Create Database"
   ]
  },
  {
   "cell_type": "code",
   "execution_count": 41,
   "id": "f9c06778",
   "metadata": {},
   "outputs": [],
   "source": [
    "# delete database (in folder) if you have added a table previously \n",
    "dbconn = sqlite3.connect('../../data/IowaLiquorSales.db') # database\n",
    "cursor = dbconn.cursor() # create a cursor to use to execute sql statements"
   ]
  },
  {
   "cell_type": "code",
   "execution_count": 42,
   "id": "54c2b912",
   "metadata": {},
   "outputs": [
    {
     "data": {
      "text/plain": [
       "<sqlite3.Cursor at 0x7ff137706340>"
      ]
     },
     "execution_count": 42,
     "metadata": {},
     "output_type": "execute_result"
    }
   ],
   "source": [
    "cursor.execute('''CREATE TABLE Product\n",
    "                ([ProductID] TEXT PRIMARY KEY, \n",
    "                [ProductDescription] text, \n",
    "                [CategoryGroup] text, \n",
    "                [Proof] real, \n",
    "                [VendorID] integer)''')\n",
    "\n",
    "cursor.execute('''CREATE TABLE Price\n",
    "                ([ProductID] text, \n",
    "                [Date] date, \n",
    "                [StateBottleRetail] real, \n",
    "                [StateBottleCost] real,\n",
    "                PRIMARY KEY(ProductID, Date, StateBottleRetail))''')\n",
    "\n",
    "cursor.execute('''CREATE TABLE Vendor\n",
    "                ([VendorID] INTEGER PRIMARY KEY, \n",
    "                [VendorName] text)''')\n",
    "\n",
    "cursor.execute('''CREATE TABLE Store\n",
    "                ([StoreID] INTEGER PRIMARY KEY, \n",
    "                [StoreName] text, \n",
    "                [Address] text, \n",
    "                [City] text, \n",
    "                [ZipCode] text, \n",
    "                [County] text, \n",
    "                [lat] real, \n",
    "                [lng] real, \n",
    "                [max] date, \n",
    "                [min] date,\n",
    "                [Freq] real,\n",
    "                [avg_order_interval] integer,\n",
    "                [active] text,\n",
    "                [Density_5mi] integer,\n",
    "                [StoreType] text)''')\n",
    "\n",
    "cursor.execute('''CREATE TABLE Sales\n",
    "                ([TransactionID]  TEXT PRIMARY KEY, \n",
    "                [Date] date, \n",
    "                [Year] text,\n",
    "                [StoreID] integer, \n",
    "                [ProductID] text, \n",
    "                [VendorID] integer, \n",
    "                [Pack] integer,\n",
    "                [BottleVolume_ml] real,\n",
    "                [BottlesSold] integer, \n",
    "                [VolumeSold_Liters] real, \n",
    "                [Sale_Dollars] real)''')\n",
    "\n",
    "cursor.execute('''CREATE TABLE County      \n",
    "                ([County] text, \n",
    "                [Year] text, \n",
    "                [Population] integer, \n",
    "                [Income_PerCapita] integer, \n",
    "                [LABORFORCE] integer, \n",
    "                [EMPLOYMENT] integer,\n",
    "                [UNEMPLOYMENT] real,\n",
    "                [UNEMPLOYMENT_RATE] real,\n",
    "                PRIMARY KEY(County, Year))''')"
   ]
  },
  {
   "cell_type": "code",
   "execution_count": 43,
   "id": "f73e6f03",
   "metadata": {},
   "outputs": [],
   "source": [
    "product.to_sql('Product', dbconn, if_exists = 'append', index = False)\n",
    "product_price.to_sql('Price', dbconn, if_exists = 'append', index = False)\n",
    "vendor.to_sql('Vendor', dbconn, if_exists = 'append', index = False)\n",
    "store.to_sql('Store', dbconn, if_exists = 'append', index = False)\n",
    "transaction.to_sql('Sales', dbconn, if_exists = 'append', index = False)\n",
    "county_table.to_sql('County', dbconn, if_exists = 'append', index = False)"
   ]
  },
  {
   "cell_type": "code",
   "execution_count": 44,
   "id": "7cb499e8",
   "metadata": {},
   "outputs": [],
   "source": [
    "dbconn.commit()"
   ]
  },
  {
   "cell_type": "code",
   "execution_count": 45,
   "id": "7ce46e35",
   "metadata": {},
   "outputs": [],
   "source": [
    "dbconn.close()"
   ]
  },
  {
   "cell_type": "code",
   "execution_count": null,
   "id": "b7a0c883",
   "metadata": {},
   "outputs": [],
   "source": []
  }
 ],
 "metadata": {
  "kernelspec": {
   "display_name": "Python 3 (ipykernel)",
   "language": "python",
   "name": "python3"
  },
  "language_info": {
   "codemirror_mode": {
    "name": "ipython",
    "version": 3
   },
   "file_extension": ".py",
   "mimetype": "text/x-python",
   "name": "python",
   "nbconvert_exporter": "python",
   "pygments_lexer": "ipython3",
   "version": "3.9.7"
  }
 },
 "nbformat": 4,
 "nbformat_minor": 5
}
