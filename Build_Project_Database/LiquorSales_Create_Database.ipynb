{
 "cells": [
  {
   "cell_type": "markdown",
   "id": "563e5f23",
   "metadata": {},
   "source": [
    "# Set-up SQLite Database"
   ]
  },
  {
   "cell_type": "code",
   "execution_count": 1,
   "id": "02a6d21e",
   "metadata": {},
   "outputs": [
    {
     "name": "stdout",
     "output_type": "stream",
     "text": [
      "2.6.0\n",
      "3.36.0\n"
     ]
    }
   ],
   "source": [
    "import sqlite3\n",
    "import pandas as pd\n",
    "import numpy as np\n",
    "\n",
    "pd.set_option('display.max_rows', 500)\n",
    "pd.set_option('display.max_columns', 500)\n",
    "\n",
    "print(sqlite3.version)\n",
    "print(sqlite3.sqlite_version)"
   ]
  },
  {
   "cell_type": "code",
   "execution_count": 2,
   "id": "f6421747",
   "metadata": {},
   "outputs": [
    {
     "name": "stderr",
     "output_type": "stream",
     "text": [
      "/opt/conda/lib/python3.9/site-packages/IPython/core/interactiveshell.py:3444: DtypeWarning: Columns (1) have mixed types.Specify dtype option on import or set low_memory=False.\n",
      "  exec(code_obj, self.user_global_ns, self.user_ns)\n",
      "/opt/conda/lib/python3.9/site-packages/IPython/core/interactiveshell.py:3444: DtypeWarning: Columns (4) have mixed types.Specify dtype option on import or set low_memory=False.\n",
      "  exec(code_obj, self.user_global_ns, self.user_ns)\n"
     ]
    }
   ],
   "source": [
    "product = pd.read_csv('../../data/product.csv')\n",
    "product_price = pd.read_csv('../../data/product_price.csv')\n",
    "vendor = pd.read_csv('../../data/vendor.csv')\n",
    "store = pd.read_csv('../../data/store.csv')\n",
    "transaction = pd.read_csv('../../data/transaction.csv')\n",
    "county_table = pd.read_csv('../../data/county.csv')"
   ]
  },
  {
   "cell_type": "code",
   "execution_count": 3,
   "id": "57495b81",
   "metadata": {},
   "outputs": [
    {
     "data": {
      "text/html": [
       "<div>\n",
       "<style scoped>\n",
       "    .dataframe tbody tr th:only-of-type {\n",
       "        vertical-align: middle;\n",
       "    }\n",
       "\n",
       "    .dataframe tbody tr th {\n",
       "        vertical-align: top;\n",
       "    }\n",
       "\n",
       "    .dataframe thead th {\n",
       "        text-align: right;\n",
       "    }\n",
       "</style>\n",
       "<table border=\"1\" class=\"dataframe\">\n",
       "  <thead>\n",
       "    <tr style=\"text-align: right;\">\n",
       "      <th></th>\n",
       "      <th>County</th>\n",
       "      <th>Year</th>\n",
       "      <th>Population</th>\n",
       "      <th>Income_PerCapita</th>\n",
       "      <th>LABORFORCE</th>\n",
       "      <th>EMPLOYMENT</th>\n",
       "      <th>UNEMPLOYMENT</th>\n",
       "      <th>UNEMPLOYMENT RATE</th>\n",
       "    </tr>\n",
       "  </thead>\n",
       "  <tbody>\n",
       "    <tr>\n",
       "      <th>0</th>\n",
       "      <td>adair</td>\n",
       "      <td>2010</td>\n",
       "      <td>7679</td>\n",
       "      <td>35209.0</td>\n",
       "      <td>4190</td>\n",
       "      <td>3970</td>\n",
       "      <td>220</td>\n",
       "      <td>5.2</td>\n",
       "    </tr>\n",
       "    <tr>\n",
       "      <th>1</th>\n",
       "      <td>adams</td>\n",
       "      <td>2010</td>\n",
       "      <td>4023</td>\n",
       "      <td>37156.0</td>\n",
       "      <td>2270</td>\n",
       "      <td>2170</td>\n",
       "      <td>100</td>\n",
       "      <td>4.5</td>\n",
       "    </tr>\n",
       "    <tr>\n",
       "      <th>2</th>\n",
       "      <td>allamakee</td>\n",
       "      <td>2010</td>\n",
       "      <td>14377</td>\n",
       "      <td>34590.0</td>\n",
       "      <td>7960</td>\n",
       "      <td>7410</td>\n",
       "      <td>550</td>\n",
       "      <td>6.9</td>\n",
       "    </tr>\n",
       "    <tr>\n",
       "      <th>3</th>\n",
       "      <td>appanoose</td>\n",
       "      <td>2010</td>\n",
       "      <td>12861</td>\n",
       "      <td>29930.0</td>\n",
       "      <td>6340</td>\n",
       "      <td>5930</td>\n",
       "      <td>410</td>\n",
       "      <td>6.5</td>\n",
       "    </tr>\n",
       "    <tr>\n",
       "      <th>4</th>\n",
       "      <td>audubon</td>\n",
       "      <td>2010</td>\n",
       "      <td>6094</td>\n",
       "      <td>39455.0</td>\n",
       "      <td>3570</td>\n",
       "      <td>3380</td>\n",
       "      <td>180</td>\n",
       "      <td>5.1</td>\n",
       "    </tr>\n",
       "  </tbody>\n",
       "</table>\n",
       "</div>"
      ],
      "text/plain": [
       "      County  Year  Population  Income_PerCapita  LABORFORCE  EMPLOYMENT  \\\n",
       "0      adair  2010        7679           35209.0        4190        3970   \n",
       "1      adams  2010        4023           37156.0        2270        2170   \n",
       "2  allamakee  2010       14377           34590.0        7960        7410   \n",
       "3  appanoose  2010       12861           29930.0        6340        5930   \n",
       "4    audubon  2010        6094           39455.0        3570        3380   \n",
       "\n",
       "   UNEMPLOYMENT  UNEMPLOYMENT RATE  \n",
       "0           220                5.2  \n",
       "1           100                4.5  \n",
       "2           550                6.9  \n",
       "3           410                6.5  \n",
       "4           180                5.1  "
      ]
     },
     "execution_count": 3,
     "metadata": {},
     "output_type": "execute_result"
    }
   ],
   "source": [
    "county_table.head()"
   ]
  },
  {
   "cell_type": "code",
   "execution_count": 4,
   "id": "12c82704",
   "metadata": {},
   "outputs": [
    {
     "data": {
      "text/html": [
       "<div>\n",
       "<style scoped>\n",
       "    .dataframe tbody tr th:only-of-type {\n",
       "        vertical-align: middle;\n",
       "    }\n",
       "\n",
       "    .dataframe tbody tr th {\n",
       "        vertical-align: top;\n",
       "    }\n",
       "\n",
       "    .dataframe thead th {\n",
       "        text-align: right;\n",
       "    }\n",
       "</style>\n",
       "<table border=\"1\" class=\"dataframe\">\n",
       "  <thead>\n",
       "    <tr style=\"text-align: right;\">\n",
       "      <th></th>\n",
       "      <th>Store Number</th>\n",
       "      <th>Store Name</th>\n",
       "      <th>County</th>\n",
       "      <th>lat</th>\n",
       "      <th>lng</th>\n",
       "      <th>max</th>\n",
       "      <th>min</th>\n",
       "      <th>Freq</th>\n",
       "      <th>avg order interval</th>\n",
       "      <th>active</th>\n",
       "      <th>Density 5mi</th>\n",
       "    </tr>\n",
       "  </thead>\n",
       "  <tbody>\n",
       "    <tr>\n",
       "      <th>0</th>\n",
       "      <td>2106</td>\n",
       "      <td>hillstreet news and tobacco</td>\n",
       "      <td>black hawk</td>\n",
       "      <td>42.51718</td>\n",
       "      <td>-92.45608</td>\n",
       "      <td>2022-01-27</td>\n",
       "      <td>2012-01-05</td>\n",
       "      <td>530</td>\n",
       "      <td>7 days</td>\n",
       "      <td>Active</td>\n",
       "      <td>26</td>\n",
       "    </tr>\n",
       "    <tr>\n",
       "      <th>1</th>\n",
       "      <td>2113</td>\n",
       "      <td>jamboree foods</td>\n",
       "      <td>webster</td>\n",
       "      <td>42.28036</td>\n",
       "      <td>-94.28940</td>\n",
       "      <td>2020-02-03</td>\n",
       "      <td>2012-01-04</td>\n",
       "      <td>387</td>\n",
       "      <td>8 days</td>\n",
       "      <td>Shutdown</td>\n",
       "      <td>0</td>\n",
       "    </tr>\n",
       "    <tr>\n",
       "      <th>2</th>\n",
       "      <td>2130</td>\n",
       "      <td>sycamore convenience</td>\n",
       "      <td>black hawk</td>\n",
       "      <td>42.49810</td>\n",
       "      <td>-92.33507</td>\n",
       "      <td>2022-01-27</td>\n",
       "      <td>2012-01-05</td>\n",
       "      <td>526</td>\n",
       "      <td>7 days</td>\n",
       "      <td>Active</td>\n",
       "      <td>51</td>\n",
       "    </tr>\n",
       "    <tr>\n",
       "      <th>3</th>\n",
       "      <td>2132</td>\n",
       "      <td>spirits and such</td>\n",
       "      <td>fayette</td>\n",
       "      <td>42.96115</td>\n",
       "      <td>-91.80796</td>\n",
       "      <td>2012-04-23</td>\n",
       "      <td>2012-01-09</td>\n",
       "      <td>16</td>\n",
       "      <td>7 days</td>\n",
       "      <td>Shutdown</td>\n",
       "      <td>0</td>\n",
       "    </tr>\n",
       "    <tr>\n",
       "      <th>4</th>\n",
       "      <td>2152</td>\n",
       "      <td>dugans supermarket</td>\n",
       "      <td>cerro gordo</td>\n",
       "      <td>42.98635</td>\n",
       "      <td>-93.18789</td>\n",
       "      <td>2016-03-17</td>\n",
       "      <td>2012-01-09</td>\n",
       "      <td>217</td>\n",
       "      <td>7 days</td>\n",
       "      <td>Shutdown</td>\n",
       "      <td>0</td>\n",
       "    </tr>\n",
       "  </tbody>\n",
       "</table>\n",
       "</div>"
      ],
      "text/plain": [
       "   Store Number                   Store Name       County       lat       lng  \\\n",
       "0          2106  hillstreet news and tobacco   black hawk  42.51718 -92.45608   \n",
       "1          2113               jamboree foods      webster  42.28036 -94.28940   \n",
       "2          2130         sycamore convenience   black hawk  42.49810 -92.33507   \n",
       "3          2132             spirits and such      fayette  42.96115 -91.80796   \n",
       "4          2152           dugans supermarket  cerro gordo  42.98635 -93.18789   \n",
       "\n",
       "          max         min  Freq avg order interval    active  Density 5mi  \n",
       "0  2022-01-27  2012-01-05   530             7 days    Active           26  \n",
       "1  2020-02-03  2012-01-04   387             8 days  Shutdown            0  \n",
       "2  2022-01-27  2012-01-05   526             7 days    Active           51  \n",
       "3  2012-04-23  2012-01-09    16             7 days  Shutdown            0  \n",
       "4  2016-03-17  2012-01-09   217             7 days  Shutdown            0  "
      ]
     },
     "execution_count": 4,
     "metadata": {},
     "output_type": "execute_result"
    }
   ],
   "source": [
    "store.head()"
   ]
  },
  {
   "cell_type": "code",
   "execution_count": 5,
   "id": "fe1f7e9a",
   "metadata": {},
   "outputs": [],
   "source": [
    "store.rename(columns = {'Store Number':'StoreID',\n",
    "                        'Store Name':'StoreName',\n",
    "                        'Zip Code':'ZipCode',\n",
    "                       'avg order interval':'avg_order_interval',\n",
    "                       'Density 5mi':'Density_5mi'}, inplace = True)\n",
    "store['StoreName'] = store['StoreName'].str.lower()\n",
    "\n",
    "# Create store type\n",
    "store['StoreType'] = 'Unknown'\n",
    "store.loc[store.StoreName.str.contains('liquor|spirits|wine|bottle|cellar|cork|casino|bar|prairie meadows|distillery|distilery|distillation|distilling|distillers|iowa legendary rye|templeton rye|johnson brothers wirtz|kick the can'), 'StoreType'] = 'Wine & Spirits'\n",
    "store.loc[store.StoreName.str.contains('drugstore|drug|pharmacy|drug store'), 'StoreType'] = 'Drugstore'\n",
    "store.loc[store.StoreName.str.contains('food|supermarket|grocery|market|dahl|super valu|sam|pantry|target|wal-mart|huber|hy-vee|super saver'), 'StoreType'] = 'Food/Dept. Store'\n",
    "store.loc[store.StoreName.str.contains('convenience|honk|beverage|quick|gas|quik|pit stop|news and tobacco|econ-o-mart'), 'StoreType'] = 'Convenience'\n",
    "store.loc[store.StoreName.str.contains('adventureland inn|marriott'), 'StoreType'] = 'Hotel'"
   ]
  },
  {
   "cell_type": "code",
   "execution_count": 6,
   "id": "3a009042",
   "metadata": {},
   "outputs": [
    {
     "data": {
      "text/plain": [
       "StoreType\n",
       "Convenience          155\n",
       "Drugstore             27\n",
       "Food/Dept. Store     619\n",
       "Hotel                  2\n",
       "Unknown             1500\n",
       "Wine & Spirits       387\n",
       "dtype: int64"
      ]
     },
     "execution_count": 6,
     "metadata": {},
     "output_type": "execute_result"
    }
   ],
   "source": [
    "store.groupby('StoreType').size()"
   ]
  },
  {
   "cell_type": "code",
   "execution_count": 7,
   "id": "a05d830e",
   "metadata": {},
   "outputs": [],
   "source": [
    "# store.loc[store['StoreType']=='Unknown']"
   ]
  },
  {
   "cell_type": "code",
   "execution_count": 8,
   "id": "8afa3056",
   "metadata": {},
   "outputs": [],
   "source": [
    "# remove these columns\n",
    "product = product.drop(['CategoryCode','CategoryName'], axis=1)"
   ]
  },
  {
   "cell_type": "code",
   "execution_count": 9,
   "id": "2c99ff29",
   "metadata": {},
   "outputs": [],
   "source": [
    "# rename to remove space\n",
    "county_table.rename(columns = {'UNEMPLOYMENT RATE':'UNEMPLOYMENT_RATE'}, inplace = True)"
   ]
  },
  {
   "cell_type": "code",
   "execution_count": 10,
   "id": "9d33961a",
   "metadata": {},
   "outputs": [
    {
     "name": "stdout",
     "output_type": "stream",
     "text": [
      "product:  Index(['ProductID', 'ProductDescription', 'CategoryGroup', 'Proof',\n",
      "       'VendorID'],\n",
      "      dtype='object')\n",
      "product_price:  Index(['ProductID', 'Date', 'StateBottleRetail', 'StateBottleCost'], dtype='object')\n",
      "vendor:  Index(['VendorID', 'VendorName'], dtype='object')\n",
      "store:  Index(['StoreID', 'StoreName', 'County', 'lat', 'lng', 'max', 'min', 'Freq',\n",
      "       'avg_order_interval', 'active', 'Density_5mi', 'StoreType'],\n",
      "      dtype='object')\n",
      "transaction:  Index(['TransactionID', 'Date', 'StoreID', 'ProductID', 'VendorID', 'Pack',\n",
      "       'BottleVolume_ml', 'BottlesSold', 'VolumeSold_Liters', 'Sale_Dollars'],\n",
      "      dtype='object')\n",
      "county:  Index(['County', 'Year', 'Population', 'Income_PerCapita', 'LABORFORCE',\n",
      "       'EMPLOYMENT', 'UNEMPLOYMENT', 'UNEMPLOYMENT_RATE'],\n",
      "      dtype='object')\n"
     ]
    }
   ],
   "source": [
    "print('product: ', product.columns)\n",
    "print('product_price: ', product_price.columns)\n",
    "print('vendor: ', vendor.columns)\n",
    "print('store: ', store.columns)\n",
    "print('transaction: ', transaction.columns)\n",
    "print('county: ', county_table.columns)"
   ]
  },
  {
   "cell_type": "code",
   "execution_count": 13,
   "id": "f9c06778",
   "metadata": {},
   "outputs": [],
   "source": [
    "# delete database (in folder) if you have added a table previously \n",
    "dbconn = sqlite3.connect('../../data/IowaLiquorSales.db') # database\n",
    "cursor = dbconn.cursor() # create a cursor to use to execute sql statements"
   ]
  },
  {
   "cell_type": "code",
   "execution_count": 14,
   "id": "54c2b912",
   "metadata": {},
   "outputs": [
    {
     "data": {
      "text/plain": [
       "<sqlite3.Cursor at 0x7f13835a7c00>"
      ]
     },
     "execution_count": 14,
     "metadata": {},
     "output_type": "execute_result"
    }
   ],
   "source": [
    "# update to include final columns for each table\n",
    "cursor.execute('''CREATE TABLE Product\n",
    "                ([ProductID] TEXT PRIMARY KEY, \n",
    "                [ProductDescription] text, \n",
    "                [CategoryGroup] text, \n",
    "                [Proof] real, \n",
    "                [VendorID] integer)''')\n",
    "\n",
    "cursor.execute('''CREATE TABLE Price\n",
    "                ([ProductID] text, \n",
    "                [Date] date, \n",
    "                [StateBottleRetail] real, \n",
    "                [StateBottleCost] real,\n",
    "                PRIMARY KEY(ProductID, Date, StateBottleRetail))''')\n",
    "\n",
    "cursor.execute('''CREATE TABLE Vendor\n",
    "                ([VendorID] INTEGER PRIMARY KEY, \n",
    "                [VendorName] text)''')\n",
    "\n",
    "cursor.execute('''CREATE TABLE Store\n",
    "                ([StoreID] INTEGER PRIMARY KEY, \n",
    "                [StoreName] text, \n",
    "                [Address] text, \n",
    "                [City] text, \n",
    "                [ZipCode] text, \n",
    "                [County] text, \n",
    "                [lat] real, \n",
    "                [lng] real, \n",
    "                [max] date, \n",
    "                [min] date,\n",
    "                [Freq] real,\n",
    "                [avg_order_interval] integer,\n",
    "                [active] text,\n",
    "                [Density_5mi] integer,\n",
    "                [StoreType] text)''')\n",
    "\n",
    "cursor.execute('''CREATE TABLE Sales\n",
    "                ([TransactionID]  TEXT PRIMARY KEY, \n",
    "                [Date] date, \n",
    "                [StoreID] integer, \n",
    "                [ProductID] text, \n",
    "                [VendorID] integer, \n",
    "                [Pack] integer,\n",
    "                [BottleVolume_ml] real,\n",
    "                [BottlesSold] integer, \n",
    "                [VolumeSold_Liters] real, \n",
    "                [Sale_Dollars] real)''')\n",
    "\n",
    "cursor.execute('''CREATE TABLE County      \n",
    "                ([County] text, \n",
    "                [Year] text, \n",
    "                [Population] integer, \n",
    "                [Income_PerCapita] integer, \n",
    "                [LABORFORCE] integer, \n",
    "                [EMPLOYMENT] integer,\n",
    "                [UNEMPLOYMENT] real,\n",
    "                [UNEMPLOYMENT_RATE] real,\n",
    "                PRIMARY KEY(County, Year))''')"
   ]
  },
  {
   "cell_type": "code",
   "execution_count": 15,
   "id": "f73e6f03",
   "metadata": {},
   "outputs": [],
   "source": [
    "product.to_sql('Product', dbconn, if_exists = 'append', index = False)\n",
    "product_price.to_sql('Price', dbconn, if_exists = 'append', index = False)\n",
    "vendor.to_sql('Vendor', dbconn, if_exists = 'append', index = False)\n",
    "store.to_sql('Store', dbconn, if_exists = 'append', index = False)\n",
    "transaction.to_sql('Sales', dbconn, if_exists = 'append', index = False)\n",
    "county_table.to_sql('County', dbconn, if_exists = 'append', index = False)"
   ]
  },
  {
   "cell_type": "code",
   "execution_count": 16,
   "id": "7cb499e8",
   "metadata": {},
   "outputs": [],
   "source": [
    "dbconn.commit()"
   ]
  },
  {
   "cell_type": "code",
   "execution_count": 17,
   "id": "7ce46e35",
   "metadata": {},
   "outputs": [],
   "source": [
    "dbconn.close()"
   ]
  },
  {
   "cell_type": "code",
   "execution_count": null,
   "id": "b7a0c883",
   "metadata": {},
   "outputs": [],
   "source": []
  }
 ],
 "metadata": {
  "kernelspec": {
   "display_name": "Python 3 (ipykernel)",
   "language": "python",
   "name": "python3"
  },
  "language_info": {
   "codemirror_mode": {
    "name": "ipython",
    "version": 3
   },
   "file_extension": ".py",
   "mimetype": "text/x-python",
   "name": "python",
   "nbconvert_exporter": "python",
   "pygments_lexer": "ipython3",
   "version": "3.9.7"
  }
 },
 "nbformat": 4,
 "nbformat_minor": 5
}
